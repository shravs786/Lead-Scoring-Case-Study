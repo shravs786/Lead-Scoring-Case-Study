{
 "cells": [
  {
   "cell_type": "code",
   "execution_count": 1,
   "id": "4fbccf7e",
   "metadata": {},
   "outputs": [],
   "source": [
    "#Importing libraries\n",
    "\n",
    "import warnings\n",
    "warnings.filterwarnings('ignore')\n",
    "# Importing Pandas and NumPy\n",
    "import pandas as pd, numpy as np\n",
    "# Importing matplotlib and seaborn\n",
    "import matplotlib.pyplot as plt\n",
    "import seaborn as sns\n",
    "# visulaisation\n",
    "from matplotlib.pyplot import xticks\n",
    "\n",
    "from sklearn.model_selection import train_test_split\n",
    "from sklearn.preprocessing import StandardScaler\n",
    "from sklearn.linear_model import LogisticRegression\n",
    "from sklearn.feature_selection import RFE\n",
    "from statsmodels.stats.outliers_influence import variance_inflation_factor\n",
    "from sklearn import metrics\n",
    "%matplotlib inline\n",
    "import statsmodels.api as sm\n",
    "\n"
   ]
  },
  {
   "cell_type": "markdown",
   "id": "1787989b",
   "metadata": {},
   "source": [
    "### Loading Dataset"
   ]
  },
  {
   "cell_type": "code",
   "execution_count": 2,
   "id": "1ac9c3ff",
   "metadata": {},
   "outputs": [],
   "source": [
    "leads= pd.read_csv('Leads.csv', encoding=' ISO-8859-1')"
   ]
  },
  {
   "cell_type": "code",
   "execution_count": 3,
   "id": "1799a176",
   "metadata": {},
   "outputs": [
    {
     "data": {
      "text/html": [
       "<div>\n",
       "<style scoped>\n",
       "    .dataframe tbody tr th:only-of-type {\n",
       "        vertical-align: middle;\n",
       "    }\n",
       "\n",
       "    .dataframe tbody tr th {\n",
       "        vertical-align: top;\n",
       "    }\n",
       "\n",
       "    .dataframe thead th {\n",
       "        text-align: right;\n",
       "    }\n",
       "</style>\n",
       "<table border=\"1\" class=\"dataframe\">\n",
       "  <thead>\n",
       "    <tr style=\"text-align: right;\">\n",
       "      <th></th>\n",
       "      <th>Prospect ID</th>\n",
       "      <th>Lead Number</th>\n",
       "      <th>Lead Origin</th>\n",
       "      <th>Lead Source</th>\n",
       "      <th>Do Not Email</th>\n",
       "      <th>Do Not Call</th>\n",
       "      <th>Converted</th>\n",
       "      <th>TotalVisits</th>\n",
       "      <th>Total Time Spent on Website</th>\n",
       "      <th>Page Views Per Visit</th>\n",
       "      <th>...</th>\n",
       "      <th>Get updates on DM Content</th>\n",
       "      <th>Lead Profile</th>\n",
       "      <th>City</th>\n",
       "      <th>Asymmetrique Activity Index</th>\n",
       "      <th>Asymmetrique Profile Index</th>\n",
       "      <th>Asymmetrique Activity Score</th>\n",
       "      <th>Asymmetrique Profile Score</th>\n",
       "      <th>I agree to pay the amount through cheque</th>\n",
       "      <th>A free copy of Mastering The Interview</th>\n",
       "      <th>Last Notable Activity</th>\n",
       "    </tr>\n",
       "  </thead>\n",
       "  <tbody>\n",
       "    <tr>\n",
       "      <th>0</th>\n",
       "      <td>7927b2df-8bba-4d29-b9a2-b6e0beafe620</td>\n",
       "      <td>660737</td>\n",
       "      <td>API</td>\n",
       "      <td>Olark Chat</td>\n",
       "      <td>No</td>\n",
       "      <td>No</td>\n",
       "      <td>0</td>\n",
       "      <td>0.0</td>\n",
       "      <td>0</td>\n",
       "      <td>0.0</td>\n",
       "      <td>...</td>\n",
       "      <td>No</td>\n",
       "      <td>Select</td>\n",
       "      <td>Select</td>\n",
       "      <td>02.Medium</td>\n",
       "      <td>02.Medium</td>\n",
       "      <td>15.0</td>\n",
       "      <td>15.0</td>\n",
       "      <td>No</td>\n",
       "      <td>No</td>\n",
       "      <td>Modified</td>\n",
       "    </tr>\n",
       "    <tr>\n",
       "      <th>1</th>\n",
       "      <td>2a272436-5132-4136-86fa-dcc88c88f482</td>\n",
       "      <td>660728</td>\n",
       "      <td>API</td>\n",
       "      <td>Organic Search</td>\n",
       "      <td>No</td>\n",
       "      <td>No</td>\n",
       "      <td>0</td>\n",
       "      <td>5.0</td>\n",
       "      <td>674</td>\n",
       "      <td>2.5</td>\n",
       "      <td>...</td>\n",
       "      <td>No</td>\n",
       "      <td>Select</td>\n",
       "      <td>Select</td>\n",
       "      <td>02.Medium</td>\n",
       "      <td>02.Medium</td>\n",
       "      <td>15.0</td>\n",
       "      <td>15.0</td>\n",
       "      <td>No</td>\n",
       "      <td>No</td>\n",
       "      <td>Email Opened</td>\n",
       "    </tr>\n",
       "    <tr>\n",
       "      <th>2</th>\n",
       "      <td>8cc8c611-a219-4f35-ad23-fdfd2656bd8a</td>\n",
       "      <td>660727</td>\n",
       "      <td>Landing Page Submission</td>\n",
       "      <td>Direct Traffic</td>\n",
       "      <td>No</td>\n",
       "      <td>No</td>\n",
       "      <td>1</td>\n",
       "      <td>2.0</td>\n",
       "      <td>1532</td>\n",
       "      <td>2.0</td>\n",
       "      <td>...</td>\n",
       "      <td>No</td>\n",
       "      <td>Potential Lead</td>\n",
       "      <td>Mumbai</td>\n",
       "      <td>02.Medium</td>\n",
       "      <td>01.High</td>\n",
       "      <td>14.0</td>\n",
       "      <td>20.0</td>\n",
       "      <td>No</td>\n",
       "      <td>Yes</td>\n",
       "      <td>Email Opened</td>\n",
       "    </tr>\n",
       "    <tr>\n",
       "      <th>3</th>\n",
       "      <td>0cc2df48-7cf4-4e39-9de9-19797f9b38cc</td>\n",
       "      <td>660719</td>\n",
       "      <td>Landing Page Submission</td>\n",
       "      <td>Direct Traffic</td>\n",
       "      <td>No</td>\n",
       "      <td>No</td>\n",
       "      <td>0</td>\n",
       "      <td>1.0</td>\n",
       "      <td>305</td>\n",
       "      <td>1.0</td>\n",
       "      <td>...</td>\n",
       "      <td>No</td>\n",
       "      <td>Select</td>\n",
       "      <td>Mumbai</td>\n",
       "      <td>02.Medium</td>\n",
       "      <td>01.High</td>\n",
       "      <td>13.0</td>\n",
       "      <td>17.0</td>\n",
       "      <td>No</td>\n",
       "      <td>No</td>\n",
       "      <td>Modified</td>\n",
       "    </tr>\n",
       "    <tr>\n",
       "      <th>4</th>\n",
       "      <td>3256f628-e534-4826-9d63-4a8b88782852</td>\n",
       "      <td>660681</td>\n",
       "      <td>Landing Page Submission</td>\n",
       "      <td>Google</td>\n",
       "      <td>No</td>\n",
       "      <td>No</td>\n",
       "      <td>1</td>\n",
       "      <td>2.0</td>\n",
       "      <td>1428</td>\n",
       "      <td>1.0</td>\n",
       "      <td>...</td>\n",
       "      <td>No</td>\n",
       "      <td>Select</td>\n",
       "      <td>Mumbai</td>\n",
       "      <td>02.Medium</td>\n",
       "      <td>01.High</td>\n",
       "      <td>15.0</td>\n",
       "      <td>18.0</td>\n",
       "      <td>No</td>\n",
       "      <td>No</td>\n",
       "      <td>Modified</td>\n",
       "    </tr>\n",
       "  </tbody>\n",
       "</table>\n",
       "<p>5 rows × 37 columns</p>\n",
       "</div>"
      ],
      "text/plain": [
       "                            Prospect ID  Lead Number              Lead Origin  \\\n",
       "0  7927b2df-8bba-4d29-b9a2-b6e0beafe620       660737                      API   \n",
       "1  2a272436-5132-4136-86fa-dcc88c88f482       660728                      API   \n",
       "2  8cc8c611-a219-4f35-ad23-fdfd2656bd8a       660727  Landing Page Submission   \n",
       "3  0cc2df48-7cf4-4e39-9de9-19797f9b38cc       660719  Landing Page Submission   \n",
       "4  3256f628-e534-4826-9d63-4a8b88782852       660681  Landing Page Submission   \n",
       "\n",
       "      Lead Source Do Not Email Do Not Call  Converted  TotalVisits  \\\n",
       "0      Olark Chat           No          No          0          0.0   \n",
       "1  Organic Search           No          No          0          5.0   \n",
       "2  Direct Traffic           No          No          1          2.0   \n",
       "3  Direct Traffic           No          No          0          1.0   \n",
       "4          Google           No          No          1          2.0   \n",
       "\n",
       "   Total Time Spent on Website  Page Views Per Visit  ...  \\\n",
       "0                            0                   0.0  ...   \n",
       "1                          674                   2.5  ...   \n",
       "2                         1532                   2.0  ...   \n",
       "3                          305                   1.0  ...   \n",
       "4                         1428                   1.0  ...   \n",
       "\n",
       "  Get updates on DM Content    Lead Profile    City  \\\n",
       "0                        No          Select  Select   \n",
       "1                        No          Select  Select   \n",
       "2                        No  Potential Lead  Mumbai   \n",
       "3                        No          Select  Mumbai   \n",
       "4                        No          Select  Mumbai   \n",
       "\n",
       "  Asymmetrique Activity Index Asymmetrique Profile Index  \\\n",
       "0                   02.Medium                  02.Medium   \n",
       "1                   02.Medium                  02.Medium   \n",
       "2                   02.Medium                    01.High   \n",
       "3                   02.Medium                    01.High   \n",
       "4                   02.Medium                    01.High   \n",
       "\n",
       "  Asymmetrique Activity Score Asymmetrique Profile Score  \\\n",
       "0                        15.0                       15.0   \n",
       "1                        15.0                       15.0   \n",
       "2                        14.0                       20.0   \n",
       "3                        13.0                       17.0   \n",
       "4                        15.0                       18.0   \n",
       "\n",
       "  I agree to pay the amount through cheque  \\\n",
       "0                                       No   \n",
       "1                                       No   \n",
       "2                                       No   \n",
       "3                                       No   \n",
       "4                                       No   \n",
       "\n",
       "  A free copy of Mastering The Interview Last Notable Activity  \n",
       "0                                     No              Modified  \n",
       "1                                     No          Email Opened  \n",
       "2                                    Yes          Email Opened  \n",
       "3                                     No              Modified  \n",
       "4                                     No              Modified  \n",
       "\n",
       "[5 rows x 37 columns]"
      ]
     },
     "execution_count": 3,
     "metadata": {},
     "output_type": "execute_result"
    }
   ],
   "source": [
    "leads.head()"
   ]
  },
  {
   "cell_type": "code",
   "execution_count": 4,
   "id": "eab98f2e",
   "metadata": {},
   "outputs": [
    {
     "data": {
      "text/plain": [
       "(9240, 37)"
      ]
     },
     "execution_count": 4,
     "metadata": {},
     "output_type": "execute_result"
    }
   ],
   "source": [
    "leads.shape"
   ]
  },
  {
   "cell_type": "code",
   "execution_count": 5,
   "id": "74575444",
   "metadata": {},
   "outputs": [
    {
     "name": "stdout",
     "output_type": "stream",
     "text": [
      "<class 'pandas.core.frame.DataFrame'>\n",
      "RangeIndex: 9240 entries, 0 to 9239\n",
      "Data columns (total 37 columns):\n",
      " #   Column                                         Non-Null Count  Dtype  \n",
      "---  ------                                         --------------  -----  \n",
      " 0   Prospect ID                                    9240 non-null   object \n",
      " 1   Lead Number                                    9240 non-null   int64  \n",
      " 2   Lead Origin                                    9240 non-null   object \n",
      " 3   Lead Source                                    9204 non-null   object \n",
      " 4   Do Not Email                                   9240 non-null   object \n",
      " 5   Do Not Call                                    9240 non-null   object \n",
      " 6   Converted                                      9240 non-null   int64  \n",
      " 7   TotalVisits                                    9103 non-null   float64\n",
      " 8   Total Time Spent on Website                    9240 non-null   int64  \n",
      " 9   Page Views Per Visit                           9103 non-null   float64\n",
      " 10  Last Activity                                  9137 non-null   object \n",
      " 11  Country                                        6779 non-null   object \n",
      " 12  Specialization                                 7802 non-null   object \n",
      " 13  How did you hear about X Education             7033 non-null   object \n",
      " 14  What is your current occupation                6550 non-null   object \n",
      " 15  What matters most to you in choosing a course  6531 non-null   object \n",
      " 16  Search                                         9240 non-null   object \n",
      " 17  Magazine                                       9240 non-null   object \n",
      " 18  Newspaper Article                              9240 non-null   object \n",
      " 19  X Education Forums                             9240 non-null   object \n",
      " 20  Newspaper                                      9240 non-null   object \n",
      " 21  Digital Advertisement                          9240 non-null   object \n",
      " 22  Through Recommendations                        9240 non-null   object \n",
      " 23  Receive More Updates About Our Courses         9240 non-null   object \n",
      " 24  Tags                                           5887 non-null   object \n",
      " 25  Lead Quality                                   4473 non-null   object \n",
      " 26  Update me on Supply Chain Content              9240 non-null   object \n",
      " 27  Get updates on DM Content                      9240 non-null   object \n",
      " 28  Lead Profile                                   6531 non-null   object \n",
      " 29  City                                           7820 non-null   object \n",
      " 30  Asymmetrique Activity Index                    5022 non-null   object \n",
      " 31  Asymmetrique Profile Index                     5022 non-null   object \n",
      " 32  Asymmetrique Activity Score                    5022 non-null   float64\n",
      " 33  Asymmetrique Profile Score                     5022 non-null   float64\n",
      " 34  I agree to pay the amount through cheque       9240 non-null   object \n",
      " 35  A free copy of Mastering The Interview         9240 non-null   object \n",
      " 36  Last Notable Activity                          9240 non-null   object \n",
      "dtypes: float64(4), int64(3), object(30)\n",
      "memory usage: 2.6+ MB\n"
     ]
    }
   ],
   "source": [
    "leads.info()"
   ]
  },
  {
   "cell_type": "code",
   "execution_count": 6,
   "id": "ae9e3139",
   "metadata": {},
   "outputs": [],
   "source": [
    "#Deleting the columns 'Prospect ID' as it will not have any effect in the predicting model\n",
    "leads = leads.drop('Prospect ID', axis=1)"
   ]
  },
  {
   "cell_type": "code",
   "execution_count": 7,
   "id": "d9edf931",
   "metadata": {},
   "outputs": [
    {
     "data": {
      "text/plain": [
       "(9240, 36)"
      ]
     },
     "execution_count": 7,
     "metadata": {},
     "output_type": "execute_result"
    }
   ],
   "source": [
    "leads.shape"
   ]
  },
  {
   "cell_type": "code",
   "execution_count": 8,
   "id": "f8e05239",
   "metadata": {},
   "outputs": [
    {
     "data": {
      "text/plain": [
       "Lead Number                                       0.00\n",
       "Lead Origin                                       0.00\n",
       "Lead Source                                       0.39\n",
       "Do Not Email                                      0.00\n",
       "Do Not Call                                       0.00\n",
       "Converted                                         0.00\n",
       "TotalVisits                                       1.48\n",
       "Total Time Spent on Website                       0.00\n",
       "Page Views Per Visit                              1.48\n",
       "Last Activity                                     1.11\n",
       "Country                                          26.63\n",
       "Specialization                                   15.56\n",
       "How did you hear about X Education               23.89\n",
       "What is your current occupation                  29.11\n",
       "What matters most to you in choosing a course    29.32\n",
       "Search                                            0.00\n",
       "Magazine                                          0.00\n",
       "Newspaper Article                                 0.00\n",
       "X Education Forums                                0.00\n",
       "Newspaper                                         0.00\n",
       "Digital Advertisement                             0.00\n",
       "Through Recommendations                           0.00\n",
       "Receive More Updates About Our Courses            0.00\n",
       "Tags                                             36.29\n",
       "Lead Quality                                     51.59\n",
       "Update me on Supply Chain Content                 0.00\n",
       "Get updates on DM Content                         0.00\n",
       "Lead Profile                                     29.32\n",
       "City                                             15.37\n",
       "Asymmetrique Activity Index                      45.65\n",
       "Asymmetrique Profile Index                       45.65\n",
       "Asymmetrique Activity Score                      45.65\n",
       "Asymmetrique Profile Score                       45.65\n",
       "I agree to pay the amount through cheque          0.00\n",
       "A free copy of Mastering The Interview            0.00\n",
       "Last Notable Activity                             0.00\n",
       "dtype: float64"
      ]
     },
     "execution_count": 8,
     "metadata": {},
     "output_type": "execute_result"
    }
   ],
   "source": [
    "# check the null values percentage in each column\n",
    "round(leads.isnull().sum()/len(leads)*100,2)"
   ]
  },
  {
   "cell_type": "code",
   "execution_count": 9,
   "id": "3a4a0ea0",
   "metadata": {},
   "outputs": [
    {
     "data": {
      "text/plain": [
       "0    Might be\n",
       "Name: Lead Quality, dtype: object"
      ]
     },
     "execution_count": 9,
     "metadata": {},
     "output_type": "execute_result"
    }
   ],
   "source": [
    "# Will impute the column Lead Quality as it looks significant as per the description.\n",
    "leads['Lead Quality'].mode()\n"
   ]
  },
  {
   "cell_type": "code",
   "execution_count": 10,
   "id": "722cabae",
   "metadata": {},
   "outputs": [
    {
     "data": {
      "text/plain": [
       "Might be             1560\n",
       "Not Sure             1092\n",
       "High in Relevance     637\n",
       "Worst                 601\n",
       "Low in Relevance      583\n",
       "Name: Lead Quality, dtype: int64"
      ]
     },
     "execution_count": 10,
     "metadata": {},
     "output_type": "execute_result"
    }
   ],
   "source": [
    "leads['Lead Quality'].value_counts()"
   ]
  },
  {
   "cell_type": "code",
   "execution_count": 12,
   "id": "4cb0aef0",
   "metadata": {},
   "outputs": [
    {
     "data": {
      "text/plain": [
       "4767"
      ]
     },
     "execution_count": 12,
     "metadata": {},
     "output_type": "execute_result"
    }
   ],
   "source": [
    "leads['Lead Quality'].isnull().sum() "
   ]
  },
  {
   "cell_type": "code",
   "execution_count": 13,
   "id": "ea0199fa",
   "metadata": {},
   "outputs": [],
   "source": [
    "# Replacing null values with 'Might be' as it is most frequent \n",
    "leads['Lead Quality'] = leads['Lead Quality'].replace(np.nan, 'Might  be')"
   ]
  },
  {
   "cell_type": "code",
   "execution_count": 14,
   "id": "429696b3",
   "metadata": {},
   "outputs": [
    {
     "data": {
      "text/plain": [
       "0"
      ]
     },
     "execution_count": 14,
     "metadata": {},
     "output_type": "execute_result"
    }
   ],
   "source": [
    "leads['Lead Quality'].isnull().sum() "
   ]
  },
  {
   "cell_type": "code",
   "execution_count": 15,
   "id": "918386fa",
   "metadata": {},
   "outputs": [
    {
     "data": {
      "text/plain": [
       "Might  be            4767\n",
       "Might be             1560\n",
       "Not Sure             1092\n",
       "High in Relevance     637\n",
       "Worst                 601\n",
       "Low in Relevance      583\n",
       "Name: Lead Quality, dtype: int64"
      ]
     },
     "execution_count": 15,
     "metadata": {},
     "output_type": "execute_result"
    }
   ],
   "source": [
    "leads['Lead Quality'].value_counts()"
   ]
  },
  {
   "cell_type": "code",
   "execution_count": 16,
   "id": "7803805a",
   "metadata": {},
   "outputs": [],
   "source": [
    "# Dropping columns with more than 40% of missing values.\n",
    "leads.drop(leads.loc[:,list(round((leads.isnull().sum()/len(leads.index)*100),2)>40)].columns,axis =1, inplace = True)"
   ]
  },
  {
   "cell_type": "code",
   "execution_count": 17,
   "id": "317534ae",
   "metadata": {},
   "outputs": [
    {
     "data": {
      "text/plain": [
       "Lead Number                                       0.00\n",
       "Lead Origin                                       0.00\n",
       "Lead Source                                       0.39\n",
       "Do Not Email                                      0.00\n",
       "Do Not Call                                       0.00\n",
       "Converted                                         0.00\n",
       "TotalVisits                                       1.48\n",
       "Total Time Spent on Website                       0.00\n",
       "Page Views Per Visit                              1.48\n",
       "Last Activity                                     1.11\n",
       "Country                                          26.63\n",
       "Specialization                                   15.56\n",
       "How did you hear about X Education               23.89\n",
       "What is your current occupation                  29.11\n",
       "What matters most to you in choosing a course    29.32\n",
       "Search                                            0.00\n",
       "Magazine                                          0.00\n",
       "Newspaper Article                                 0.00\n",
       "X Education Forums                                0.00\n",
       "Newspaper                                         0.00\n",
       "Digital Advertisement                             0.00\n",
       "Through Recommendations                           0.00\n",
       "Receive More Updates About Our Courses            0.00\n",
       "Tags                                             36.29\n",
       "Lead Quality                                      0.00\n",
       "Update me on Supply Chain Content                 0.00\n",
       "Get updates on DM Content                         0.00\n",
       "Lead Profile                                     29.32\n",
       "City                                             15.37\n",
       "I agree to pay the amount through cheque          0.00\n",
       "A free copy of Mastering The Interview            0.00\n",
       "Last Notable Activity                             0.00\n",
       "dtype: float64"
      ]
     },
     "execution_count": 17,
     "metadata": {},
     "output_type": "execute_result"
    }
   ],
   "source": [
    "# check the null values percentage in each column again\n",
    "round(leads.isnull().sum()/len(leads)*100,2)"
   ]
  },
  {
   "cell_type": "code",
   "execution_count": 18,
   "id": "4f54724f",
   "metadata": {},
   "outputs": [
    {
     "data": {
      "text/plain": [
       "(9240, 32)"
      ]
     },
     "execution_count": 18,
     "metadata": {},
     "output_type": "execute_result"
    }
   ],
   "source": [
    "leads.shape"
   ]
  },
  {
   "cell_type": "code",
   "execution_count": 19,
   "id": "37e6da6c",
   "metadata": {},
   "outputs": [
    {
     "data": {
      "text/html": [
       "<div>\n",
       "<style scoped>\n",
       "    .dataframe tbody tr th:only-of-type {\n",
       "        vertical-align: middle;\n",
       "    }\n",
       "\n",
       "    .dataframe tbody tr th {\n",
       "        vertical-align: top;\n",
       "    }\n",
       "\n",
       "    .dataframe thead th {\n",
       "        text-align: right;\n",
       "    }\n",
       "</style>\n",
       "<table border=\"1\" class=\"dataframe\">\n",
       "  <thead>\n",
       "    <tr style=\"text-align: right;\">\n",
       "      <th></th>\n",
       "      <th>Lead Number</th>\n",
       "      <th>Lead Origin</th>\n",
       "      <th>Lead Source</th>\n",
       "      <th>Do Not Email</th>\n",
       "      <th>Do Not Call</th>\n",
       "      <th>Converted</th>\n",
       "      <th>TotalVisits</th>\n",
       "      <th>Total Time Spent on Website</th>\n",
       "      <th>Page Views Per Visit</th>\n",
       "      <th>Last Activity</th>\n",
       "      <th>...</th>\n",
       "      <th>Receive More Updates About Our Courses</th>\n",
       "      <th>Tags</th>\n",
       "      <th>Lead Quality</th>\n",
       "      <th>Update me on Supply Chain Content</th>\n",
       "      <th>Get updates on DM Content</th>\n",
       "      <th>Lead Profile</th>\n",
       "      <th>City</th>\n",
       "      <th>I agree to pay the amount through cheque</th>\n",
       "      <th>A free copy of Mastering The Interview</th>\n",
       "      <th>Last Notable Activity</th>\n",
       "    </tr>\n",
       "  </thead>\n",
       "  <tbody>\n",
       "    <tr>\n",
       "      <th>0</th>\n",
       "      <td>660737</td>\n",
       "      <td>API</td>\n",
       "      <td>Olark Chat</td>\n",
       "      <td>No</td>\n",
       "      <td>No</td>\n",
       "      <td>0</td>\n",
       "      <td>0.0</td>\n",
       "      <td>0</td>\n",
       "      <td>0.0</td>\n",
       "      <td>Page Visited on Website</td>\n",
       "      <td>...</td>\n",
       "      <td>No</td>\n",
       "      <td>Interested in other courses</td>\n",
       "      <td>Low in Relevance</td>\n",
       "      <td>No</td>\n",
       "      <td>No</td>\n",
       "      <td>Select</td>\n",
       "      <td>Select</td>\n",
       "      <td>No</td>\n",
       "      <td>No</td>\n",
       "      <td>Modified</td>\n",
       "    </tr>\n",
       "    <tr>\n",
       "      <th>1</th>\n",
       "      <td>660728</td>\n",
       "      <td>API</td>\n",
       "      <td>Organic Search</td>\n",
       "      <td>No</td>\n",
       "      <td>No</td>\n",
       "      <td>0</td>\n",
       "      <td>5.0</td>\n",
       "      <td>674</td>\n",
       "      <td>2.5</td>\n",
       "      <td>Email Opened</td>\n",
       "      <td>...</td>\n",
       "      <td>No</td>\n",
       "      <td>Ringing</td>\n",
       "      <td>Might  be</td>\n",
       "      <td>No</td>\n",
       "      <td>No</td>\n",
       "      <td>Select</td>\n",
       "      <td>Select</td>\n",
       "      <td>No</td>\n",
       "      <td>No</td>\n",
       "      <td>Email Opened</td>\n",
       "    </tr>\n",
       "    <tr>\n",
       "      <th>2</th>\n",
       "      <td>660727</td>\n",
       "      <td>Landing Page Submission</td>\n",
       "      <td>Direct Traffic</td>\n",
       "      <td>No</td>\n",
       "      <td>No</td>\n",
       "      <td>1</td>\n",
       "      <td>2.0</td>\n",
       "      <td>1532</td>\n",
       "      <td>2.0</td>\n",
       "      <td>Email Opened</td>\n",
       "      <td>...</td>\n",
       "      <td>No</td>\n",
       "      <td>Will revert after reading the email</td>\n",
       "      <td>Might be</td>\n",
       "      <td>No</td>\n",
       "      <td>No</td>\n",
       "      <td>Potential Lead</td>\n",
       "      <td>Mumbai</td>\n",
       "      <td>No</td>\n",
       "      <td>Yes</td>\n",
       "      <td>Email Opened</td>\n",
       "    </tr>\n",
       "    <tr>\n",
       "      <th>3</th>\n",
       "      <td>660719</td>\n",
       "      <td>Landing Page Submission</td>\n",
       "      <td>Direct Traffic</td>\n",
       "      <td>No</td>\n",
       "      <td>No</td>\n",
       "      <td>0</td>\n",
       "      <td>1.0</td>\n",
       "      <td>305</td>\n",
       "      <td>1.0</td>\n",
       "      <td>Unreachable</td>\n",
       "      <td>...</td>\n",
       "      <td>No</td>\n",
       "      <td>Ringing</td>\n",
       "      <td>Not Sure</td>\n",
       "      <td>No</td>\n",
       "      <td>No</td>\n",
       "      <td>Select</td>\n",
       "      <td>Mumbai</td>\n",
       "      <td>No</td>\n",
       "      <td>No</td>\n",
       "      <td>Modified</td>\n",
       "    </tr>\n",
       "    <tr>\n",
       "      <th>4</th>\n",
       "      <td>660681</td>\n",
       "      <td>Landing Page Submission</td>\n",
       "      <td>Google</td>\n",
       "      <td>No</td>\n",
       "      <td>No</td>\n",
       "      <td>1</td>\n",
       "      <td>2.0</td>\n",
       "      <td>1428</td>\n",
       "      <td>1.0</td>\n",
       "      <td>Converted to Lead</td>\n",
       "      <td>...</td>\n",
       "      <td>No</td>\n",
       "      <td>Will revert after reading the email</td>\n",
       "      <td>Might be</td>\n",
       "      <td>No</td>\n",
       "      <td>No</td>\n",
       "      <td>Select</td>\n",
       "      <td>Mumbai</td>\n",
       "      <td>No</td>\n",
       "      <td>No</td>\n",
       "      <td>Modified</td>\n",
       "    </tr>\n",
       "  </tbody>\n",
       "</table>\n",
       "<p>5 rows × 32 columns</p>\n",
       "</div>"
      ],
      "text/plain": [
       "   Lead Number              Lead Origin     Lead Source Do Not Email  \\\n",
       "0       660737                      API      Olark Chat           No   \n",
       "1       660728                      API  Organic Search           No   \n",
       "2       660727  Landing Page Submission  Direct Traffic           No   \n",
       "3       660719  Landing Page Submission  Direct Traffic           No   \n",
       "4       660681  Landing Page Submission          Google           No   \n",
       "\n",
       "  Do Not Call  Converted  TotalVisits  Total Time Spent on Website  \\\n",
       "0          No          0          0.0                            0   \n",
       "1          No          0          5.0                          674   \n",
       "2          No          1          2.0                         1532   \n",
       "3          No          0          1.0                          305   \n",
       "4          No          1          2.0                         1428   \n",
       "\n",
       "   Page Views Per Visit            Last Activity  ...  \\\n",
       "0                   0.0  Page Visited on Website  ...   \n",
       "1                   2.5             Email Opened  ...   \n",
       "2                   2.0             Email Opened  ...   \n",
       "3                   1.0              Unreachable  ...   \n",
       "4                   1.0        Converted to Lead  ...   \n",
       "\n",
       "  Receive More Updates About Our Courses                                 Tags  \\\n",
       "0                                     No          Interested in other courses   \n",
       "1                                     No                              Ringing   \n",
       "2                                     No  Will revert after reading the email   \n",
       "3                                     No                              Ringing   \n",
       "4                                     No  Will revert after reading the email   \n",
       "\n",
       "       Lead Quality Update me on Supply Chain Content  \\\n",
       "0  Low in Relevance                                No   \n",
       "1         Might  be                                No   \n",
       "2          Might be                                No   \n",
       "3          Not Sure                                No   \n",
       "4          Might be                                No   \n",
       "\n",
       "  Get updates on DM Content    Lead Profile    City  \\\n",
       "0                        No          Select  Select   \n",
       "1                        No          Select  Select   \n",
       "2                        No  Potential Lead  Mumbai   \n",
       "3                        No          Select  Mumbai   \n",
       "4                        No          Select  Mumbai   \n",
       "\n",
       "  I agree to pay the amount through cheque  \\\n",
       "0                                       No   \n",
       "1                                       No   \n",
       "2                                       No   \n",
       "3                                       No   \n",
       "4                                       No   \n",
       "\n",
       "  A free copy of Mastering The Interview Last Notable Activity  \n",
       "0                                     No              Modified  \n",
       "1                                     No          Email Opened  \n",
       "2                                    Yes          Email Opened  \n",
       "3                                     No              Modified  \n",
       "4                                     No              Modified  \n",
       "\n",
       "[5 rows x 32 columns]"
      ]
     },
     "execution_count": 19,
     "metadata": {},
     "output_type": "execute_result"
    }
   ],
   "source": [
    "leads.head()"
   ]
  },
  {
   "cell_type": "code",
   "execution_count": 20,
   "id": "1f042e0f",
   "metadata": {},
   "outputs": [],
   "source": [
    "# Need to replace \"select\" from columns Specialization, How did you hear about X Education, Lead Profile, and City to NAN as it is equlant to null values.\n",
    "leads = leads.replace('Select', np.nan)"
   ]
  },
  {
   "cell_type": "code",
   "execution_count": 21,
   "id": "c5deb00b",
   "metadata": {},
   "outputs": [
    {
     "data": {
      "text/plain": [
       "Lead Number                                       0.00\n",
       "Lead Origin                                       0.00\n",
       "Lead Source                                       0.39\n",
       "Do Not Email                                      0.00\n",
       "Do Not Call                                       0.00\n",
       "Converted                                         0.00\n",
       "TotalVisits                                       1.48\n",
       "Total Time Spent on Website                       0.00\n",
       "Page Views Per Visit                              1.48\n",
       "Last Activity                                     1.11\n",
       "Country                                          26.63\n",
       "Specialization                                   36.58\n",
       "How did you hear about X Education               78.46\n",
       "What is your current occupation                  29.11\n",
       "What matters most to you in choosing a course    29.32\n",
       "Search                                            0.00\n",
       "Magazine                                          0.00\n",
       "Newspaper Article                                 0.00\n",
       "X Education Forums                                0.00\n",
       "Newspaper                                         0.00\n",
       "Digital Advertisement                             0.00\n",
       "Through Recommendations                           0.00\n",
       "Receive More Updates About Our Courses            0.00\n",
       "Tags                                             36.29\n",
       "Lead Quality                                      0.00\n",
       "Update me on Supply Chain Content                 0.00\n",
       "Get updates on DM Content                         0.00\n",
       "Lead Profile                                     74.19\n",
       "City                                             39.71\n",
       "I agree to pay the amount through cheque          0.00\n",
       "A free copy of Mastering The Interview            0.00\n",
       "Last Notable Activity                             0.00\n",
       "dtype: float64"
      ]
     },
     "execution_count": 21,
     "metadata": {},
     "output_type": "execute_result"
    }
   ],
   "source": [
    "round(leads.isnull().sum()/len(leads)*100,2)"
   ]
  },
  {
   "cell_type": "code",
   "execution_count": 22,
   "id": "0c3e7905",
   "metadata": {},
   "outputs": [
    {
     "data": {
      "text/plain": [
       "count       5571\n",
       "unique         6\n",
       "top       Mumbai\n",
       "freq        3222\n",
       "Name: City, dtype: object"
      ]
     },
     "execution_count": 22,
     "metadata": {},
     "output_type": "execute_result"
    }
   ],
   "source": [
    "# Handling City variable\n",
    "leads.City.describe()"
   ]
  },
  {
   "cell_type": "code",
   "execution_count": 23,
   "id": "45c00e53",
   "metadata": {},
   "outputs": [
    {
     "data": {
      "image/png": "[encoded data removed]",
      "text/plain": [
       "<Figure size 432x288 with 1 Axes>"
      ]
     },
     "metadata": {
      "needs_background": "light"
     },
     "output_type": "display_data"
    }
   ],
   "source": [
    "sns.countplot(leads.City)\n",
    "plt.show()"
   ]
  },
  {
   "cell_type": "code",
   "execution_count": 24,
   "id": "50f824da",
   "metadata": {},
   "outputs": [
    {
     "data": {
      "image/png": "[encoded data removed]",
      "text/plain": [
       "<Figure size 432x288 with 1 Axes>"
      ]
     },
     "metadata": {
      "needs_background": "light"
     },
     "output_type": "display_data"
    }
   ],
   "source": [
    "sns.countplot(leads.City)\n",
    "xticks(rotation = 45)\n",
    "plt.show()"
   ]
  },
  {
   "cell_type": "code",
   "execution_count": 25,
   "id": "e06db8c0",
   "metadata": {},
   "outputs": [
    {
     "data": {
      "text/plain": [
       "Mumbai                         3222\n",
       "Thane & Outskirts               752\n",
       "Other Cities                    686\n",
       "Other Cities of Maharashtra     457\n",
       "Other Metro Cities              380\n",
       "Tier II Cities                   74\n",
       "Name: City, dtype: int64"
      ]
     },
     "execution_count": 25,
     "metadata": {},
     "output_type": "execute_result"
    }
   ],
   "source": [
    "leads.City.value_counts()"
   ]
  },
  {
   "cell_type": "code",
   "execution_count": 26,
   "id": "a90df8df",
   "metadata": {},
   "outputs": [],
   "source": [
    "# Impute Mumbai for nan values as it is most frequent in the city column\n",
    "leads['City'] = leads['City'].replace(np.nan, 'Mumbai')"
   ]
  },
  {
   "cell_type": "code",
   "execution_count": 27,
   "id": "f047283f",
   "metadata": {},
   "outputs": [
    {
     "data": {
      "text/plain": [
       "Mumbai                         6891\n",
       "Thane & Outskirts               752\n",
       "Other Cities                    686\n",
       "Other Cities of Maharashtra     457\n",
       "Other Metro Cities              380\n",
       "Tier II Cities                   74\n",
       "Name: City, dtype: int64"
      ]
     },
     "execution_count": 27,
     "metadata": {},
     "output_type": "execute_result"
    }
   ],
   "source": [
    "leads.City.value_counts()"
   ]
  },
  {
   "cell_type": "code",
   "execution_count": 28,
   "id": "120bb911",
   "metadata": {},
   "outputs": [
    {
     "data": {
      "text/plain": [
       "Lead Number                                       0.00\n",
       "Lead Origin                                       0.00\n",
       "Lead Source                                       0.39\n",
       "Do Not Email                                      0.00\n",
       "Do Not Call                                       0.00\n",
       "Converted                                         0.00\n",
       "TotalVisits                                       1.48\n",
       "Total Time Spent on Website                       0.00\n",
       "Page Views Per Visit                              1.48\n",
       "Last Activity                                     1.11\n",
       "Country                                          26.63\n",
       "Specialization                                   36.58\n",
       "How did you hear about X Education               78.46\n",
       "What is your current occupation                  29.11\n",
       "What matters most to you in choosing a course    29.32\n",
       "Search                                            0.00\n",
       "Magazine                                          0.00\n",
       "Newspaper Article                                 0.00\n",
       "X Education Forums                                0.00\n",
       "Newspaper                                         0.00\n",
       "Digital Advertisement                             0.00\n",
       "Through Recommendations                           0.00\n",
       "Receive More Updates About Our Courses            0.00\n",
       "Tags                                             36.29\n",
       "Lead Quality                                      0.00\n",
       "Update me on Supply Chain Content                 0.00\n",
       "Get updates on DM Content                         0.00\n",
       "Lead Profile                                     74.19\n",
       "City                                              0.00\n",
       "I agree to pay the amount through cheque          0.00\n",
       "A free copy of Mastering The Interview            0.00\n",
       "Last Notable Activity                             0.00\n",
       "dtype: float64"
      ]
     },
     "execution_count": 28,
     "metadata": {},
     "output_type": "execute_result"
    }
   ],
   "source": [
    "round(leads.isnull().sum()/len(leads)*100,2)"
   ]
  },
  {
   "cell_type": "code",
   "execution_count": 29,
   "id": "313175a9",
   "metadata": {},
   "outputs": [],
   "source": [
    "# Drop lead Profile which has more missing values.\n",
    "leads.drop([\"Lead Profile\"],axis=1,inplace=True)"
   ]
  },
  {
   "cell_type": "code",
   "execution_count": 30,
   "id": "4dda98c7",
   "metadata": {},
   "outputs": [
    {
     "data": {
      "text/plain": [
       "Lead Number                                       0.00\n",
       "Lead Origin                                       0.00\n",
       "Lead Source                                       0.39\n",
       "Do Not Email                                      0.00\n",
       "Do Not Call                                       0.00\n",
       "Converted                                         0.00\n",
       "TotalVisits                                       1.48\n",
       "Total Time Spent on Website                       0.00\n",
       "Page Views Per Visit                              1.48\n",
       "Last Activity                                     1.11\n",
       "Country                                          26.63\n",
       "Specialization                                   36.58\n",
       "How did you hear about X Education               78.46\n",
       "What is your current occupation                  29.11\n",
       "What matters most to you in choosing a course    29.32\n",
       "Search                                            0.00\n",
       "Magazine                                          0.00\n",
       "Newspaper Article                                 0.00\n",
       "X Education Forums                                0.00\n",
       "Newspaper                                         0.00\n",
       "Digital Advertisement                             0.00\n",
       "Through Recommendations                           0.00\n",
       "Receive More Updates About Our Courses            0.00\n",
       "Tags                                             36.29\n",
       "Lead Quality                                      0.00\n",
       "Update me on Supply Chain Content                 0.00\n",
       "Get updates on DM Content                         0.00\n",
       "City                                              0.00\n",
       "I agree to pay the amount through cheque          0.00\n",
       "A free copy of Mastering The Interview            0.00\n",
       "Last Notable Activity                             0.00\n",
       "dtype: float64"
      ]
     },
     "execution_count": 30,
     "metadata": {},
     "output_type": "execute_result"
    }
   ],
   "source": [
    "round(leads.isnull().sum()/len(leads)*100,2)"
   ]
  },
  {
   "cell_type": "code",
   "execution_count": 31,
   "id": "db28ee57",
   "metadata": {},
   "outputs": [
    {
     "data": {
      "text/plain": [
       "Finance Management                   976\n",
       "Human Resource Management            848\n",
       "Marketing Management                 838\n",
       "Operations Management                503\n",
       "Business Administration              403\n",
       "IT Projects Management               366\n",
       "Supply Chain Management              349\n",
       "Banking, Investment And Insurance    338\n",
       "Travel and Tourism                   203\n",
       "Media and Advertising                203\n",
       "International Business               178\n",
       "Healthcare Management                159\n",
       "Hospitality Management               114\n",
       "E-COMMERCE                           112\n",
       "Retail Management                    100\n",
       "Rural and Agribusiness                73\n",
       "E-Business                            57\n",
       "Services Excellence                   40\n",
       "Name: Specialization, dtype: int64"
      ]
     },
     "execution_count": 31,
     "metadata": {},
     "output_type": "execute_result"
    }
   ],
   "source": [
    "#Handling Specialization column\n",
    "leads.Specialization.value_counts()"
   ]
  },
  {
   "cell_type": "code",
   "execution_count": 32,
   "id": "da98f49a",
   "metadata": {},
   "outputs": [],
   "source": [
    "#It is possible that the person does not have a specialization or his/her specialization is not in the options. We can create a new column for that.\n",
    "leads['Specialization'] = leads['Specialization'].replace(np.nan, 'Others')"
   ]
  },
  {
   "cell_type": "code",
   "execution_count": 33,
   "id": "d9f73a82",
   "metadata": {},
   "outputs": [
    {
     "data": {
      "text/plain": [
       "Lead Number                                       0.00\n",
       "Lead Origin                                       0.00\n",
       "Lead Source                                       0.39\n",
       "Do Not Email                                      0.00\n",
       "Do Not Call                                       0.00\n",
       "Converted                                         0.00\n",
       "TotalVisits                                       1.48\n",
       "Total Time Spent on Website                       0.00\n",
       "Page Views Per Visit                              1.48\n",
       "Last Activity                                     1.11\n",
       "Country                                          26.63\n",
       "Specialization                                    0.00\n",
       "How did you hear about X Education               78.46\n",
       "What is your current occupation                  29.11\n",
       "What matters most to you in choosing a course    29.32\n",
       "Search                                            0.00\n",
       "Magazine                                          0.00\n",
       "Newspaper Article                                 0.00\n",
       "X Education Forums                                0.00\n",
       "Newspaper                                         0.00\n",
       "Digital Advertisement                             0.00\n",
       "Through Recommendations                           0.00\n",
       "Receive More Updates About Our Courses            0.00\n",
       "Tags                                             36.29\n",
       "Lead Quality                                      0.00\n",
       "Update me on Supply Chain Content                 0.00\n",
       "Get updates on DM Content                         0.00\n",
       "City                                              0.00\n",
       "I agree to pay the amount through cheque          0.00\n",
       "A free copy of Mastering The Interview            0.00\n",
       "Last Notable Activity                             0.00\n",
       "dtype: float64"
      ]
     },
     "execution_count": 33,
     "metadata": {},
     "output_type": "execute_result"
    }
   ],
   "source": [
    "round(leads.isnull().sum()/len(leads)*100,2)"
   ]
  },
  {
   "cell_type": "code",
   "execution_count": 34,
   "id": "8bd41d9f",
   "metadata": {},
   "outputs": [],
   "source": [
    "# Dropping column \"How did you hear about X Education\" as it has no significant data. 78% missing values.\n",
    "leads.drop([\"How did you hear about X Education\"],axis=1,inplace=True)"
   ]
  },
  {
   "cell_type": "code",
   "execution_count": 35,
   "id": "90bb9453",
   "metadata": {},
   "outputs": [
    {
     "data": {
      "text/plain": [
       "(9240, 30)"
      ]
     },
     "execution_count": 35,
     "metadata": {},
     "output_type": "execute_result"
    }
   ],
   "source": [
    "leads.shape"
   ]
  },
  {
   "cell_type": "code",
   "execution_count": 36,
   "id": "75a1e504",
   "metadata": {
    "scrolled": true
   },
   "outputs": [
    {
     "data": {
      "text/plain": [
       "Lead Number                                       0.00\n",
       "Lead Origin                                       0.00\n",
       "Lead Source                                       0.39\n",
       "Do Not Email                                      0.00\n",
       "Do Not Call                                       0.00\n",
       "Converted                                         0.00\n",
       "TotalVisits                                       1.48\n",
       "Total Time Spent on Website                       0.00\n",
       "Page Views Per Visit                              1.48\n",
       "Last Activity                                     1.11\n",
       "Country                                          26.63\n",
       "Specialization                                    0.00\n",
       "What is your current occupation                  29.11\n",
       "What matters most to you in choosing a course    29.32\n",
       "Search                                            0.00\n",
       "Magazine                                          0.00\n",
       "Newspaper Article                                 0.00\n",
       "X Education Forums                                0.00\n",
       "Newspaper                                         0.00\n",
       "Digital Advertisement                             0.00\n",
       "Through Recommendations                           0.00\n",
       "Receive More Updates About Our Courses            0.00\n",
       "Tags                                             36.29\n",
       "Lead Quality                                      0.00\n",
       "Update me on Supply Chain Content                 0.00\n",
       "Get updates on DM Content                         0.00\n",
       "City                                              0.00\n",
       "I agree to pay the amount through cheque          0.00\n",
       "A free copy of Mastering The Interview            0.00\n",
       "Last Notable Activity                             0.00\n",
       "dtype: float64"
      ]
     },
     "execution_count": 36,
     "metadata": {},
     "output_type": "execute_result"
    }
   ],
   "source": [
    "round(leads.isnull().sum()/len(leads)*100,2)"
   ]
  },
  {
   "cell_type": "code",
   "execution_count": 37,
   "id": "e6f4b783",
   "metadata": {},
   "outputs": [],
   "source": [
    "# Function for percentage plots\n",
    "def percent_plot(var):\n",
    "    values = (leads[var].value_counts(normalize=True)*100)\n",
    "    plt_p = values.plot.bar(color=sns.color_palette('deep'))\n",
    "    plt_p.set(xlabel = var, ylabel = '% in dataset')"
   ]
  },
  {
   "cell_type": "code",
   "execution_count": 38,
   "id": "4b90523b",
   "metadata": {},
   "outputs": [
    {
     "data": {
      "image/png": "[encoded data removed]",
      "text/plain": [
       "<Figure size 432x288 with 1 Axes>"
      ]
     },
     "metadata": {
      "needs_background": "light"
     },
     "output_type": "display_data"
    },
    {
     "data": {
      "image/png": "[encoded data removed]",
      "text/plain": [
       "<Figure size 432x288 with 1 Axes>"
      ]
     },
     "metadata": {
      "needs_background": "light"
     },
     "output_type": "display_data"
    },
    {
     "data": {
      "image/png": "[encoded data removed]",
      "text/plain": [
       "<Figure size 432x288 with 1 Axes>"
      ]
     },
     "metadata": {
      "needs_background": "light"
     },
     "output_type": "display_data"
    },
    {
     "data": {
      "image/png": "[encoded data removed]",
      "text/plain": [
       "<Figure size 432x288 with 1 Axes>"
      ]
     },
     "metadata": {
      "needs_background": "light"
     },
     "output_type": "display_data"
    }
   ],
   "source": [
    "# For 'Tags', 'What matters most to you in choosing a course', 'What is your current occupation' and 'Country'\n",
    "var_list = ['Tags', 'What matters most to you in choosing a course', 'What is your current occupation', 'Country']\n",
    "\n",
    "for var in var_list:\n",
    "    percent_plot(var)\n",
    "    plt.show()"
   ]
  },
  {
   "cell_type": "code",
   "execution_count": 39,
   "id": "6b5f36bb",
   "metadata": {},
   "outputs": [],
   "source": [
    "# To impute with the most frequent value\n",
    "for var in var_list:\n",
    "    top_frequent = leads[var].describe()['top']\n",
    "    leads[var] = leads[var].replace(np.nan, top_frequent)"
   ]
  },
  {
   "cell_type": "code",
   "execution_count": 40,
   "id": "db6781bf",
   "metadata": {
    "scrolled": true
   },
   "outputs": [
    {
     "data": {
      "text/plain": [
       "Lead Number                                      0.00\n",
       "Lead Origin                                      0.00\n",
       "Lead Source                                      0.39\n",
       "Do Not Email                                     0.00\n",
       "Do Not Call                                      0.00\n",
       "Converted                                        0.00\n",
       "TotalVisits                                      1.48\n",
       "Total Time Spent on Website                      0.00\n",
       "Page Views Per Visit                             1.48\n",
       "Last Activity                                    1.11\n",
       "Country                                          0.00\n",
       "Specialization                                   0.00\n",
       "What is your current occupation                  0.00\n",
       "What matters most to you in choosing a course    0.00\n",
       "Search                                           0.00\n",
       "Magazine                                         0.00\n",
       "Newspaper Article                                0.00\n",
       "X Education Forums                               0.00\n",
       "Newspaper                                        0.00\n",
       "Digital Advertisement                            0.00\n",
       "Through Recommendations                          0.00\n",
       "Receive More Updates About Our Courses           0.00\n",
       "Tags                                             0.00\n",
       "Lead Quality                                     0.00\n",
       "Update me on Supply Chain Content                0.00\n",
       "Get updates on DM Content                        0.00\n",
       "City                                             0.00\n",
       "I agree to pay the amount through cheque         0.00\n",
       "A free copy of Mastering The Interview           0.00\n",
       "Last Notable Activity                            0.00\n",
       "dtype: float64"
      ]
     },
     "execution_count": 40,
     "metadata": {},
     "output_type": "execute_result"
    }
   ],
   "source": [
    "round(100*(leads.isnull().sum()/len(leads.index)), 2)"
   ]
  },
  {
   "cell_type": "code",
   "execution_count": 41,
   "id": "772d7985",
   "metadata": {
    "scrolled": true
   },
   "outputs": [
    {
     "data": {
      "text/plain": [
       "Google               2868\n",
       "Direct Traffic       2543\n",
       "Olark Chat           1755\n",
       "Organic Search       1154\n",
       "Reference             534\n",
       "Welingak Website      142\n",
       "Referral Sites        125\n",
       "Facebook               55\n",
       "bing                    6\n",
       "google                  5\n",
       "Click2call              4\n",
       "Press_Release           2\n",
       "Social Media            2\n",
       "Live Chat               2\n",
       "youtubechannel          1\n",
       "testone                 1\n",
       "Pay per Click Ads       1\n",
       "welearnblog_Home        1\n",
       "WeLearn                 1\n",
       "blog                    1\n",
       "NC_EDM                  1\n",
       "Name: Lead Source, dtype: int64"
      ]
     },
     "execution_count": 41,
     "metadata": {},
     "output_type": "execute_result"
    }
   ],
   "source": [
    "# Checking Lead source column\n",
    "leads[\"Lead Source\"].value_counts()"
   ]
  },
  {
   "cell_type": "code",
   "execution_count": 42,
   "id": "e9851ab7",
   "metadata": {},
   "outputs": [],
   "source": [
    " #'Google' and 'google' both are same, need to Modify 'google' to 'Google'\n",
    "\n",
    "leads['Lead Source'] = leads['Lead Source'].replace(['google'], 'Google')"
   ]
  },
  {
   "cell_type": "code",
   "execution_count": 43,
   "id": "3b19d744",
   "metadata": {},
   "outputs": [
    {
     "data": {
      "text/plain": [
       "Google               2873\n",
       "Direct Traffic       2543\n",
       "Olark Chat           1755\n",
       "Organic Search       1154\n",
       "Reference             534\n",
       "Welingak Website      142\n",
       "Referral Sites        125\n",
       "Facebook               55\n",
       "bing                    6\n",
       "Click2call              4\n",
       "Social Media            2\n",
       "Live Chat               2\n",
       "Press_Release           2\n",
       "Pay per Click Ads       1\n",
       "blog                    1\n",
       "WeLearn                 1\n",
       "welearnblog_Home        1\n",
       "youtubechannel          1\n",
       "testone                 1\n",
       "NC_EDM                  1\n",
       "Name: Lead Source, dtype: int64"
      ]
     },
     "execution_count": 43,
     "metadata": {},
     "output_type": "execute_result"
    }
   ],
   "source": [
    "leads[\"Lead Source\"].value_counts()"
   ]
  },
  {
   "cell_type": "code",
   "execution_count": 44,
   "id": "716d724e",
   "metadata": {},
   "outputs": [],
   "source": [
    "# drop the rows containing missing values\n",
    "leads.dropna(inplace = True)"
   ]
  },
  {
   "cell_type": "code",
   "execution_count": 45,
   "id": "ace59c1b",
   "metadata": {
    "scrolled": true
   },
   "outputs": [
    {
     "data": {
      "text/plain": [
       "Lead Number                                      0.0\n",
       "Lead Origin                                      0.0\n",
       "Lead Source                                      0.0\n",
       "Do Not Email                                     0.0\n",
       "Do Not Call                                      0.0\n",
       "Converted                                        0.0\n",
       "TotalVisits                                      0.0\n",
       "Total Time Spent on Website                      0.0\n",
       "Page Views Per Visit                             0.0\n",
       "Last Activity                                    0.0\n",
       "Country                                          0.0\n",
       "Specialization                                   0.0\n",
       "What is your current occupation                  0.0\n",
       "What matters most to you in choosing a course    0.0\n",
       "Search                                           0.0\n",
       "Magazine                                         0.0\n",
       "Newspaper Article                                0.0\n",
       "X Education Forums                               0.0\n",
       "Newspaper                                        0.0\n",
       "Digital Advertisement                            0.0\n",
       "Through Recommendations                          0.0\n",
       "Receive More Updates About Our Courses           0.0\n",
       "Tags                                             0.0\n",
       "Lead Quality                                     0.0\n",
       "Update me on Supply Chain Content                0.0\n",
       "Get updates on DM Content                        0.0\n",
       "City                                             0.0\n",
       "I agree to pay the amount through cheque         0.0\n",
       "A free copy of Mastering The Interview           0.0\n",
       "Last Notable Activity                            0.0\n",
       "dtype: float64"
      ]
     },
     "execution_count": 45,
     "metadata": {},
     "output_type": "execute_result"
    }
   ],
   "source": [
    "round(100*(leads.isnull().sum()/len(leads.index)), 2)"
   ]
  },
  {
   "cell_type": "markdown",
   "id": "6f18bd02",
   "metadata": {},
   "source": [
    "### Handling outliers"
   ]
  },
  {
   "cell_type": "code",
   "execution_count": 46,
   "id": "603bc94e",
   "metadata": {
    "scrolled": true
   },
   "outputs": [
    {
     "data": {
      "text/html": [
       "<div>\n",
       "<style scoped>\n",
       "    .dataframe tbody tr th:only-of-type {\n",
       "        vertical-align: middle;\n",
       "    }\n",
       "\n",
       "    .dataframe tbody tr th {\n",
       "        vertical-align: top;\n",
       "    }\n",
       "\n",
       "    .dataframe thead th {\n",
       "        text-align: right;\n",
       "    }\n",
       "</style>\n",
       "<table border=\"1\" class=\"dataframe\">\n",
       "  <thead>\n",
       "    <tr style=\"text-align: right;\">\n",
       "      <th></th>\n",
       "      <th>Lead Number</th>\n",
       "      <th>Converted</th>\n",
       "      <th>TotalVisits</th>\n",
       "      <th>Total Time Spent on Website</th>\n",
       "      <th>Page Views Per Visit</th>\n",
       "    </tr>\n",
       "  </thead>\n",
       "  <tbody>\n",
       "    <tr>\n",
       "      <th>count</th>\n",
       "      <td>9074.000000</td>\n",
       "      <td>9074.000000</td>\n",
       "      <td>9074.000000</td>\n",
       "      <td>9074.000000</td>\n",
       "      <td>9074.000000</td>\n",
       "    </tr>\n",
       "    <tr>\n",
       "      <th>mean</th>\n",
       "      <td>617032.619352</td>\n",
       "      <td>0.378554</td>\n",
       "      <td>3.456028</td>\n",
       "      <td>482.887481</td>\n",
       "      <td>2.370151</td>\n",
       "    </tr>\n",
       "    <tr>\n",
       "      <th>std</th>\n",
       "      <td>23348.029512</td>\n",
       "      <td>0.485053</td>\n",
       "      <td>4.858802</td>\n",
       "      <td>545.256560</td>\n",
       "      <td>2.160871</td>\n",
       "    </tr>\n",
       "    <tr>\n",
       "      <th>min</th>\n",
       "      <td>579533.000000</td>\n",
       "      <td>0.000000</td>\n",
       "      <td>0.000000</td>\n",
       "      <td>0.000000</td>\n",
       "      <td>0.000000</td>\n",
       "    </tr>\n",
       "    <tr>\n",
       "      <th>25%</th>\n",
       "      <td>596406.000000</td>\n",
       "      <td>0.000000</td>\n",
       "      <td>1.000000</td>\n",
       "      <td>11.000000</td>\n",
       "      <td>1.000000</td>\n",
       "    </tr>\n",
       "    <tr>\n",
       "      <th>50%</th>\n",
       "      <td>615278.500000</td>\n",
       "      <td>0.000000</td>\n",
       "      <td>3.000000</td>\n",
       "      <td>246.000000</td>\n",
       "      <td>2.000000</td>\n",
       "    </tr>\n",
       "    <tr>\n",
       "      <th>75%</th>\n",
       "      <td>637176.500000</td>\n",
       "      <td>1.000000</td>\n",
       "      <td>5.000000</td>\n",
       "      <td>922.750000</td>\n",
       "      <td>3.200000</td>\n",
       "    </tr>\n",
       "    <tr>\n",
       "      <th>90%</th>\n",
       "      <td>650276.800000</td>\n",
       "      <td>1.000000</td>\n",
       "      <td>7.000000</td>\n",
       "      <td>1373.000000</td>\n",
       "      <td>5.000000</td>\n",
       "    </tr>\n",
       "    <tr>\n",
       "      <th>95%</th>\n",
       "      <td>655344.450000</td>\n",
       "      <td>1.000000</td>\n",
       "      <td>10.000000</td>\n",
       "      <td>1557.000000</td>\n",
       "      <td>6.000000</td>\n",
       "    </tr>\n",
       "    <tr>\n",
       "      <th>99%</th>\n",
       "      <td>659563.350000</td>\n",
       "      <td>1.000000</td>\n",
       "      <td>17.000000</td>\n",
       "      <td>1839.000000</td>\n",
       "      <td>9.000000</td>\n",
       "    </tr>\n",
       "    <tr>\n",
       "      <th>max</th>\n",
       "      <td>660737.000000</td>\n",
       "      <td>1.000000</td>\n",
       "      <td>251.000000</td>\n",
       "      <td>2272.000000</td>\n",
       "      <td>55.000000</td>\n",
       "    </tr>\n",
       "  </tbody>\n",
       "</table>\n",
       "</div>"
      ],
      "text/plain": [
       "         Lead Number    Converted  TotalVisits  Total Time Spent on Website  \\\n",
       "count    9074.000000  9074.000000  9074.000000                  9074.000000   \n",
       "mean   617032.619352     0.378554     3.456028                   482.887481   \n",
       "std     23348.029512     0.485053     4.858802                   545.256560   \n",
       "min    579533.000000     0.000000     0.000000                     0.000000   \n",
       "25%    596406.000000     0.000000     1.000000                    11.000000   \n",
       "50%    615278.500000     0.000000     3.000000                   246.000000   \n",
       "75%    637176.500000     1.000000     5.000000                   922.750000   \n",
       "90%    650276.800000     1.000000     7.000000                  1373.000000   \n",
       "95%    655344.450000     1.000000    10.000000                  1557.000000   \n",
       "99%    659563.350000     1.000000    17.000000                  1839.000000   \n",
       "max    660737.000000     1.000000   251.000000                  2272.000000   \n",
       "\n",
       "       Page Views Per Visit  \n",
       "count           9074.000000  \n",
       "mean               2.370151  \n",
       "std                2.160871  \n",
       "min                0.000000  \n",
       "25%                1.000000  \n",
       "50%                2.000000  \n",
       "75%                3.200000  \n",
       "90%                5.000000  \n",
       "95%                6.000000  \n",
       "99%                9.000000  \n",
       "max               55.000000  "
      ]
     },
     "execution_count": 46,
     "metadata": {},
     "output_type": "execute_result"
    }
   ],
   "source": [
    "leads.describe(percentiles=[.25,.5,.75,.90,.95,.99])"
   ]
  },
  {
   "cell_type": "code",
   "execution_count": 47,
   "id": "f9e81cf7",
   "metadata": {},
   "outputs": [
    {
     "name": "stdout",
     "output_type": "stream",
     "text": [
      "['TotalVisits', 'Total Time Spent on Website', 'Page Views Per Visit']\n"
     ]
    }
   ],
   "source": [
    "numeric_variables = ['TotalVisits','Total Time Spent on Website','Page Views Per Visit']\n",
    "print(numeric_variables)"
   ]
  },
  {
   "cell_type": "code",
   "execution_count": 48,
   "id": "38ad74dc",
   "metadata": {
    "scrolled": true
   },
   "outputs": [
    {
     "data": {
      "image/png": "[encoded data removed]",
      "text/plain": [
       "<Figure size 864x576 with 3 Axes>"
      ]
     },
     "metadata": {
      "needs_background": "light"
     },
     "output_type": "display_data"
    }
   ],
   "source": [
    "numeric_variables = ['TotalVisits','Total Time Spent on Website','Page Views Per Visit']\n",
    "\n",
    "#Function to plot the distribution plot of the numeric variable list\n",
    "def boxplot(var_list):\n",
    "    plt.figure(figsize=(12,8))\n",
    "    for var in var_list:\n",
    "        plt.subplot(2,5,var_list.index(var)+1)\n",
    "        #plt.boxplot(country[var])\n",
    "        sns.boxplot(y=var,palette='cubehelix', data=leads)\n",
    "    # Automatically adjust subplot params so that the subplotS fits in to the figure area.\n",
    "    plt.tight_layout()\n",
    "    # display the plot\n",
    "    plt.show()\n",
    "    \n",
    "boxplot(numeric_variables) "
   ]
  },
  {
   "cell_type": "code",
   "execution_count": 49,
   "id": "38237447",
   "metadata": {},
   "outputs": [
    {
     "data": {
      "text/plain": [
       "(8445, 30)"
      ]
     },
     "execution_count": 49,
     "metadata": {},
     "output_type": "execute_result"
    }
   ],
   "source": [
    "## Removing outlier values based on the Interquartile distance for some of the continuous variable\n",
    "Q1 = leads['TotalVisits'].quantile(0.25)\n",
    "Q3 = leads['TotalVisits'].quantile(0.75)\n",
    "IQR = Q3 - Q1\n",
    "leads=leads.loc[(leads['TotalVisits'] >= Q1 - 1.5*IQR) & (leads['TotalVisits'] <= Q3 + 1.4*IQR)]\n",
    "\n",
    "Q1 = leads['Page Views Per Visit'].quantile(0.25)\n",
    "Q3 = leads['Page Views Per Visit'].quantile(0.75)\n",
    "IQR = Q3 - Q1\n",
    "leads=leads.loc[(leads['Page Views Per Visit'] >= Q1 - 1.5*IQR) & (leads['Page Views Per Visit'] <= Q3 + 1.5*IQR)]\n",
    "\n",
    "leads.shape"
   ]
  },
  {
   "cell_type": "code",
   "execution_count": 50,
   "id": "149f24bd",
   "metadata": {
    "scrolled": true
   },
   "outputs": [
    {
     "data": {
      "image/png": "[encoded data removed]",
      "text/plain": [
       "<Figure size 720x360 with 3 Axes>"
      ]
     },
     "metadata": {
      "needs_background": "light"
     },
     "output_type": "display_data"
    }
   ],
   "source": [
    "#Function to plot the distribution plot of the numeric variable list\n",
    "def boxplot(var_list):\n",
    "    plt.figure(figsize=(10,5))\n",
    "    for var in var_list:\n",
    "        plt.subplot(2,5,var_list.index(var)+1)\n",
    "        #plt.boxplot(country[var])\n",
    "        sns.boxplot(y=var,data=leads)\n",
    "    # Automatically adjust subplot params so that the subplotS fits in to the figure area.\n",
    "    plt.tight_layout()\n",
    "    # display the plot\n",
    "    plt.show()\n",
    "    \n",
    "boxplot(numeric_variables)  "
   ]
  },
  {
   "cell_type": "code",
   "execution_count": 51,
   "id": "77521e2b",
   "metadata": {
    "scrolled": true
   },
   "outputs": [
    {
     "data": {
      "text/html": [
       "<div>\n",
       "<style scoped>\n",
       "    .dataframe tbody tr th:only-of-type {\n",
       "        vertical-align: middle;\n",
       "    }\n",
       "\n",
       "    .dataframe tbody tr th {\n",
       "        vertical-align: top;\n",
       "    }\n",
       "\n",
       "    .dataframe thead th {\n",
       "        text-align: right;\n",
       "    }\n",
       "</style>\n",
       "<table border=\"1\" class=\"dataframe\">\n",
       "  <thead>\n",
       "    <tr style=\"text-align: right;\">\n",
       "      <th></th>\n",
       "      <th>Lead Number</th>\n",
       "      <th>Lead Origin</th>\n",
       "      <th>Lead Source</th>\n",
       "      <th>Do Not Email</th>\n",
       "      <th>Do Not Call</th>\n",
       "      <th>Converted</th>\n",
       "      <th>TotalVisits</th>\n",
       "      <th>Total Time Spent on Website</th>\n",
       "      <th>Page Views Per Visit</th>\n",
       "      <th>Last Activity</th>\n",
       "      <th>...</th>\n",
       "      <th>Through Recommendations</th>\n",
       "      <th>Receive More Updates About Our Courses</th>\n",
       "      <th>Tags</th>\n",
       "      <th>Lead Quality</th>\n",
       "      <th>Update me on Supply Chain Content</th>\n",
       "      <th>Get updates on DM Content</th>\n",
       "      <th>City</th>\n",
       "      <th>I agree to pay the amount through cheque</th>\n",
       "      <th>A free copy of Mastering The Interview</th>\n",
       "      <th>Last Notable Activity</th>\n",
       "    </tr>\n",
       "  </thead>\n",
       "  <tbody>\n",
       "    <tr>\n",
       "      <th>0</th>\n",
       "      <td>660737</td>\n",
       "      <td>API</td>\n",
       "      <td>Olark Chat</td>\n",
       "      <td>0</td>\n",
       "      <td>0</td>\n",
       "      <td>0</td>\n",
       "      <td>0.0</td>\n",
       "      <td>0</td>\n",
       "      <td>0.0</td>\n",
       "      <td>Page Visited on Website</td>\n",
       "      <td>...</td>\n",
       "      <td>0</td>\n",
       "      <td>No</td>\n",
       "      <td>Interested in other courses</td>\n",
       "      <td>Low in Relevance</td>\n",
       "      <td>No</td>\n",
       "      <td>No</td>\n",
       "      <td>Mumbai</td>\n",
       "      <td>No</td>\n",
       "      <td>0</td>\n",
       "      <td>Modified</td>\n",
       "    </tr>\n",
       "    <tr>\n",
       "      <th>1</th>\n",
       "      <td>660728</td>\n",
       "      <td>API</td>\n",
       "      <td>Organic Search</td>\n",
       "      <td>0</td>\n",
       "      <td>0</td>\n",
       "      <td>0</td>\n",
       "      <td>5.0</td>\n",
       "      <td>674</td>\n",
       "      <td>2.5</td>\n",
       "      <td>Email Opened</td>\n",
       "      <td>...</td>\n",
       "      <td>0</td>\n",
       "      <td>No</td>\n",
       "      <td>Ringing</td>\n",
       "      <td>Might  be</td>\n",
       "      <td>No</td>\n",
       "      <td>No</td>\n",
       "      <td>Mumbai</td>\n",
       "      <td>No</td>\n",
       "      <td>0</td>\n",
       "      <td>Email Opened</td>\n",
       "    </tr>\n",
       "    <tr>\n",
       "      <th>2</th>\n",
       "      <td>660727</td>\n",
       "      <td>Landing Page Submission</td>\n",
       "      <td>Direct Traffic</td>\n",
       "      <td>0</td>\n",
       "      <td>0</td>\n",
       "      <td>1</td>\n",
       "      <td>2.0</td>\n",
       "      <td>1532</td>\n",
       "      <td>2.0</td>\n",
       "      <td>Email Opened</td>\n",
       "      <td>...</td>\n",
       "      <td>0</td>\n",
       "      <td>No</td>\n",
       "      <td>Will revert after reading the email</td>\n",
       "      <td>Might be</td>\n",
       "      <td>No</td>\n",
       "      <td>No</td>\n",
       "      <td>Mumbai</td>\n",
       "      <td>No</td>\n",
       "      <td>1</td>\n",
       "      <td>Email Opened</td>\n",
       "    </tr>\n",
       "    <tr>\n",
       "      <th>3</th>\n",
       "      <td>660719</td>\n",
       "      <td>Landing Page Submission</td>\n",
       "      <td>Direct Traffic</td>\n",
       "      <td>0</td>\n",
       "      <td>0</td>\n",
       "      <td>0</td>\n",
       "      <td>1.0</td>\n",
       "      <td>305</td>\n",
       "      <td>1.0</td>\n",
       "      <td>Unreachable</td>\n",
       "      <td>...</td>\n",
       "      <td>0</td>\n",
       "      <td>No</td>\n",
       "      <td>Ringing</td>\n",
       "      <td>Not Sure</td>\n",
       "      <td>No</td>\n",
       "      <td>No</td>\n",
       "      <td>Mumbai</td>\n",
       "      <td>No</td>\n",
       "      <td>0</td>\n",
       "      <td>Modified</td>\n",
       "    </tr>\n",
       "    <tr>\n",
       "      <th>4</th>\n",
       "      <td>660681</td>\n",
       "      <td>Landing Page Submission</td>\n",
       "      <td>Google</td>\n",
       "      <td>0</td>\n",
       "      <td>0</td>\n",
       "      <td>1</td>\n",
       "      <td>2.0</td>\n",
       "      <td>1428</td>\n",
       "      <td>1.0</td>\n",
       "      <td>Converted to Lead</td>\n",
       "      <td>...</td>\n",
       "      <td>0</td>\n",
       "      <td>No</td>\n",
       "      <td>Will revert after reading the email</td>\n",
       "      <td>Might be</td>\n",
       "      <td>No</td>\n",
       "      <td>No</td>\n",
       "      <td>Mumbai</td>\n",
       "      <td>No</td>\n",
       "      <td>0</td>\n",
       "      <td>Modified</td>\n",
       "    </tr>\n",
       "  </tbody>\n",
       "</table>\n",
       "<p>5 rows × 30 columns</p>\n",
       "</div>"
      ],
      "text/plain": [
       "   Lead Number              Lead Origin     Lead Source  Do Not Email  \\\n",
       "0       660737                      API      Olark Chat             0   \n",
       "1       660728                      API  Organic Search             0   \n",
       "2       660727  Landing Page Submission  Direct Traffic             0   \n",
       "3       660719  Landing Page Submission  Direct Traffic             0   \n",
       "4       660681  Landing Page Submission          Google             0   \n",
       "\n",
       "   Do Not Call  Converted  TotalVisits  Total Time Spent on Website  \\\n",
       "0            0          0          0.0                            0   \n",
       "1            0          0          5.0                          674   \n",
       "2            0          1          2.0                         1532   \n",
       "3            0          0          1.0                          305   \n",
       "4            0          1          2.0                         1428   \n",
       "\n",
       "   Page Views Per Visit            Last Activity  ... Through Recommendations  \\\n",
       "0                   0.0  Page Visited on Website  ...                       0   \n",
       "1                   2.5             Email Opened  ...                       0   \n",
       "2                   2.0             Email Opened  ...                       0   \n",
       "3                   1.0              Unreachable  ...                       0   \n",
       "4                   1.0        Converted to Lead  ...                       0   \n",
       "\n",
       "  Receive More Updates About Our Courses                                 Tags  \\\n",
       "0                                     No          Interested in other courses   \n",
       "1                                     No                              Ringing   \n",
       "2                                     No  Will revert after reading the email   \n",
       "3                                     No                              Ringing   \n",
       "4                                     No  Will revert after reading the email   \n",
       "\n",
       "       Lead Quality  Update me on Supply Chain Content  \\\n",
       "0  Low in Relevance                                 No   \n",
       "1         Might  be                                 No   \n",
       "2          Might be                                 No   \n",
       "3          Not Sure                                 No   \n",
       "4          Might be                                 No   \n",
       "\n",
       "  Get updates on DM Content    City  I agree to pay the amount through cheque  \\\n",
       "0                        No  Mumbai                                        No   \n",
       "1                        No  Mumbai                                        No   \n",
       "2                        No  Mumbai                                        No   \n",
       "3                        No  Mumbai                                        No   \n",
       "4                        No  Mumbai                                        No   \n",
       "\n",
       "   A free copy of Mastering The Interview  Last Notable Activity  \n",
       "0                                       0               Modified  \n",
       "1                                       0           Email Opened  \n",
       "2                                       1           Email Opened  \n",
       "3                                       0               Modified  \n",
       "4                                       0               Modified  \n",
       "\n",
       "[5 rows x 30 columns]"
      ]
     },
     "execution_count": 51,
     "metadata": {},
     "output_type": "execute_result"
    }
   ],
   "source": [
    "##Converting some binary variables (Yes/No) to 0/1\n",
    "# List of variables to map\n",
    "\n",
    "varlist =  ['Search','Do Not Email', 'Do Not Call', 'Newspaper Article', 'X Education Forums', 'Newspaper', \n",
    "            'Digital Advertisement','Through Recommendations','A free copy of Mastering The Interview']\n",
    "\n",
    "# Defining the map function\n",
    "def binary_map(x):\n",
    "    return x.map({'Yes': 1, \"No\": 0})\n",
    "\n",
    "# Applying the function to the housing list\n",
    "leads[varlist] = leads[varlist].apply(binary_map)\n",
    "leads.head()"
   ]
  },
  {
   "cell_type": "code",
   "execution_count": 52,
   "id": "e3cddd50",
   "metadata": {},
   "outputs": [
    {
     "data": {
      "text/plain": [
       "(8445, 104)"
      ]
     },
     "execution_count": 52,
     "metadata": {},
     "output_type": "execute_result"
    }
   ],
   "source": [
    "# Creating a dummy variable for some of the categorical variables and dropping the first one.\n",
    "dummy = pd.get_dummies(leads[['Country', 'Lead Source','Lead Origin','Last Notable Activity']], drop_first=True)\n",
    "\n",
    "# Adding the results to the master dataframe\n",
    "leads = pd.concat([leads, dummy], axis=1)\n",
    "leads.shape"
   ]
  },
  {
   "cell_type": "code",
   "execution_count": 53,
   "id": "8101bbcc",
   "metadata": {},
   "outputs": [
    {
     "data": {
      "text/plain": [
       "(8445, 94)"
      ]
     },
     "execution_count": 53,
     "metadata": {},
     "output_type": "execute_result"
    }
   ],
   "source": [
    "# We have created dummies for the below variables, so we can drop them\n",
    "leads = leads.drop(['Lead Quality','Tags',\n",
    "                    'Lead Origin','What is your current occupation', 'Specialization', 'City','Last Activity', 'Country', \n",
    "                    'Lead Source','Last Notable Activity'], 1)\n",
    "leads.shape"
   ]
  },
  {
   "cell_type": "code",
   "execution_count": 54,
   "id": "bf1311b0",
   "metadata": {},
   "outputs": [
    {
     "data": {
      "text/plain": [
       "(8445, 94)"
      ]
     },
     "execution_count": 54,
     "metadata": {},
     "output_type": "execute_result"
    }
   ],
   "source": [
    "leads.shape"
   ]
  },
  {
   "cell_type": "code",
   "execution_count": 55,
   "id": "aa5d41d6",
   "metadata": {},
   "outputs": [
    {
     "data": {
      "text/plain": [
       "37.47779751332149"
      ]
     },
     "execution_count": 55,
     "metadata": {},
     "output_type": "execute_result"
    }
   ],
   "source": [
    "### Checking the conversion rate by using target variable \"converted\"\n",
    "(sum(leads['Converted'])/len(leads['Converted'].index))*100"
   ]
  },
  {
   "cell_type": "markdown",
   "id": "2e31a587",
   "metadata": {},
   "source": [
    "### 37% of the leads are converted.\n"
   ]
  },
  {
   "cell_type": "code",
   "execution_count": 56,
   "id": "d0fc810d",
   "metadata": {},
   "outputs": [
    {
     "data": {
      "image/png": "[encoded data removed]",
      "text/plain": [
       "<Figure size 1080x360 with 3 Axes>"
      ]
     },
     "metadata": {
      "needs_background": "light"
     },
     "output_type": "display_data"
    }
   ],
   "source": [
    "# To plot numerical variables against target variable to analyse relations\n",
    "plt.figure(figsize=(15, 5))\n",
    "for var in numeric_variables:\n",
    "    plt.subplot(1,3,numeric_variables.index(var)+1)\n",
    "    sns.boxplot(y = var , x = 'Converted', data = leads)\n",
    "plt.show()"
   ]
  },
  {
   "cell_type": "code",
   "execution_count": 57,
   "id": "a72f9fc1",
   "metadata": {},
   "outputs": [],
   "source": [
    "## Observations:\n",
    "\n",
    "#'TotalVisits' has same median values for both outputs of leads. No conclusion can be drwan from this.\n",
    "# People spending more time on the website are more likely to be converted. This is also aligned with our general knowledge.\n",
    "#'Page Views Per Visit' also has same median values for both outputs of leads. Hence, inconclusive."
   ]
  },
  {
   "cell_type": "code",
   "execution_count": 58,
   "id": "b4bd208e",
   "metadata": {},
   "outputs": [
    {
     "data": {
      "text/plain": [
       "['What matters most to you in choosing a course',\n",
       " 'Magazine',\n",
       " 'Receive More Updates About Our Courses',\n",
       " 'Update me on Supply Chain Content',\n",
       " 'Get updates on DM Content',\n",
       " 'I agree to pay the amount through cheque']"
      ]
     },
     "execution_count": 58,
     "metadata": {},
     "output_type": "execute_result"
    }
   ],
   "source": [
    "# Categorical variables\n",
    "catvar = list(leads.columns[leads.dtypes == 'object'])\n",
    "catvar"
   ]
  },
  {
   "cell_type": "code",
   "execution_count": 61,
   "id": "ae832c0d",
   "metadata": {},
   "outputs": [],
   "source": [
    "# Functions to plot countplots for categorical variables with target variable\n",
    "\n",
    "# For single plot\n",
    "def plot_cat_var(var):\n",
    "    plt.figure(figsize=(20, 7))\n",
    "    sns.countplot(x = var, hue = \"Converted\", data = leads)\n",
    "    plt.xticks(rotation = 90)\n",
    "    plt.show()\n",
    "\n",
    "# For multiple plots    \n",
    "def plot_cat_vars(lst):\n",
    "    l = int(len(lst)/2)\n",
    "    plt.figure(figsize=(20, l*7))\n",
    "    for var in lst:\n",
    "        plt.subplot(l,2,lst.index(var)+1)\n",
    "        sns.countplot(x = var, hue = \"Converted\", data = leads)\n",
    "        plt.xticks(rotation = 90)\n",
    "    plt.show()"
   ]
  },
  {
   "cell_type": "code",
   "execution_count": 62,
   "id": "54a6582a",
   "metadata": {},
   "outputs": [
    {
     "data": {
      "image/png": "[encoded data removed]",
      "text/plain": [
       "<Figure size 1440x504 with 1 Axes>"
      ]
     },
     "metadata": {
      "needs_background": "light"
     },
     "output_type": "display_data"
    }
   ],
   "source": [
    "plot_cat_var(catvar[0])"
   ]
  },
  {
   "cell_type": "code",
   "execution_count": 67,
   "id": "7af50694",
   "metadata": {},
   "outputs": [
    {
     "data": {
      "image/png": "[encoded data removed]",
      "text/plain": [
       "<Figure size 1440x504 with 1 Axes>"
      ]
     },
     "metadata": {
      "needs_background": "light"
     },
     "output_type": "display_data"
    }
   ],
   "source": [
    "plot_cat_var(catvar[1])"
   ]
  },
  {
   "cell_type": "code",
   "execution_count": 69,
   "id": "e2795f27",
   "metadata": {},
   "outputs": [
    {
     "data": {
      "text/html": [
       "<div>\n",
       "<style scoped>\n",
       "    .dataframe tbody tr th:only-of-type {\n",
       "        vertical-align: middle;\n",
       "    }\n",
       "\n",
       "    .dataframe tbody tr th {\n",
       "        vertical-align: top;\n",
       "    }\n",
       "\n",
       "    .dataframe thead th {\n",
       "        text-align: right;\n",
       "    }\n",
       "</style>\n",
       "<table border=\"1\" class=\"dataframe\">\n",
       "  <thead>\n",
       "    <tr style=\"text-align: right;\">\n",
       "      <th></th>\n",
       "      <th>Lead Number</th>\n",
       "      <th>Do Not Email</th>\n",
       "      <th>Do Not Call</th>\n",
       "      <th>Converted</th>\n",
       "      <th>TotalVisits</th>\n",
       "      <th>Total Time Spent on Website</th>\n",
       "      <th>Page Views Per Visit</th>\n",
       "      <th>Search</th>\n",
       "      <th>Newspaper Article</th>\n",
       "      <th>X Education Forums</th>\n",
       "      <th>...</th>\n",
       "      <th>Last Notable Activity_Form Submitted on Website</th>\n",
       "      <th>Last Notable Activity_Had a Phone Conversation</th>\n",
       "      <th>Last Notable Activity_Modified</th>\n",
       "      <th>Last Notable Activity_Olark Chat Conversation</th>\n",
       "      <th>Last Notable Activity_Page Visited on Website</th>\n",
       "      <th>Last Notable Activity_Resubscribed to emails</th>\n",
       "      <th>Last Notable Activity_SMS Sent</th>\n",
       "      <th>Last Notable Activity_Unreachable</th>\n",
       "      <th>Last Notable Activity_Unsubscribed</th>\n",
       "      <th>Last Notable Activity_View in browser link Clicked</th>\n",
       "    </tr>\n",
       "  </thead>\n",
       "  <tbody>\n",
       "    <tr>\n",
       "      <th>count</th>\n",
       "      <td>8445.000000</td>\n",
       "      <td>8445.000000</td>\n",
       "      <td>8445.000000</td>\n",
       "      <td>8445.000000</td>\n",
       "      <td>8445.000000</td>\n",
       "      <td>8445.000000</td>\n",
       "      <td>8445.000000</td>\n",
       "      <td>8445.000000</td>\n",
       "      <td>8445.0</td>\n",
       "      <td>8445.0</td>\n",
       "      <td>...</td>\n",
       "      <td>8445.000000</td>\n",
       "      <td>8445.000000</td>\n",
       "      <td>8445.000000</td>\n",
       "      <td>8445.000000</td>\n",
       "      <td>8445.000000</td>\n",
       "      <td>8445.000000</td>\n",
       "      <td>8445.000000</td>\n",
       "      <td>8445.000000</td>\n",
       "      <td>8445.000000</td>\n",
       "      <td>8445.000000</td>\n",
       "    </tr>\n",
       "    <tr>\n",
       "      <th>mean</th>\n",
       "      <td>617000.027472</td>\n",
       "      <td>0.076969</td>\n",
       "      <td>0.000237</td>\n",
       "      <td>0.374778</td>\n",
       "      <td>2.754174</td>\n",
       "      <td>468.572054</td>\n",
       "      <td>2.071957</td>\n",
       "      <td>0.000710</td>\n",
       "      <td>0.0</td>\n",
       "      <td>0.0</td>\n",
       "      <td>...</td>\n",
       "      <td>0.000118</td>\n",
       "      <td>0.001184</td>\n",
       "      <td>0.368028</td>\n",
       "      <td>0.020485</td>\n",
       "      <td>0.028182</td>\n",
       "      <td>0.000118</td>\n",
       "      <td>0.237892</td>\n",
       "      <td>0.003552</td>\n",
       "      <td>0.005092</td>\n",
       "      <td>0.000118</td>\n",
       "    </tr>\n",
       "    <tr>\n",
       "      <th>std</th>\n",
       "      <td>23289.142312</td>\n",
       "      <td>0.266557</td>\n",
       "      <td>0.015388</td>\n",
       "      <td>0.484094</td>\n",
       "      <td>2.330357</td>\n",
       "      <td>541.698874</td>\n",
       "      <td>1.649040</td>\n",
       "      <td>0.026647</td>\n",
       "      <td>0.0</td>\n",
       "      <td>0.0</td>\n",
       "      <td>...</td>\n",
       "      <td>0.010882</td>\n",
       "      <td>0.034393</td>\n",
       "      <td>0.482298</td>\n",
       "      <td>0.141662</td>\n",
       "      <td>0.165503</td>\n",
       "      <td>0.010882</td>\n",
       "      <td>0.425818</td>\n",
       "      <td>0.059500</td>\n",
       "      <td>0.071179</td>\n",
       "      <td>0.010882</td>\n",
       "    </tr>\n",
       "    <tr>\n",
       "      <th>min</th>\n",
       "      <td>579533.000000</td>\n",
       "      <td>0.000000</td>\n",
       "      <td>0.000000</td>\n",
       "      <td>0.000000</td>\n",
       "      <td>0.000000</td>\n",
       "      <td>0.000000</td>\n",
       "      <td>0.000000</td>\n",
       "      <td>0.000000</td>\n",
       "      <td>0.0</td>\n",
       "      <td>0.0</td>\n",
       "      <td>...</td>\n",
       "      <td>0.000000</td>\n",
       "      <td>0.000000</td>\n",
       "      <td>0.000000</td>\n",
       "      <td>0.000000</td>\n",
       "      <td>0.000000</td>\n",
       "      <td>0.000000</td>\n",
       "      <td>0.000000</td>\n",
       "      <td>0.000000</td>\n",
       "      <td>0.000000</td>\n",
       "      <td>0.000000</td>\n",
       "    </tr>\n",
       "    <tr>\n",
       "      <th>25%</th>\n",
       "      <td>596376.000000</td>\n",
       "      <td>0.000000</td>\n",
       "      <td>0.000000</td>\n",
       "      <td>0.000000</td>\n",
       "      <td>0.000000</td>\n",
       "      <td>0.000000</td>\n",
       "      <td>0.000000</td>\n",
       "      <td>0.000000</td>\n",
       "      <td>0.0</td>\n",
       "      <td>0.0</td>\n",
       "      <td>...</td>\n",
       "      <td>0.000000</td>\n",
       "      <td>0.000000</td>\n",
       "      <td>0.000000</td>\n",
       "      <td>0.000000</td>\n",
       "      <td>0.000000</td>\n",
       "      <td>0.000000</td>\n",
       "      <td>0.000000</td>\n",
       "      <td>0.000000</td>\n",
       "      <td>0.000000</td>\n",
       "      <td>0.000000</td>\n",
       "    </tr>\n",
       "    <tr>\n",
       "      <th>50%</th>\n",
       "      <td>615473.000000</td>\n",
       "      <td>0.000000</td>\n",
       "      <td>0.000000</td>\n",
       "      <td>0.000000</td>\n",
       "      <td>2.000000</td>\n",
       "      <td>233.000000</td>\n",
       "      <td>2.000000</td>\n",
       "      <td>0.000000</td>\n",
       "      <td>0.0</td>\n",
       "      <td>0.0</td>\n",
       "      <td>...</td>\n",
       "      <td>0.000000</td>\n",
       "      <td>0.000000</td>\n",
       "      <td>0.000000</td>\n",
       "      <td>0.000000</td>\n",
       "      <td>0.000000</td>\n",
       "      <td>0.000000</td>\n",
       "      <td>0.000000</td>\n",
       "      <td>0.000000</td>\n",
       "      <td>0.000000</td>\n",
       "      <td>0.000000</td>\n",
       "    </tr>\n",
       "    <tr>\n",
       "      <th>75%</th>\n",
       "      <td>637048.000000</td>\n",
       "      <td>0.000000</td>\n",
       "      <td>0.000000</td>\n",
       "      <td>1.000000</td>\n",
       "      <td>4.000000</td>\n",
       "      <td>886.000000</td>\n",
       "      <td>3.000000</td>\n",
       "      <td>0.000000</td>\n",
       "      <td>0.0</td>\n",
       "      <td>0.0</td>\n",
       "      <td>...</td>\n",
       "      <td>0.000000</td>\n",
       "      <td>0.000000</td>\n",
       "      <td>1.000000</td>\n",
       "      <td>0.000000</td>\n",
       "      <td>0.000000</td>\n",
       "      <td>0.000000</td>\n",
       "      <td>0.000000</td>\n",
       "      <td>0.000000</td>\n",
       "      <td>0.000000</td>\n",
       "      <td>0.000000</td>\n",
       "    </tr>\n",
       "    <tr>\n",
       "      <th>max</th>\n",
       "      <td>660737.000000</td>\n",
       "      <td>1.000000</td>\n",
       "      <td>1.000000</td>\n",
       "      <td>1.000000</td>\n",
       "      <td>10.000000</td>\n",
       "      <td>2272.000000</td>\n",
       "      <td>6.000000</td>\n",
       "      <td>1.000000</td>\n",
       "      <td>0.0</td>\n",
       "      <td>0.0</td>\n",
       "      <td>...</td>\n",
       "      <td>1.000000</td>\n",
       "      <td>1.000000</td>\n",
       "      <td>1.000000</td>\n",
       "      <td>1.000000</td>\n",
       "      <td>1.000000</td>\n",
       "      <td>1.000000</td>\n",
       "      <td>1.000000</td>\n",
       "      <td>1.000000</td>\n",
       "      <td>1.000000</td>\n",
       "      <td>1.000000</td>\n",
       "    </tr>\n",
       "  </tbody>\n",
       "</table>\n",
       "<p>8 rows × 88 columns</p>\n",
       "</div>"
      ],
      "text/plain": [
       "         Lead Number  Do Not Email  Do Not Call    Converted  TotalVisits  \\\n",
       "count    8445.000000   8445.000000  8445.000000  8445.000000  8445.000000   \n",
       "mean   617000.027472      0.076969     0.000237     0.374778     2.754174   \n",
       "std     23289.142312      0.266557     0.015388     0.484094     2.330357   \n",
       "min    579533.000000      0.000000     0.000000     0.000000     0.000000   \n",
       "25%    596376.000000      0.000000     0.000000     0.000000     0.000000   \n",
       "50%    615473.000000      0.000000     0.000000     0.000000     2.000000   \n",
       "75%    637048.000000      0.000000     0.000000     1.000000     4.000000   \n",
       "max    660737.000000      1.000000     1.000000     1.000000    10.000000   \n",
       "\n",
       "       Total Time Spent on Website  Page Views Per Visit       Search  \\\n",
       "count                  8445.000000           8445.000000  8445.000000   \n",
       "mean                    468.572054              2.071957     0.000710   \n",
       "std                     541.698874              1.649040     0.026647   \n",
       "min                       0.000000              0.000000     0.000000   \n",
       "25%                       0.000000              0.000000     0.000000   \n",
       "50%                     233.000000              2.000000     0.000000   \n",
       "75%                     886.000000              3.000000     0.000000   \n",
       "max                    2272.000000              6.000000     1.000000   \n",
       "\n",
       "       Newspaper Article  X Education Forums  ...  \\\n",
       "count             8445.0              8445.0  ...   \n",
       "mean                 0.0                 0.0  ...   \n",
       "std                  0.0                 0.0  ...   \n",
       "min                  0.0                 0.0  ...   \n",
       "25%                  0.0                 0.0  ...   \n",
       "50%                  0.0                 0.0  ...   \n",
       "75%                  0.0                 0.0  ...   \n",
       "max                  0.0                 0.0  ...   \n",
       "\n",
       "       Last Notable Activity_Form Submitted on Website  \\\n",
       "count                                      8445.000000   \n",
       "mean                                          0.000118   \n",
       "std                                           0.010882   \n",
       "min                                           0.000000   \n",
       "25%                                           0.000000   \n",
       "50%                                           0.000000   \n",
       "75%                                           0.000000   \n",
       "max                                           1.000000   \n",
       "\n",
       "       Last Notable Activity_Had a Phone Conversation  \\\n",
       "count                                     8445.000000   \n",
       "mean                                         0.001184   \n",
       "std                                          0.034393   \n",
       "min                                          0.000000   \n",
       "25%                                          0.000000   \n",
       "50%                                          0.000000   \n",
       "75%                                          0.000000   \n",
       "max                                          1.000000   \n",
       "\n",
       "       Last Notable Activity_Modified  \\\n",
       "count                     8445.000000   \n",
       "mean                         0.368028   \n",
       "std                          0.482298   \n",
       "min                          0.000000   \n",
       "25%                          0.000000   \n",
       "50%                          0.000000   \n",
       "75%                          1.000000   \n",
       "max                          1.000000   \n",
       "\n",
       "       Last Notable Activity_Olark Chat Conversation  \\\n",
       "count                                    8445.000000   \n",
       "mean                                        0.020485   \n",
       "std                                         0.141662   \n",
       "min                                         0.000000   \n",
       "25%                                         0.000000   \n",
       "50%                                         0.000000   \n",
       "75%                                         0.000000   \n",
       "max                                         1.000000   \n",
       "\n",
       "       Last Notable Activity_Page Visited on Website  \\\n",
       "count                                    8445.000000   \n",
       "mean                                        0.028182   \n",
       "std                                         0.165503   \n",
       "min                                         0.000000   \n",
       "25%                                         0.000000   \n",
       "50%                                         0.000000   \n",
       "75%                                         0.000000   \n",
       "max                                         1.000000   \n",
       "\n",
       "       Last Notable Activity_Resubscribed to emails  \\\n",
       "count                                   8445.000000   \n",
       "mean                                       0.000118   \n",
       "std                                        0.010882   \n",
       "min                                        0.000000   \n",
       "25%                                        0.000000   \n",
       "50%                                        0.000000   \n",
       "75%                                        0.000000   \n",
       "max                                        1.000000   \n",
       "\n",
       "       Last Notable Activity_SMS Sent  Last Notable Activity_Unreachable  \\\n",
       "count                     8445.000000                        8445.000000   \n",
       "mean                         0.237892                           0.003552   \n",
       "std                          0.425818                           0.059500   \n",
       "min                          0.000000                           0.000000   \n",
       "25%                          0.000000                           0.000000   \n",
       "50%                          0.000000                           0.000000   \n",
       "75%                          0.000000                           0.000000   \n",
       "max                          1.000000                           1.000000   \n",
       "\n",
       "       Last Notable Activity_Unsubscribed  \\\n",
       "count                         8445.000000   \n",
       "mean                             0.005092   \n",
       "std                              0.071179   \n",
       "min                              0.000000   \n",
       "25%                              0.000000   \n",
       "50%                              0.000000   \n",
       "75%                              0.000000   \n",
       "max                              1.000000   \n",
       "\n",
       "       Last Notable Activity_View in browser link Clicked  \n",
       "count                                        8445.000000   \n",
       "mean                                            0.000118   \n",
       "std                                             0.010882   \n",
       "min                                             0.000000   \n",
       "25%                                             0.000000   \n",
       "50%                                             0.000000   \n",
       "75%                                             0.000000   \n",
       "max                                             1.000000   \n",
       "\n",
       "[8 rows x 88 columns]"
      ]
     },
     "execution_count": 69,
     "metadata": {},
     "output_type": "execute_result"
    }
   ],
   "source": [
    "leads.describe()"
   ]
  },
  {
   "cell_type": "code",
   "execution_count": 71,
   "id": "b101d929",
   "metadata": {
    "scrolled": false
   },
   "outputs": [
    {
     "name": "stdout",
     "output_type": "stream",
     "text": [
      "<class 'pandas.core.frame.DataFrame'>\n",
      "Int64Index: 8445 entries, 0 to 9239\n",
      "Data columns (total 94 columns):\n",
      " #   Column                                              Non-Null Count  Dtype  \n",
      "---  ------                                              --------------  -----  \n",
      " 0   Lead Number                                         8445 non-null   int64  \n",
      " 1   Do Not Email                                        8445 non-null   int64  \n",
      " 2   Do Not Call                                         8445 non-null   int64  \n",
      " 3   Converted                                           8445 non-null   int64  \n",
      " 4   TotalVisits                                         8445 non-null   float64\n",
      " 5   Total Time Spent on Website                         8445 non-null   int64  \n",
      " 6   Page Views Per Visit                                8445 non-null   float64\n",
      " 7   What matters most to you in choosing a course       8445 non-null   object \n",
      " 8   Search                                              8445 non-null   int64  \n",
      " 9   Magazine                                            8445 non-null   object \n",
      " 10  Newspaper Article                                   8445 non-null   int64  \n",
      " 11  X Education Forums                                  8445 non-null   int64  \n",
      " 12  Newspaper                                           8445 non-null   int64  \n",
      " 13  Digital Advertisement                               8445 non-null   int64  \n",
      " 14  Through Recommendations                             8445 non-null   int64  \n",
      " 15  Receive More Updates About Our Courses              8445 non-null   object \n",
      " 16  Update me on Supply Chain Content                   8445 non-null   object \n",
      " 17  Get updates on DM Content                           8445 non-null   object \n",
      " 18  I agree to pay the amount through cheque            8445 non-null   object \n",
      " 19  A free copy of Mastering The Interview              8445 non-null   int64  \n",
      " 20  Country_Australia                                   8445 non-null   uint8  \n",
      " 21  Country_Bahrain                                     8445 non-null   uint8  \n",
      " 22  Country_Bangladesh                                  8445 non-null   uint8  \n",
      " 23  Country_Belgium                                     8445 non-null   uint8  \n",
      " 24  Country_Canada                                      8445 non-null   uint8  \n",
      " 25  Country_China                                       8445 non-null   uint8  \n",
      " 26  Country_Denmark                                     8445 non-null   uint8  \n",
      " 27  Country_France                                      8445 non-null   uint8  \n",
      " 28  Country_Germany                                     8445 non-null   uint8  \n",
      " 29  Country_Ghana                                       8445 non-null   uint8  \n",
      " 30  Country_Hong Kong                                   8445 non-null   uint8  \n",
      " 31  Country_India                                       8445 non-null   uint8  \n",
      " 32  Country_Indonesia                                   8445 non-null   uint8  \n",
      " 33  Country_Italy                                       8445 non-null   uint8  \n",
      " 34  Country_Kenya                                       8445 non-null   uint8  \n",
      " 35  Country_Kuwait                                      8445 non-null   uint8  \n",
      " 36  Country_Liberia                                     8445 non-null   uint8  \n",
      " 37  Country_Malaysia                                    8445 non-null   uint8  \n",
      " 38  Country_Netherlands                                 8445 non-null   uint8  \n",
      " 39  Country_Nigeria                                     8445 non-null   uint8  \n",
      " 40  Country_Oman                                        8445 non-null   uint8  \n",
      " 41  Country_Philippines                                 8445 non-null   uint8  \n",
      " 42  Country_Qatar                                       8445 non-null   uint8  \n",
      " 43  Country_Russia                                      8445 non-null   uint8  \n",
      " 44  Country_Saudi Arabia                                8445 non-null   uint8  \n",
      " 45  Country_Singapore                                   8445 non-null   uint8  \n",
      " 46  Country_South Africa                                8445 non-null   uint8  \n",
      " 47  Country_Sri Lanka                                   8445 non-null   uint8  \n",
      " 48  Country_Sweden                                      8445 non-null   uint8  \n",
      " 49  Country_Switzerland                                 8445 non-null   uint8  \n",
      " 50  Country_Tanzania                                    8445 non-null   uint8  \n",
      " 51  Country_Uganda                                      8445 non-null   uint8  \n",
      " 52  Country_United Arab Emirates                        8445 non-null   uint8  \n",
      " 53  Country_United Kingdom                              8445 non-null   uint8  \n",
      " 54  Country_United States                               8445 non-null   uint8  \n",
      " 55  Country_Vietnam                                     8445 non-null   uint8  \n",
      " 56  Country_unknown                                     8445 non-null   uint8  \n",
      " 57  Lead Source_Direct Traffic                          8445 non-null   uint8  \n",
      " 58  Lead Source_Facebook                                8445 non-null   uint8  \n",
      " 59  Lead Source_Google                                  8445 non-null   uint8  \n",
      " 60  Lead Source_Live Chat                               8445 non-null   uint8  \n",
      " 61  Lead Source_NC_EDM                                  8445 non-null   uint8  \n",
      " 62  Lead Source_Olark Chat                              8445 non-null   uint8  \n",
      " 63  Lead Source_Organic Search                          8445 non-null   uint8  \n",
      " 64  Lead Source_Pay per Click Ads                       8445 non-null   uint8  \n",
      " 65  Lead Source_Press_Release                           8445 non-null   uint8  \n",
      " 66  Lead Source_Reference                               8445 non-null   uint8  \n",
      " 67  Lead Source_Referral Sites                          8445 non-null   uint8  \n",
      " 68  Lead Source_Social Media                            8445 non-null   uint8  \n",
      " 69  Lead Source_WeLearn                                 8445 non-null   uint8  \n",
      " 70  Lead Source_Welingak Website                        8445 non-null   uint8  \n",
      " 71  Lead Source_bing                                    8445 non-null   uint8  \n",
      " 72  Lead Source_blog                                    8445 non-null   uint8  \n",
      " 73  Lead Source_testone                                 8445 non-null   uint8  \n",
      " 74  Lead Source_welearnblog_Home                        8445 non-null   uint8  \n",
      " 75  Lead Source_youtubechannel                          8445 non-null   uint8  \n",
      " 76  Lead Origin_Landing Page Submission                 8445 non-null   uint8  \n",
      " 77  Lead Origin_Lead Add Form                           8445 non-null   uint8  \n",
      " 78  Lead Origin_Lead Import                             8445 non-null   uint8  \n",
      " 79  Last Notable Activity_Email Bounced                 8445 non-null   uint8  \n",
      " 80  Last Notable Activity_Email Link Clicked            8445 non-null   uint8  \n",
      " 81  Last Notable Activity_Email Marked Spam             8445 non-null   uint8  \n",
      " 82  Last Notable Activity_Email Opened                  8445 non-null   uint8  \n",
      " 83  Last Notable Activity_Email Received                8445 non-null   uint8  \n",
      " 84  Last Notable Activity_Form Submitted on Website     8445 non-null   uint8  \n",
      " 85  Last Notable Activity_Had a Phone Conversation      8445 non-null   uint8  \n",
      " 86  Last Notable Activity_Modified                      8445 non-null   uint8  \n",
      " 87  Last Notable Activity_Olark Chat Conversation       8445 non-null   uint8  \n",
      " 88  Last Notable Activity_Page Visited on Website       8445 non-null   uint8  \n",
      " 89  Last Notable Activity_Resubscribed to emails        8445 non-null   uint8  \n",
      " 90  Last Notable Activity_SMS Sent                      8445 non-null   uint8  \n",
      " 91  Last Notable Activity_Unreachable                   8445 non-null   uint8  \n",
      " 92  Last Notable Activity_Unsubscribed                  8445 non-null   uint8  \n",
      " 93  Last Notable Activity_View in browser link Clicked  8445 non-null   uint8  \n",
      "dtypes: float64(2), int64(12), object(6), uint8(74)\n",
      "memory usage: 1.9+ MB\n"
     ]
    }
   ],
   "source": [
    "leads.info()"
   ]
  },
  {
   "cell_type": "code",
   "execution_count": 132,
   "id": "7eb4ee5a",
   "metadata": {},
   "outputs": [],
   "source": [
    "leads =leads.drop(['Magazine'],axis=1)"
   ]
  },
  {
   "cell_type": "markdown",
   "id": "f94133c5",
   "metadata": {},
   "source": [
    "## Train-Test Split"
   ]
  },
  {
   "cell_type": "code",
   "execution_count": 152,
   "id": "5b45b098",
   "metadata": {},
   "outputs": [],
   "source": [
    "# Importing required package\n",
    "from sklearn.model_selection import train_test_split\n",
    "from sklearn.preprocessing import StandardScaler"
   ]
  },
  {
   "cell_type": "code",
   "execution_count": null,
   "id": "429847a5",
   "metadata": {},
   "outputs": [],
   "source": []
  },
  {
   "cell_type": "code",
   "execution_count": 153,
   "id": "2ad07084",
   "metadata": {
    "scrolled": true
   },
   "outputs": [
    {
     "data": {
      "text/html": [
       "<div>\n",
       "<style scoped>\n",
       "    .dataframe tbody tr th:only-of-type {\n",
       "        vertical-align: middle;\n",
       "    }\n",
       "\n",
       "    .dataframe tbody tr th {\n",
       "        vertical-align: top;\n",
       "    }\n",
       "\n",
       "    .dataframe thead th {\n",
       "        text-align: right;\n",
       "    }\n",
       "</style>\n",
       "<table border=\"1\" class=\"dataframe\">\n",
       "  <thead>\n",
       "    <tr style=\"text-align: right;\">\n",
       "      <th></th>\n",
       "      <th>Lead Number</th>\n",
       "      <th>Do Not Email</th>\n",
       "      <th>Do Not Call</th>\n",
       "      <th>TotalVisits</th>\n",
       "      <th>Total Time Spent on Website</th>\n",
       "      <th>Page Views Per Visit</th>\n",
       "      <th>Search</th>\n",
       "      <th>Newspaper Article</th>\n",
       "      <th>X Education Forums</th>\n",
       "      <th>Newspaper</th>\n",
       "      <th>...</th>\n",
       "      <th>Last Notable Activity_Form Submitted on Website</th>\n",
       "      <th>Last Notable Activity_Had a Phone Conversation</th>\n",
       "      <th>Last Notable Activity_Modified</th>\n",
       "      <th>Last Notable Activity_Olark Chat Conversation</th>\n",
       "      <th>Last Notable Activity_Page Visited on Website</th>\n",
       "      <th>Last Notable Activity_Resubscribed to emails</th>\n",
       "      <th>Last Notable Activity_SMS Sent</th>\n",
       "      <th>Last Notable Activity_Unreachable</th>\n",
       "      <th>Last Notable Activity_Unsubscribed</th>\n",
       "      <th>Last Notable Activity_View in browser link Clicked</th>\n",
       "    </tr>\n",
       "  </thead>\n",
       "  <tbody>\n",
       "    <tr>\n",
       "      <th>0</th>\n",
       "      <td>660737</td>\n",
       "      <td>0</td>\n",
       "      <td>0</td>\n",
       "      <td>0.0</td>\n",
       "      <td>0</td>\n",
       "      <td>0.0</td>\n",
       "      <td>0</td>\n",
       "      <td>0</td>\n",
       "      <td>0</td>\n",
       "      <td>0</td>\n",
       "      <td>...</td>\n",
       "      <td>0</td>\n",
       "      <td>0</td>\n",
       "      <td>1</td>\n",
       "      <td>0</td>\n",
       "      <td>0</td>\n",
       "      <td>0</td>\n",
       "      <td>0</td>\n",
       "      <td>0</td>\n",
       "      <td>0</td>\n",
       "      <td>0</td>\n",
       "    </tr>\n",
       "    <tr>\n",
       "      <th>1</th>\n",
       "      <td>660728</td>\n",
       "      <td>0</td>\n",
       "      <td>0</td>\n",
       "      <td>5.0</td>\n",
       "      <td>674</td>\n",
       "      <td>2.5</td>\n",
       "      <td>0</td>\n",
       "      <td>0</td>\n",
       "      <td>0</td>\n",
       "      <td>0</td>\n",
       "      <td>...</td>\n",
       "      <td>0</td>\n",
       "      <td>0</td>\n",
       "      <td>0</td>\n",
       "      <td>0</td>\n",
       "      <td>0</td>\n",
       "      <td>0</td>\n",
       "      <td>0</td>\n",
       "      <td>0</td>\n",
       "      <td>0</td>\n",
       "      <td>0</td>\n",
       "    </tr>\n",
       "    <tr>\n",
       "      <th>2</th>\n",
       "      <td>660727</td>\n",
       "      <td>0</td>\n",
       "      <td>0</td>\n",
       "      <td>2.0</td>\n",
       "      <td>1532</td>\n",
       "      <td>2.0</td>\n",
       "      <td>0</td>\n",
       "      <td>0</td>\n",
       "      <td>0</td>\n",
       "      <td>0</td>\n",
       "      <td>...</td>\n",
       "      <td>0</td>\n",
       "      <td>0</td>\n",
       "      <td>0</td>\n",
       "      <td>0</td>\n",
       "      <td>0</td>\n",
       "      <td>0</td>\n",
       "      <td>0</td>\n",
       "      <td>0</td>\n",
       "      <td>0</td>\n",
       "      <td>0</td>\n",
       "    </tr>\n",
       "    <tr>\n",
       "      <th>3</th>\n",
       "      <td>660719</td>\n",
       "      <td>0</td>\n",
       "      <td>0</td>\n",
       "      <td>1.0</td>\n",
       "      <td>305</td>\n",
       "      <td>1.0</td>\n",
       "      <td>0</td>\n",
       "      <td>0</td>\n",
       "      <td>0</td>\n",
       "      <td>0</td>\n",
       "      <td>...</td>\n",
       "      <td>0</td>\n",
       "      <td>0</td>\n",
       "      <td>1</td>\n",
       "      <td>0</td>\n",
       "      <td>0</td>\n",
       "      <td>0</td>\n",
       "      <td>0</td>\n",
       "      <td>0</td>\n",
       "      <td>0</td>\n",
       "      <td>0</td>\n",
       "    </tr>\n",
       "    <tr>\n",
       "      <th>4</th>\n",
       "      <td>660681</td>\n",
       "      <td>0</td>\n",
       "      <td>0</td>\n",
       "      <td>2.0</td>\n",
       "      <td>1428</td>\n",
       "      <td>1.0</td>\n",
       "      <td>0</td>\n",
       "      <td>0</td>\n",
       "      <td>0</td>\n",
       "      <td>0</td>\n",
       "      <td>...</td>\n",
       "      <td>0</td>\n",
       "      <td>0</td>\n",
       "      <td>1</td>\n",
       "      <td>0</td>\n",
       "      <td>0</td>\n",
       "      <td>0</td>\n",
       "      <td>0</td>\n",
       "      <td>0</td>\n",
       "      <td>0</td>\n",
       "      <td>0</td>\n",
       "    </tr>\n",
       "  </tbody>\n",
       "</table>\n",
       "<p>5 rows × 87 columns</p>\n",
       "</div>"
      ],
      "text/plain": [
       "   Lead Number  Do Not Email  Do Not Call  TotalVisits  \\\n",
       "0       660737             0            0          0.0   \n",
       "1       660728             0            0          5.0   \n",
       "2       660727             0            0          2.0   \n",
       "3       660719             0            0          1.0   \n",
       "4       660681             0            0          2.0   \n",
       "\n",
       "   Total Time Spent on Website  Page Views Per Visit  Search  \\\n",
       "0                            0                   0.0       0   \n",
       "1                          674                   2.5       0   \n",
       "2                         1532                   2.0       0   \n",
       "3                          305                   1.0       0   \n",
       "4                         1428                   1.0       0   \n",
       "\n",
       "   Newspaper Article  X Education Forums  Newspaper  ...  \\\n",
       "0                  0                   0          0  ...   \n",
       "1                  0                   0          0  ...   \n",
       "2                  0                   0          0  ...   \n",
       "3                  0                   0          0  ...   \n",
       "4                  0                   0          0  ...   \n",
       "\n",
       "   Last Notable Activity_Form Submitted on Website  \\\n",
       "0                                                0   \n",
       "1                                                0   \n",
       "2                                                0   \n",
       "3                                                0   \n",
       "4                                                0   \n",
       "\n",
       "   Last Notable Activity_Had a Phone Conversation  \\\n",
       "0                                               0   \n",
       "1                                               0   \n",
       "2                                               0   \n",
       "3                                               0   \n",
       "4                                               0   \n",
       "\n",
       "   Last Notable Activity_Modified  \\\n",
       "0                               1   \n",
       "1                               0   \n",
       "2                               0   \n",
       "3                               1   \n",
       "4                               1   \n",
       "\n",
       "   Last Notable Activity_Olark Chat Conversation  \\\n",
       "0                                              0   \n",
       "1                                              0   \n",
       "2                                              0   \n",
       "3                                              0   \n",
       "4                                              0   \n",
       "\n",
       "   Last Notable Activity_Page Visited on Website  \\\n",
       "0                                              0   \n",
       "1                                              0   \n",
       "2                                              0   \n",
       "3                                              0   \n",
       "4                                              0   \n",
       "\n",
       "   Last Notable Activity_Resubscribed to emails  \\\n",
       "0                                             0   \n",
       "1                                             0   \n",
       "2                                             0   \n",
       "3                                             0   \n",
       "4                                             0   \n",
       "\n",
       "   Last Notable Activity_SMS Sent  Last Notable Activity_Unreachable  \\\n",
       "0                               0                                  0   \n",
       "1                               0                                  0   \n",
       "2                               0                                  0   \n",
       "3                               0                                  0   \n",
       "4                               0                                  0   \n",
       "\n",
       "   Last Notable Activity_Unsubscribed  \\\n",
       "0                                   0   \n",
       "1                                   0   \n",
       "2                                   0   \n",
       "3                                   0   \n",
       "4                                   0   \n",
       "\n",
       "   Last Notable Activity_View in browser link Clicked  \n",
       "0                                                  0   \n",
       "1                                                  0   \n",
       "2                                                  0   \n",
       "3                                                  0   \n",
       "4                                                  0   \n",
       "\n",
       "[5 rows x 87 columns]"
      ]
     },
     "execution_count": 153,
     "metadata": {},
     "output_type": "execute_result"
    }
   ],
   "source": [
    "X =leads.drop(['Converted'],axis=1)\n",
    "X.head()"
   ]
  },
  {
   "cell_type": "code",
   "execution_count": 154,
   "id": "546418e3",
   "metadata": {
    "scrolled": true
   },
   "outputs": [
    {
     "data": {
      "text/html": [
       "<div>\n",
       "<style scoped>\n",
       "    .dataframe tbody tr th:only-of-type {\n",
       "        vertical-align: middle;\n",
       "    }\n",
       "\n",
       "    .dataframe tbody tr th {\n",
       "        vertical-align: top;\n",
       "    }\n",
       "\n",
       "    .dataframe thead th {\n",
       "        text-align: right;\n",
       "    }\n",
       "</style>\n",
       "<table border=\"1\" class=\"dataframe\">\n",
       "  <thead>\n",
       "    <tr style=\"text-align: right;\">\n",
       "      <th></th>\n",
       "      <th>Lead Number</th>\n",
       "      <th>Do Not Email</th>\n",
       "      <th>Do Not Call</th>\n",
       "      <th>Converted</th>\n",
       "      <th>TotalVisits</th>\n",
       "      <th>Total Time Spent on Website</th>\n",
       "      <th>Page Views Per Visit</th>\n",
       "      <th>Search</th>\n",
       "      <th>Newspaper Article</th>\n",
       "      <th>X Education Forums</th>\n",
       "      <th>...</th>\n",
       "      <th>Last Notable Activity_Form Submitted on Website</th>\n",
       "      <th>Last Notable Activity_Had a Phone Conversation</th>\n",
       "      <th>Last Notable Activity_Modified</th>\n",
       "      <th>Last Notable Activity_Olark Chat Conversation</th>\n",
       "      <th>Last Notable Activity_Page Visited on Website</th>\n",
       "      <th>Last Notable Activity_Resubscribed to emails</th>\n",
       "      <th>Last Notable Activity_SMS Sent</th>\n",
       "      <th>Last Notable Activity_Unreachable</th>\n",
       "      <th>Last Notable Activity_Unsubscribed</th>\n",
       "      <th>Last Notable Activity_View in browser link Clicked</th>\n",
       "    </tr>\n",
       "  </thead>\n",
       "  <tbody>\n",
       "    <tr>\n",
       "      <th>0</th>\n",
       "      <td>660737</td>\n",
       "      <td>0</td>\n",
       "      <td>0</td>\n",
       "      <td>0</td>\n",
       "      <td>0.0</td>\n",
       "      <td>0</td>\n",
       "      <td>0.0</td>\n",
       "      <td>0</td>\n",
       "      <td>0</td>\n",
       "      <td>0</td>\n",
       "      <td>...</td>\n",
       "      <td>0</td>\n",
       "      <td>0</td>\n",
       "      <td>1</td>\n",
       "      <td>0</td>\n",
       "      <td>0</td>\n",
       "      <td>0</td>\n",
       "      <td>0</td>\n",
       "      <td>0</td>\n",
       "      <td>0</td>\n",
       "      <td>0</td>\n",
       "    </tr>\n",
       "    <tr>\n",
       "      <th>1</th>\n",
       "      <td>660728</td>\n",
       "      <td>0</td>\n",
       "      <td>0</td>\n",
       "      <td>0</td>\n",
       "      <td>5.0</td>\n",
       "      <td>674</td>\n",
       "      <td>2.5</td>\n",
       "      <td>0</td>\n",
       "      <td>0</td>\n",
       "      <td>0</td>\n",
       "      <td>...</td>\n",
       "      <td>0</td>\n",
       "      <td>0</td>\n",
       "      <td>0</td>\n",
       "      <td>0</td>\n",
       "      <td>0</td>\n",
       "      <td>0</td>\n",
       "      <td>0</td>\n",
       "      <td>0</td>\n",
       "      <td>0</td>\n",
       "      <td>0</td>\n",
       "    </tr>\n",
       "    <tr>\n",
       "      <th>2</th>\n",
       "      <td>660727</td>\n",
       "      <td>0</td>\n",
       "      <td>0</td>\n",
       "      <td>1</td>\n",
       "      <td>2.0</td>\n",
       "      <td>1532</td>\n",
       "      <td>2.0</td>\n",
       "      <td>0</td>\n",
       "      <td>0</td>\n",
       "      <td>0</td>\n",
       "      <td>...</td>\n",
       "      <td>0</td>\n",
       "      <td>0</td>\n",
       "      <td>0</td>\n",
       "      <td>0</td>\n",
       "      <td>0</td>\n",
       "      <td>0</td>\n",
       "      <td>0</td>\n",
       "      <td>0</td>\n",
       "      <td>0</td>\n",
       "      <td>0</td>\n",
       "    </tr>\n",
       "    <tr>\n",
       "      <th>3</th>\n",
       "      <td>660719</td>\n",
       "      <td>0</td>\n",
       "      <td>0</td>\n",
       "      <td>0</td>\n",
       "      <td>1.0</td>\n",
       "      <td>305</td>\n",
       "      <td>1.0</td>\n",
       "      <td>0</td>\n",
       "      <td>0</td>\n",
       "      <td>0</td>\n",
       "      <td>...</td>\n",
       "      <td>0</td>\n",
       "      <td>0</td>\n",
       "      <td>1</td>\n",
       "      <td>0</td>\n",
       "      <td>0</td>\n",
       "      <td>0</td>\n",
       "      <td>0</td>\n",
       "      <td>0</td>\n",
       "      <td>0</td>\n",
       "      <td>0</td>\n",
       "    </tr>\n",
       "    <tr>\n",
       "      <th>4</th>\n",
       "      <td>660681</td>\n",
       "      <td>0</td>\n",
       "      <td>0</td>\n",
       "      <td>1</td>\n",
       "      <td>2.0</td>\n",
       "      <td>1428</td>\n",
       "      <td>1.0</td>\n",
       "      <td>0</td>\n",
       "      <td>0</td>\n",
       "      <td>0</td>\n",
       "      <td>...</td>\n",
       "      <td>0</td>\n",
       "      <td>0</td>\n",
       "      <td>1</td>\n",
       "      <td>0</td>\n",
       "      <td>0</td>\n",
       "      <td>0</td>\n",
       "      <td>0</td>\n",
       "      <td>0</td>\n",
       "      <td>0</td>\n",
       "      <td>0</td>\n",
       "    </tr>\n",
       "  </tbody>\n",
       "</table>\n",
       "<p>5 rows × 88 columns</p>\n",
       "</div>"
      ],
      "text/plain": [
       "   Lead Number  Do Not Email  Do Not Call  Converted  TotalVisits  \\\n",
       "0       660737             0            0          0          0.0   \n",
       "1       660728             0            0          0          5.0   \n",
       "2       660727             0            0          1          2.0   \n",
       "3       660719             0            0          0          1.0   \n",
       "4       660681             0            0          1          2.0   \n",
       "\n",
       "   Total Time Spent on Website  Page Views Per Visit  Search  \\\n",
       "0                            0                   0.0       0   \n",
       "1                          674                   2.5       0   \n",
       "2                         1532                   2.0       0   \n",
       "3                          305                   1.0       0   \n",
       "4                         1428                   1.0       0   \n",
       "\n",
       "   Newspaper Article  X Education Forums  ...  \\\n",
       "0                  0                   0  ...   \n",
       "1                  0                   0  ...   \n",
       "2                  0                   0  ...   \n",
       "3                  0                   0  ...   \n",
       "4                  0                   0  ...   \n",
       "\n",
       "   Last Notable Activity_Form Submitted on Website  \\\n",
       "0                                                0   \n",
       "1                                                0   \n",
       "2                                                0   \n",
       "3                                                0   \n",
       "4                                                0   \n",
       "\n",
       "   Last Notable Activity_Had a Phone Conversation  \\\n",
       "0                                               0   \n",
       "1                                               0   \n",
       "2                                               0   \n",
       "3                                               0   \n",
       "4                                               0   \n",
       "\n",
       "   Last Notable Activity_Modified  \\\n",
       "0                               1   \n",
       "1                               0   \n",
       "2                               0   \n",
       "3                               1   \n",
       "4                               1   \n",
       "\n",
       "   Last Notable Activity_Olark Chat Conversation  \\\n",
       "0                                              0   \n",
       "1                                              0   \n",
       "2                                              0   \n",
       "3                                              0   \n",
       "4                                              0   \n",
       "\n",
       "   Last Notable Activity_Page Visited on Website  \\\n",
       "0                                              0   \n",
       "1                                              0   \n",
       "2                                              0   \n",
       "3                                              0   \n",
       "4                                              0   \n",
       "\n",
       "   Last Notable Activity_Resubscribed to emails  \\\n",
       "0                                             0   \n",
       "1                                             0   \n",
       "2                                             0   \n",
       "3                                             0   \n",
       "4                                             0   \n",
       "\n",
       "   Last Notable Activity_SMS Sent  Last Notable Activity_Unreachable  \\\n",
       "0                               0                                  0   \n",
       "1                               0                                  0   \n",
       "2                               0                                  0   \n",
       "3                               0                                  0   \n",
       "4                               0                                  0   \n",
       "\n",
       "   Last Notable Activity_Unsubscribed  \\\n",
       "0                                   0   \n",
       "1                                   0   \n",
       "2                                   0   \n",
       "3                                   0   \n",
       "4                                   0   \n",
       "\n",
       "   Last Notable Activity_View in browser link Clicked  \n",
       "0                                                  0   \n",
       "1                                                  0   \n",
       "2                                                  0   \n",
       "3                                                  0   \n",
       "4                                                  0   \n",
       "\n",
       "[5 rows x 88 columns]"
      ]
     },
     "execution_count": 154,
     "metadata": {},
     "output_type": "execute_result"
    }
   ],
   "source": [
    "leads.head()"
   ]
  },
  {
   "cell_type": "code",
   "execution_count": null,
   "id": "1edf12e2",
   "metadata": {},
   "outputs": [],
   "source": []
  },
  {
   "cell_type": "code",
   "execution_count": 155,
   "id": "5c6ea66e",
   "metadata": {},
   "outputs": [
    {
     "data": {
      "text/plain": [
       "0    0\n",
       "1    0\n",
       "2    1\n",
       "3    0\n",
       "4    1\n",
       "Name: Converted, dtype: int64"
      ]
     },
     "execution_count": 155,
     "metadata": {},
     "output_type": "execute_result"
    }
   ],
   "source": [
    "y = leads['Converted']\n",
    "y.head()"
   ]
  },
  {
   "cell_type": "code",
   "execution_count": 156,
   "id": "89931f3e",
   "metadata": {},
   "outputs": [],
   "source": [
    "# To split the data into train and test\n",
    "X_train, X_test, y_train, y_test = train_test_split(X, y, train_size=0.7, test_size=0.3, random_state=100)"
   ]
  },
  {
   "cell_type": "code",
   "execution_count": 157,
   "id": "4ffa553b",
   "metadata": {},
   "outputs": [],
   "source": [
    "### Feature Scaling\n",
    "scaler = StandardScaler()"
   ]
  },
  {
   "cell_type": "code",
   "execution_count": 158,
   "id": "76e183a8",
   "metadata": {},
   "outputs": [
    {
     "data": {
      "text/plain": [
       "['TotalVisits', 'Total Time Spent on Website', 'Page Views Per Visit']"
      ]
     },
     "execution_count": 158,
     "metadata": {},
     "output_type": "execute_result"
    }
   ],
   "source": [
    "numeric_variables"
   ]
  },
  {
   "cell_type": "code",
   "execution_count": 159,
   "id": "7862ae7f",
   "metadata": {
    "scrolled": true
   },
   "outputs": [
    {
     "data": {
      "text/html": [
       "<div>\n",
       "<style scoped>\n",
       "    .dataframe tbody tr th:only-of-type {\n",
       "        vertical-align: middle;\n",
       "    }\n",
       "\n",
       "    .dataframe tbody tr th {\n",
       "        vertical-align: top;\n",
       "    }\n",
       "\n",
       "    .dataframe thead th {\n",
       "        text-align: right;\n",
       "    }\n",
       "</style>\n",
       "<table border=\"1\" class=\"dataframe\">\n",
       "  <thead>\n",
       "    <tr style=\"text-align: right;\">\n",
       "      <th></th>\n",
       "      <th>Lead Number</th>\n",
       "      <th>Do Not Email</th>\n",
       "      <th>Do Not Call</th>\n",
       "      <th>TotalVisits</th>\n",
       "      <th>Total Time Spent on Website</th>\n",
       "      <th>Page Views Per Visit</th>\n",
       "      <th>Search</th>\n",
       "      <th>Newspaper Article</th>\n",
       "      <th>X Education Forums</th>\n",
       "      <th>Newspaper</th>\n",
       "      <th>...</th>\n",
       "      <th>Last Notable Activity_Form Submitted on Website</th>\n",
       "      <th>Last Notable Activity_Had a Phone Conversation</th>\n",
       "      <th>Last Notable Activity_Modified</th>\n",
       "      <th>Last Notable Activity_Olark Chat Conversation</th>\n",
       "      <th>Last Notable Activity_Page Visited on Website</th>\n",
       "      <th>Last Notable Activity_Resubscribed to emails</th>\n",
       "      <th>Last Notable Activity_SMS Sent</th>\n",
       "      <th>Last Notable Activity_Unreachable</th>\n",
       "      <th>Last Notable Activity_Unsubscribed</th>\n",
       "      <th>Last Notable Activity_View in browser link Clicked</th>\n",
       "    </tr>\n",
       "  </thead>\n",
       "  <tbody>\n",
       "    <tr>\n",
       "      <th>5279</th>\n",
       "      <td>609296</td>\n",
       "      <td>1</td>\n",
       "      <td>0</td>\n",
       "      <td>-0.314975</td>\n",
       "      <td>-0.504462</td>\n",
       "      <td>-0.037025</td>\n",
       "      <td>0</td>\n",
       "      <td>0</td>\n",
       "      <td>0</td>\n",
       "      <td>0</td>\n",
       "      <td>...</td>\n",
       "      <td>0</td>\n",
       "      <td>0</td>\n",
       "      <td>1</td>\n",
       "      <td>0</td>\n",
       "      <td>0</td>\n",
       "      <td>0</td>\n",
       "      <td>0</td>\n",
       "      <td>0</td>\n",
       "      <td>0</td>\n",
       "      <td>0</td>\n",
       "    </tr>\n",
       "    <tr>\n",
       "      <th>3099</th>\n",
       "      <td>630158</td>\n",
       "      <td>0</td>\n",
       "      <td>0</td>\n",
       "      <td>-0.314975</td>\n",
       "      <td>-0.480383</td>\n",
       "      <td>-0.037025</td>\n",
       "      <td>0</td>\n",
       "      <td>0</td>\n",
       "      <td>0</td>\n",
       "      <td>0</td>\n",
       "      <td>...</td>\n",
       "      <td>0</td>\n",
       "      <td>0</td>\n",
       "      <td>0</td>\n",
       "      <td>0</td>\n",
       "      <td>0</td>\n",
       "      <td>0</td>\n",
       "      <td>1</td>\n",
       "      <td>0</td>\n",
       "      <td>0</td>\n",
       "      <td>0</td>\n",
       "    </tr>\n",
       "    <tr>\n",
       "      <th>91</th>\n",
       "      <td>659607</td>\n",
       "      <td>0</td>\n",
       "      <td>0</td>\n",
       "      <td>1.396648</td>\n",
       "      <td>1.279233</td>\n",
       "      <td>-0.340229</td>\n",
       "      <td>0</td>\n",
       "      <td>0</td>\n",
       "      <td>0</td>\n",
       "      <td>0</td>\n",
       "      <td>...</td>\n",
       "      <td>0</td>\n",
       "      <td>0</td>\n",
       "      <td>0</td>\n",
       "      <td>0</td>\n",
       "      <td>0</td>\n",
       "      <td>0</td>\n",
       "      <td>0</td>\n",
       "      <td>0</td>\n",
       "      <td>0</td>\n",
       "      <td>0</td>\n",
       "    </tr>\n",
       "    <tr>\n",
       "      <th>1577</th>\n",
       "      <td>643838</td>\n",
       "      <td>0</td>\n",
       "      <td>0</td>\n",
       "      <td>-1.170787</td>\n",
       "      <td>-0.865647</td>\n",
       "      <td>-1.249840</td>\n",
       "      <td>0</td>\n",
       "      <td>0</td>\n",
       "      <td>0</td>\n",
       "      <td>0</td>\n",
       "      <td>...</td>\n",
       "      <td>0</td>\n",
       "      <td>0</td>\n",
       "      <td>0</td>\n",
       "      <td>0</td>\n",
       "      <td>0</td>\n",
       "      <td>0</td>\n",
       "      <td>0</td>\n",
       "      <td>0</td>\n",
       "      <td>0</td>\n",
       "      <td>0</td>\n",
       "    </tr>\n",
       "    <tr>\n",
       "      <th>487</th>\n",
       "      <td>655227</td>\n",
       "      <td>0</td>\n",
       "      <td>0</td>\n",
       "      <td>-0.314975</td>\n",
       "      <td>-0.617448</td>\n",
       "      <td>-0.037025</td>\n",
       "      <td>0</td>\n",
       "      <td>0</td>\n",
       "      <td>0</td>\n",
       "      <td>0</td>\n",
       "      <td>...</td>\n",
       "      <td>0</td>\n",
       "      <td>0</td>\n",
       "      <td>0</td>\n",
       "      <td>0</td>\n",
       "      <td>0</td>\n",
       "      <td>0</td>\n",
       "      <td>0</td>\n",
       "      <td>0</td>\n",
       "      <td>0</td>\n",
       "      <td>0</td>\n",
       "    </tr>\n",
       "  </tbody>\n",
       "</table>\n",
       "<p>5 rows × 87 columns</p>\n",
       "</div>"
      ],
      "text/plain": [
       "      Lead Number  Do Not Email  Do Not Call  TotalVisits  \\\n",
       "5279       609296             1            0    -0.314975   \n",
       "3099       630158             0            0    -0.314975   \n",
       "91         659607             0            0     1.396648   \n",
       "1577       643838             0            0    -1.170787   \n",
       "487        655227             0            0    -0.314975   \n",
       "\n",
       "      Total Time Spent on Website  Page Views Per Visit  Search  \\\n",
       "5279                    -0.504462             -0.037025       0   \n",
       "3099                    -0.480383             -0.037025       0   \n",
       "91                       1.279233             -0.340229       0   \n",
       "1577                    -0.865647             -1.249840       0   \n",
       "487                     -0.617448             -0.037025       0   \n",
       "\n",
       "      Newspaper Article  X Education Forums  Newspaper  ...  \\\n",
       "5279                  0                   0          0  ...   \n",
       "3099                  0                   0          0  ...   \n",
       "91                    0                   0          0  ...   \n",
       "1577                  0                   0          0  ...   \n",
       "487                   0                   0          0  ...   \n",
       "\n",
       "      Last Notable Activity_Form Submitted on Website  \\\n",
       "5279                                                0   \n",
       "3099                                                0   \n",
       "91                                                  0   \n",
       "1577                                                0   \n",
       "487                                                 0   \n",
       "\n",
       "      Last Notable Activity_Had a Phone Conversation  \\\n",
       "5279                                               0   \n",
       "3099                                               0   \n",
       "91                                                 0   \n",
       "1577                                               0   \n",
       "487                                                0   \n",
       "\n",
       "      Last Notable Activity_Modified  \\\n",
       "5279                               1   \n",
       "3099                               0   \n",
       "91                                 0   \n",
       "1577                               0   \n",
       "487                                0   \n",
       "\n",
       "      Last Notable Activity_Olark Chat Conversation  \\\n",
       "5279                                              0   \n",
       "3099                                              0   \n",
       "91                                                0   \n",
       "1577                                              0   \n",
       "487                                               0   \n",
       "\n",
       "      Last Notable Activity_Page Visited on Website  \\\n",
       "5279                                              0   \n",
       "3099                                              0   \n",
       "91                                                0   \n",
       "1577                                              0   \n",
       "487                                               0   \n",
       "\n",
       "      Last Notable Activity_Resubscribed to emails  \\\n",
       "5279                                             0   \n",
       "3099                                             0   \n",
       "91                                               0   \n",
       "1577                                             0   \n",
       "487                                              0   \n",
       "\n",
       "      Last Notable Activity_SMS Sent  Last Notable Activity_Unreachable  \\\n",
       "5279                               0                                  0   \n",
       "3099                               1                                  0   \n",
       "91                                 0                                  0   \n",
       "1577                               0                                  0   \n",
       "487                                0                                  0   \n",
       "\n",
       "      Last Notable Activity_Unsubscribed  \\\n",
       "5279                                   0   \n",
       "3099                                   0   \n",
       "91                                     0   \n",
       "1577                                   0   \n",
       "487                                    0   \n",
       "\n",
       "      Last Notable Activity_View in browser link Clicked  \n",
       "5279                                                  0   \n",
       "3099                                                  0   \n",
       "91                                                    0   \n",
       "1577                                                  0   \n",
       "487                                                   0   \n",
       "\n",
       "[5 rows x 87 columns]"
      ]
     },
     "execution_count": 159,
     "metadata": {},
     "output_type": "execute_result"
    }
   ],
   "source": [
    "#Applying scaler to all numerical columns\n",
    "X_train[numeric_variables] = scaler.fit_transform(X_train[numeric_variables])\n",
    "X_train.head()"
   ]
  },
  {
   "cell_type": "code",
   "execution_count": null,
   "id": "acd2f528",
   "metadata": {},
   "outputs": [],
   "source": []
  },
  {
   "cell_type": "markdown",
   "id": "332a3dff",
   "metadata": {},
   "source": [
    "## Building the Model"
   ]
  },
  {
   "cell_type": "code",
   "execution_count": 160,
   "id": "84538326",
   "metadata": {},
   "outputs": [],
   "source": [
    "## Feature Selection using RFE\n",
    "# To create an instance of Logistic Regression\n",
    "from sklearn.linear_model import LogisticRegression\n",
    "logreg = LogisticRegression()"
   ]
  },
  {
   "cell_type": "code",
   "execution_count": 162,
   "id": "20e04801",
   "metadata": {},
   "outputs": [],
   "source": [
    "from sklearn.feature_selection import RFE\n",
    "rfe = RFE(logreg, n_features_to_select=20)             # running RFE with 15 variables as output\n",
    "rfe = rfe.fit(X_train, y_train)"
   ]
  },
  {
   "cell_type": "code",
   "execution_count": 163,
   "id": "64f71a8e",
   "metadata": {},
   "outputs": [
    {
     "data": {
      "text/plain": [
       "array([ True,  True, False,  True,  True,  True, False, False, False,\n",
       "       False, False, False,  True, False, False, False, False, False,\n",
       "       False, False, False, False, False, False,  True, False, False,\n",
       "       False, False, False, False, False, False, False, False, False,\n",
       "       False, False, False, False, False, False, False, False, False,\n",
       "       False, False, False, False, False,  True, False, False, False,\n",
       "       False,  True,  True, False, False,  True, False, False, False,\n",
       "        True, False, False, False, False, False,  True,  True, False,\n",
       "       False,  True, False,  True, False, False, False,  True,  True,\n",
       "        True, False,  True, False, False, False])"
      ]
     },
     "execution_count": 163,
     "metadata": {},
     "output_type": "execute_result"
    }
   ],
   "source": [
    "# To check output of RFE\n",
    "rfe.support_"
   ]
  },
  {
   "cell_type": "code",
   "execution_count": 164,
   "id": "6eef2d64",
   "metadata": {},
   "outputs": [
    {
     "data": {
      "text/plain": [
       "[('Lead Number', True, 1),\n",
       " ('Do Not Email', True, 1),\n",
       " ('Do Not Call', False, 27),\n",
       " ('TotalVisits', True, 1),\n",
       " ('Total Time Spent on Website', True, 1),\n",
       " ('Page Views Per Visit', True, 1),\n",
       " ('Search', False, 54),\n",
       " ('Newspaper Article', False, 58),\n",
       " ('X Education Forums', False, 63),\n",
       " ('Newspaper', False, 47),\n",
       " ('Digital Advertisement', False, 56),\n",
       " ('Through Recommendations', False, 30),\n",
       " ('A free copy of Mastering The Interview', True, 1),\n",
       " ('Country_Australia', False, 10),\n",
       " ('Country_Bahrain', False, 14),\n",
       " ('Country_Bangladesh', False, 33),\n",
       " ('Country_Belgium', False, 25),\n",
       " ('Country_Canada', False, 24),\n",
       " ('Country_China', False, 35),\n",
       " ('Country_Denmark', False, 57),\n",
       " ('Country_France', False, 22),\n",
       " ('Country_Germany', False, 29),\n",
       " ('Country_Ghana', False, 52),\n",
       " ('Country_Hong Kong', False, 16),\n",
       " ('Country_India', True, 1),\n",
       " ('Country_Indonesia', False, 64),\n",
       " ('Country_Italy', False, 43),\n",
       " ('Country_Kenya', False, 60),\n",
       " ('Country_Kuwait', False, 21),\n",
       " ('Country_Liberia', False, 40),\n",
       " ('Country_Malaysia', False, 66),\n",
       " ('Country_Netherlands', False, 41),\n",
       " ('Country_Nigeria', False, 15),\n",
       " ('Country_Oman', False, 26),\n",
       " ('Country_Philippines', False, 23),\n",
       " ('Country_Qatar', False, 11),\n",
       " ('Country_Russia', False, 62),\n",
       " ('Country_Saudi Arabia', False, 17),\n",
       " ('Country_Singapore', False, 18),\n",
       " ('Country_South Africa', False, 38),\n",
       " ('Country_Sri Lanka', False, 49),\n",
       " ('Country_Sweden', False, 53),\n",
       " ('Country_Switzerland', False, 67),\n",
       " ('Country_Tanzania', False, 68),\n",
       " ('Country_Uganda', False, 39),\n",
       " ('Country_United Arab Emirates', False, 8),\n",
       " ('Country_United Kingdom', False, 55),\n",
       " ('Country_United States', False, 5),\n",
       " ('Country_Vietnam', False, 36),\n",
       " ('Country_unknown', False, 42),\n",
       " ('Lead Source_Direct Traffic', True, 1),\n",
       " ('Lead Source_Facebook', False, 12),\n",
       " ('Lead Source_Google', False, 7),\n",
       " ('Lead Source_Live Chat', False, 19),\n",
       " ('Lead Source_NC_EDM', False, 32),\n",
       " ('Lead Source_Olark Chat', True, 1),\n",
       " ('Lead Source_Organic Search', True, 1),\n",
       " ('Lead Source_Pay per Click Ads', False, 50),\n",
       " ('Lead Source_Press_Release', False, 37),\n",
       " ('Lead Source_Reference', True, 1),\n",
       " ('Lead Source_Referral Sites', False, 2),\n",
       " ('Lead Source_Social Media', False, 28),\n",
       " ('Lead Source_WeLearn', False, 65),\n",
       " ('Lead Source_Welingak Website', True, 1),\n",
       " ('Lead Source_bing', False, 34),\n",
       " ('Lead Source_blog', False, 51),\n",
       " ('Lead Source_testone', False, 44),\n",
       " ('Lead Source_welearnblog_Home', False, 48),\n",
       " ('Lead Source_youtubechannel', False, 46),\n",
       " ('Lead Origin_Landing Page Submission', True, 1),\n",
       " ('Lead Origin_Lead Add Form', True, 1),\n",
       " ('Lead Origin_Lead Import', False, 13),\n",
       " ('Last Notable Activity_Email Bounced', False, 4),\n",
       " ('Last Notable Activity_Email Link Clicked', True, 1),\n",
       " ('Last Notable Activity_Email Marked Spam', False, 20),\n",
       " ('Last Notable Activity_Email Opened', True, 1),\n",
       " ('Last Notable Activity_Email Received', False, 31),\n",
       " ('Last Notable Activity_Form Submitted on Website', False, 59),\n",
       " ('Last Notable Activity_Had a Phone Conversation', False, 9),\n",
       " ('Last Notable Activity_Modified', True, 1),\n",
       " ('Last Notable Activity_Olark Chat Conversation', True, 1),\n",
       " ('Last Notable Activity_Page Visited on Website', True, 1),\n",
       " ('Last Notable Activity_Resubscribed to emails', False, 61),\n",
       " ('Last Notable Activity_SMS Sent', True, 1),\n",
       " ('Last Notable Activity_Unreachable', False, 3),\n",
       " ('Last Notable Activity_Unsubscribed', False, 6),\n",
       " ('Last Notable Activity_View in browser link Clicked', False, 45)]"
      ]
     },
     "execution_count": 164,
     "metadata": {},
     "output_type": "execute_result"
    }
   ],
   "source": [
    "list(zip(X_train.columns, rfe.support_, rfe.ranking_))"
   ]
  },
  {
   "cell_type": "code",
   "execution_count": 165,
   "id": "5f7e6dcd",
   "metadata": {},
   "outputs": [
    {
     "data": {
      "text/plain": [
       "Index(['Lead Number', 'Do Not Email', 'TotalVisits',\n",
       "       'Total Time Spent on Website', 'Page Views Per Visit',\n",
       "       'A free copy of Mastering The Interview', 'Country_India',\n",
       "       'Lead Source_Direct Traffic', 'Lead Source_Olark Chat',\n",
       "       'Lead Source_Organic Search', 'Lead Source_Reference',\n",
       "       'Lead Source_Welingak Website', 'Lead Origin_Landing Page Submission',\n",
       "       'Lead Origin_Lead Add Form', 'Last Notable Activity_Email Link Clicked',\n",
       "       'Last Notable Activity_Email Opened', 'Last Notable Activity_Modified',\n",
       "       'Last Notable Activity_Olark Chat Conversation',\n",
       "       'Last Notable Activity_Page Visited on Website',\n",
       "       'Last Notable Activity_SMS Sent'],\n",
       "      dtype='object')"
      ]
     },
     "execution_count": 165,
     "metadata": {},
     "output_type": "execute_result"
    }
   ],
   "source": [
    "# Features selected\n",
    "col = X_train.columns[rfe.support_]\n",
    "col"
   ]
  },
  {
   "cell_type": "code",
   "execution_count": 166,
   "id": "f8635fb0",
   "metadata": {},
   "outputs": [
    {
     "data": {
      "text/plain": [
       "Index(['Do Not Call', 'Search', 'Newspaper Article', 'X Education Forums',\n",
       "       'Newspaper', 'Digital Advertisement', 'Through Recommendations',\n",
       "       'Country_Australia', 'Country_Bahrain', 'Country_Bangladesh',\n",
       "       'Country_Belgium', 'Country_Canada', 'Country_China', 'Country_Denmark',\n",
       "       'Country_France', 'Country_Germany', 'Country_Ghana',\n",
       "       'Country_Hong Kong', 'Country_Indonesia', 'Country_Italy',\n",
       "       'Country_Kenya', 'Country_Kuwait', 'Country_Liberia',\n",
       "       'Country_Malaysia', 'Country_Netherlands', 'Country_Nigeria',\n",
       "       'Country_Oman', 'Country_Philippines', 'Country_Qatar',\n",
       "       'Country_Russia', 'Country_Saudi Arabia', 'Country_Singapore',\n",
       "       'Country_South Africa', 'Country_Sri Lanka', 'Country_Sweden',\n",
       "       'Country_Switzerland', 'Country_Tanzania', 'Country_Uganda',\n",
       "       'Country_United Arab Emirates', 'Country_United Kingdom',\n",
       "       'Country_United States', 'Country_Vietnam', 'Country_unknown',\n",
       "       'Lead Source_Facebook', 'Lead Source_Google', 'Lead Source_Live Chat',\n",
       "       'Lead Source_NC_EDM', 'Lead Source_Pay per Click Ads',\n",
       "       'Lead Source_Press_Release', 'Lead Source_Referral Sites',\n",
       "       'Lead Source_Social Media', 'Lead Source_WeLearn', 'Lead Source_bing',\n",
       "       'Lead Source_blog', 'Lead Source_testone',\n",
       "       'Lead Source_welearnblog_Home', 'Lead Source_youtubechannel',\n",
       "       'Lead Origin_Lead Import', 'Last Notable Activity_Email Bounced',\n",
       "       'Last Notable Activity_Email Marked Spam',\n",
       "       'Last Notable Activity_Email Received',\n",
       "       'Last Notable Activity_Form Submitted on Website',\n",
       "       'Last Notable Activity_Had a Phone Conversation',\n",
       "       'Last Notable Activity_Resubscribed to emails',\n",
       "       'Last Notable Activity_Unreachable',\n",
       "       'Last Notable Activity_Unsubscribed',\n",
       "       'Last Notable Activity_View in browser link Clicked'],\n",
       "      dtype='object')"
      ]
     },
     "execution_count": 166,
     "metadata": {},
     "output_type": "execute_result"
    }
   ],
   "source": [
    "# Features eliminated\n",
    "X_train.columns[~rfe.support_]"
   ]
  },
  {
   "cell_type": "code",
   "execution_count": 167,
   "id": "103e6b22",
   "metadata": {},
   "outputs": [],
   "source": [
    "## Assessing the Model with StatsModels\n",
    "import statsmodels.api as sm\n",
    "\n",
    "# Function for building the model\n",
    "def build_model(X,y):\n",
    "    X_sm = sm.add_constant(X)    # To add a constant\n",
    "    logm = sm.GLM(y, X_sm, family = sm.families.Binomial()).fit()    # To fit the model\n",
    "    print(logm.summary())    # Summary of the model  \n",
    "    return X_sm, logm"
   ]
  },
  {
   "cell_type": "code",
   "execution_count": 168,
   "id": "1396bc51",
   "metadata": {},
   "outputs": [],
   "source": [
    "from statsmodels.stats.outliers_influence import variance_inflation_factor\n",
    "\n",
    "# Function to calculate Variance Inflation Factor (VIF)\n",
    "def check_VIF(X_in):\n",
    "    X = X_in.drop('const',1)    # As we don't need constant\n",
    "    vif = pd.DataFrame()\n",
    "    vif['Features'] = X.columns\n",
    "    vif['VIF'] = [variance_inflation_factor(X.values, i) for i in range(X.shape[1])]\n",
    "    vif['VIF'] = round(vif['VIF'], 2)\n",
    "    return vif.sort_values(by = \"VIF\", ascending = False)"
   ]
  },
  {
   "cell_type": "code",
   "execution_count": 169,
   "id": "17b4d50f",
   "metadata": {},
   "outputs": [],
   "source": [
    "# Function to get predicted values on train set\n",
    "\n",
    "def get_pred(X,logm):\n",
    "    y_train_pred = logm.predict(X)\n",
    "    y_train_pred = y_train_pred.values.reshape(-1)\n",
    "    # To create a dataframe to store original and predicted values\n",
    "    y_train_pred_final = pd.DataFrame({'Converted':y_train.values, 'Converted_prob':y_train_pred})\n",
    "    y_train_pred_final['Lead ID'] = y_train.index\n",
    "    # Using default threshold of 0.5 for now\n",
    "    y_train_pred_final['predicted'] = y_train_pred_final.Converted_prob.map(lambda x: 1 if x > 0.5 else 0)\n",
    "    return y_train_pred_final"
   ]
  },
  {
   "cell_type": "code",
   "execution_count": 170,
   "id": "0c83b6cb",
   "metadata": {},
   "outputs": [],
   "source": [
    "from sklearn import metrics\n",
    "\n",
    "# Function to get confusion matrix and accuracy\n",
    "def conf_mat(Converted,predicted):\n",
    "    confusion = metrics.confusion_matrix(Converted, predicted )\n",
    "    print(\"Confusion Matrix:\")\n",
    "    print(confusion)\n",
    "    print(\"Training Accuracy: \", metrics.accuracy_score(Converted, predicted))\n",
    "    return confusion"
   ]
  },
  {
   "cell_type": "code",
   "execution_count": 171,
   "id": "242bedaa",
   "metadata": {},
   "outputs": [],
   "source": [
    "# Function for calculating metric beyond accuracy\n",
    "def other_metrics(confusion):\n",
    "    TP = confusion[1,1]    # True positives \n",
    "    TN = confusion[0,0]    # True negatives\n",
    "    FP = confusion[0,1]    # False positives\n",
    "    FN = confusion[1,0]    # False negatives\n",
    "    print(\"Sensitivity: \", TP / float(TP+FN))\n",
    "    print(\"Specificity: \", TN / float(TN+FP))\n",
    "    print(\"False postive rate - predicting the lead conversion when the lead does not convert: \", FP/ float(TN+FP))\n",
    "    print(\"Positive predictive value: \", TP / float(TP+FP))\n",
    "    print(\"Negative predictive value: \", TN / float(TN+FN))"
   ]
  },
  {
   "cell_type": "code",
   "execution_count": 172,
   "id": "a31c8892",
   "metadata": {},
   "outputs": [
    {
     "name": "stdout",
     "output_type": "stream",
     "text": [
      "                 Generalized Linear Model Regression Results                  \n",
      "==============================================================================\n",
      "Dep. Variable:              Converted   No. Observations:                 5911\n",
      "Model:                            GLM   Df Residuals:                     5890\n",
      "Model Family:                Binomial   Df Model:                           20\n",
      "Link Function:                  Logit   Scale:                          1.0000\n",
      "Method:                          IRLS   Log-Likelihood:                -2643.3\n",
      "Date:                Tue, 24 Jan 2023   Deviance:                       5286.6\n",
      "Time:                        22:02:31   Pearson chi2:                 6.15e+03\n",
      "No. Iterations:                     7   Pseudo R-squ. (CS):             0.3487\n",
      "Covariance Type:            nonrobust                                         \n",
      "=================================================================================================================\n",
      "                                                    coef    std err          z      P>|z|      [0.025      0.975]\n",
      "-----------------------------------------------------------------------------------------------------------------\n",
      "const                                            -4.9748      1.033     -4.817      0.000      -6.999      -2.951\n",
      "Lead Number                                     8.21e-06   1.55e-06      5.297      0.000    5.17e-06    1.12e-05\n",
      "Do Not Email                                     -1.4836      0.192     -7.745      0.000      -1.859      -1.108\n",
      "TotalVisits                                       0.2504      0.054      4.626      0.000       0.144       0.356\n",
      "Total Time Spent on Website                       1.0889      0.040     26.987      0.000       1.010       1.168\n",
      "Page Views Per Visit                             -0.2167      0.062     -3.507      0.000      -0.338      -0.096\n",
      "A free copy of Mastering The Interview            0.0060      0.109      0.054      0.957      -0.208       0.220\n",
      "Country_India                                     0.0823      0.205      0.400      0.689      -0.320       0.485\n",
      "Lead Source_Direct Traffic                       -0.2771      0.116     -2.383      0.017      -0.505      -0.049\n",
      "Lead Source_Olark Chat                            0.8700      0.140      6.198      0.000       0.595       1.145\n",
      "Lead Source_Organic Search                       -0.1077      0.127     -0.850      0.395      -0.356       0.141\n",
      "Lead Source_Reference                             2.3904      0.965      2.478      0.013       0.500       4.281\n",
      "Lead Source_Welingak Website                      4.3731      1.384      3.159      0.002       1.660       7.087\n",
      "Lead Origin_Landing Page Submission               0.0231      0.107      0.217      0.828      -0.186       0.232\n",
      "Lead Origin_Lead Add Form                         1.8731      0.944      1.984      0.047       0.023       3.723\n",
      "Last Notable Activity_Email Link Clicked         -1.7321      0.386     -4.489      0.000      -2.488      -0.976\n",
      "Last Notable Activity_Email Opened               -1.1606      0.284     -4.090      0.000      -1.717      -0.604\n",
      "Last Notable Activity_Modified                   -1.8562      0.282     -6.587      0.000      -2.409      -1.304\n",
      "Last Notable Activity_Olark Chat Conversation    -3.1801      0.469     -6.785      0.000      -4.099      -2.262\n",
      "Last Notable Activity_Page Visited on Website    -1.7454      0.349     -5.003      0.000      -2.429      -1.062\n",
      "Last Notable Activity_SMS Sent                    0.3178      0.282      1.125      0.260      -0.236       0.871\n",
      "=================================================================================================================\n"
     ]
    }
   ],
   "source": [
    "# Model 1\n",
    "X1, logm1 = build_model(X_train[col],y_train)"
   ]
  },
  {
   "cell_type": "code",
   "execution_count": 173,
   "id": "234982c1",
   "metadata": {},
   "outputs": [],
   "source": [
    "# \"A free copy of Mastering The Interview\"  has a very high p-value > 0.05. Hence, it is insignificant and can be dropped."
   ]
  },
  {
   "cell_type": "code",
   "execution_count": 174,
   "id": "1eb2ae9c",
   "metadata": {},
   "outputs": [],
   "source": [
    "#Model 2\n",
    "col1 = col.drop('A free copy of Mastering The Interview',1)"
   ]
  },
  {
   "cell_type": "code",
   "execution_count": 175,
   "id": "ef813c53",
   "metadata": {},
   "outputs": [
    {
     "name": "stdout",
     "output_type": "stream",
     "text": [
      "                 Generalized Linear Model Regression Results                  \n",
      "==============================================================================\n",
      "Dep. Variable:              Converted   No. Observations:                 5911\n",
      "Model:                            GLM   Df Residuals:                     5891\n",
      "Model Family:                Binomial   Df Model:                           19\n",
      "Link Function:                  Logit   Scale:                          1.0000\n",
      "Method:                          IRLS   Log-Likelihood:                -2643.3\n",
      "Date:                Tue, 24 Jan 2023   Deviance:                       5286.6\n",
      "Time:                        22:05:15   Pearson chi2:                 6.15e+03\n",
      "No. Iterations:                     7   Pseudo R-squ. (CS):             0.3487\n",
      "Covariance Type:            nonrobust                                         \n",
      "=================================================================================================================\n",
      "                                                    coef    std err          z      P>|z|      [0.025      0.975]\n",
      "-----------------------------------------------------------------------------------------------------------------\n",
      "const                                            -4.9754      1.033     -4.818      0.000      -6.999      -2.952\n",
      "Lead Number                                    8.212e-06   1.55e-06      5.300      0.000    5.17e-06    1.12e-05\n",
      "Do Not Email                                     -1.4841      0.191     -7.758      0.000      -1.859      -1.109\n",
      "TotalVisits                                       0.2507      0.054      4.656      0.000       0.145       0.356\n",
      "Total Time Spent on Website                       1.0890      0.040     27.006      0.000       1.010       1.168\n",
      "Page Views Per Visit                             -0.2170      0.062     -3.525      0.000      -0.338      -0.096\n",
      "Country_India                                     0.0818      0.205      0.398      0.690      -0.320       0.484\n",
      "Lead Source_Direct Traffic                       -0.2736      0.097     -2.815      0.005      -0.464      -0.083\n",
      "Lead Source_Olark Chat                            0.8707      0.140      6.232      0.000       0.597       1.145\n",
      "Lead Source_Organic Search                       -0.1056      0.120     -0.876      0.381      -0.342       0.131\n",
      "Lead Source_Reference                             2.3907      0.965      2.479      0.013       0.500       4.281\n",
      "Lead Source_Welingak Website                      4.3733      1.384      3.159      0.002       1.660       7.087\n",
      "Lead Origin_Landing Page Submission               0.0248      0.102      0.244      0.807      -0.174       0.224\n",
      "Lead Origin_Lead Add Form                         1.8736      0.944      1.985      0.047       0.024       3.724\n",
      "Last Notable Activity_Email Link Clicked         -1.7323      0.386     -4.489      0.000      -2.489      -0.976\n",
      "Last Notable Activity_Email Opened               -1.1610      0.284     -4.093      0.000      -1.717      -0.605\n",
      "Last Notable Activity_Modified                   -1.8568      0.282     -6.593      0.000      -2.409      -1.305\n",
      "Last Notable Activity_Olark Chat Conversation    -3.1800      0.469     -6.786      0.000      -4.098      -2.261\n",
      "Last Notable Activity_Page Visited on Website    -1.7461      0.349     -5.007      0.000      -2.430      -1.063\n",
      "Last Notable Activity_SMS Sent                    0.3174      0.282      1.124      0.261      -0.236       0.871\n",
      "=================================================================================================================\n"
     ]
    }
   ],
   "source": [
    "# To rebuild the model\n",
    "X2, logm2 = build_model(X_train[col1],y_train)"
   ]
  },
  {
   "cell_type": "code",
   "execution_count": 176,
   "id": "15ed30ad",
   "metadata": {},
   "outputs": [],
   "source": [
    "# \"Lead Origin_Landing Page Submission\"  has a very high p-value > 0.05. Hence, it is insignificant and can be dropped.\n"
   ]
  },
  {
   "cell_type": "code",
   "execution_count": 177,
   "id": "38e07a91",
   "metadata": {},
   "outputs": [],
   "source": [
    "col2 = col1.drop('Lead Origin_Landing Page Submission',1)"
   ]
  },
  {
   "cell_type": "code",
   "execution_count": 178,
   "id": "0605d10f",
   "metadata": {},
   "outputs": [
    {
     "name": "stdout",
     "output_type": "stream",
     "text": [
      "                 Generalized Linear Model Regression Results                  \n",
      "==============================================================================\n",
      "Dep. Variable:              Converted   No. Observations:                 5911\n",
      "Model:                            GLM   Df Residuals:                     5892\n",
      "Model Family:                Binomial   Df Model:                           18\n",
      "Link Function:                  Logit   Scale:                          1.0000\n",
      "Method:                          IRLS   Log-Likelihood:                -2643.3\n",
      "Date:                Tue, 24 Jan 2023   Deviance:                       5286.6\n",
      "Time:                        22:06:42   Pearson chi2:                 6.15e+03\n",
      "No. Iterations:                     7   Pseudo R-squ. (CS):             0.3487\n",
      "Covariance Type:            nonrobust                                         \n",
      "=================================================================================================================\n",
      "                                                    coef    std err          z      P>|z|      [0.025      0.975]\n",
      "-----------------------------------------------------------------------------------------------------------------\n",
      "const                                            -4.9456      1.025     -4.824      0.000      -6.955      -2.936\n",
      "Lead Number                                    8.181e-06   1.54e-06      5.298      0.000    5.15e-06    1.12e-05\n",
      "Do Not Email                                     -1.4828      0.191     -7.751      0.000      -1.858      -1.108\n",
      "TotalVisits                                       0.2513      0.054      4.671      0.000       0.146       0.357\n",
      "Total Time Spent on Website                       1.0890      0.040     27.005      0.000       1.010       1.168\n",
      "Page Views Per Visit                             -0.2133      0.060     -3.574      0.000      -0.330      -0.096\n",
      "Country_India                                     0.0820      0.205      0.400      0.689      -0.320       0.484\n",
      "Lead Source_Direct Traffic                       -0.2640      0.089     -2.972      0.003      -0.438      -0.090\n",
      "Lead Source_Olark Chat                            0.8629      0.136      6.345      0.000       0.596       1.129\n",
      "Lead Source_Organic Search                       -0.1079      0.120     -0.899      0.369      -0.343       0.127\n",
      "Lead Source_Reference                             2.3894      0.965      2.477      0.013       0.499       4.280\n",
      "Lead Source_Welingak Website                      4.3720      1.384      3.158      0.002       1.659       7.085\n",
      "Lead Origin_Lead Add Form                         1.8674      0.944      1.979      0.048       0.018       3.717\n",
      "Last Notable Activity_Email Link Clicked         -1.7296      0.386     -4.484      0.000      -2.486      -0.974\n",
      "Last Notable Activity_Email Opened               -1.1592      0.284     -4.087      0.000      -1.715      -0.603\n",
      "Last Notable Activity_Modified                   -1.8557      0.282     -6.589      0.000      -2.408      -1.304\n",
      "Last Notable Activity_Olark Chat Conversation    -3.1806      0.469     -6.787      0.000      -4.099      -2.262\n",
      "Last Notable Activity_Page Visited on Website    -1.7455      0.349     -5.006      0.000      -2.429      -1.062\n",
      "Last Notable Activity_SMS Sent                    0.3190      0.282      1.130      0.258      -0.234       0.872\n",
      "=================================================================================================================\n"
     ]
    }
   ],
   "source": [
    "# Model 3\n",
    "# To rebuild the model\n",
    "X3, logm3 = build_model(X_train[col2],y_train)"
   ]
  },
  {
   "cell_type": "code",
   "execution_count": 179,
   "id": "f0443faf",
   "metadata": {},
   "outputs": [],
   "source": [
    "# \"Country_India\"  has a very high p-value > 0.05. Hence, it is insignificant and can be dropped.\n",
    "col3 = col2.drop('Country_India',1)"
   ]
  },
  {
   "cell_type": "code",
   "execution_count": 180,
   "id": "12d151dc",
   "metadata": {},
   "outputs": [
    {
     "name": "stdout",
     "output_type": "stream",
     "text": [
      "                 Generalized Linear Model Regression Results                  \n",
      "==============================================================================\n",
      "Dep. Variable:              Converted   No. Observations:                 5911\n",
      "Model:                            GLM   Df Residuals:                     5893\n",
      "Model Family:                Binomial   Df Model:                           17\n",
      "Link Function:                  Logit   Scale:                          1.0000\n",
      "Method:                          IRLS   Log-Likelihood:                -2643.4\n",
      "Date:                Tue, 24 Jan 2023   Deviance:                       5286.8\n",
      "Time:                        22:08:22   Pearson chi2:                 6.15e+03\n",
      "No. Iterations:                     7   Pseudo R-squ. (CS):             0.3487\n",
      "Covariance Type:            nonrobust                                         \n",
      "=================================================================================================================\n",
      "                                                    coef    std err          z      P>|z|      [0.025      0.975]\n",
      "-----------------------------------------------------------------------------------------------------------------\n",
      "const                                            -4.8665      1.006     -4.838      0.000      -6.838      -2.895\n",
      "Lead Number                                    8.183e-06   1.54e-06      5.299      0.000    5.16e-06    1.12e-05\n",
      "Do Not Email                                     -1.4839      0.191     -7.760      0.000      -1.859      -1.109\n",
      "TotalVisits                                       0.2508      0.054      4.664      0.000       0.145       0.356\n",
      "Total Time Spent on Website                       1.0890      0.040     27.006      0.000       1.010       1.168\n",
      "Page Views Per Visit                             -0.2133      0.060     -3.574      0.000      -0.330      -0.096\n",
      "Lead Source_Direct Traffic                       -0.2678      0.088     -3.033      0.002      -0.441      -0.095\n",
      "Lead Source_Olark Chat                            0.8633      0.136      6.349      0.000       0.597       1.130\n",
      "Lead Source_Organic Search                       -0.1096      0.120     -0.913      0.361      -0.345       0.126\n",
      "Lead Source_Reference                             2.3892      0.965      2.477      0.013       0.499       4.280\n",
      "Lead Source_Welingak Website                      4.3725      1.384      3.158      0.002       1.659       7.086\n",
      "Lead Origin_Lead Add Form                         1.8678      0.944      1.979      0.048       0.018       3.717\n",
      "Last Notable Activity_Email Link Clicked         -1.7300      0.386     -4.485      0.000      -2.486      -0.974\n",
      "Last Notable Activity_Email Opened               -1.1591      0.284     -4.087      0.000      -1.715      -0.603\n",
      "Last Notable Activity_Modified                   -1.8557      0.282     -6.589      0.000      -2.408      -1.304\n",
      "Last Notable Activity_Olark Chat Conversation    -3.1796      0.469     -6.785      0.000      -4.098      -2.261\n",
      "Last Notable Activity_Page Visited on Website    -1.7439      0.349     -5.002      0.000      -2.427      -1.061\n",
      "Last Notable Activity_SMS Sent                    0.3196      0.282      1.132      0.258      -0.234       0.873\n",
      "=================================================================================================================\n"
     ]
    }
   ],
   "source": [
    "# Model 4\n",
    "X4, logm4 = build_model(X_train[col3],y_train)"
   ]
  },
  {
   "cell_type": "code",
   "execution_count": 181,
   "id": "ad3bed6f",
   "metadata": {},
   "outputs": [
    {
     "name": "stdout",
     "output_type": "stream",
     "text": [
      "                 Generalized Linear Model Regression Results                  \n",
      "==============================================================================\n",
      "Dep. Variable:              Converted   No. Observations:                 5911\n",
      "Model:                            GLM   Df Residuals:                     5894\n",
      "Model Family:                Binomial   Df Model:                           16\n",
      "Link Function:                  Logit   Scale:                          1.0000\n",
      "Method:                          IRLS   Log-Likelihood:                -2643.8\n",
      "Date:                Tue, 24 Jan 2023   Deviance:                       5287.6\n",
      "Time:                        22:09:42   Pearson chi2:                 6.14e+03\n",
      "No. Iterations:                     7   Pseudo R-squ. (CS):             0.3486\n",
      "Covariance Type:            nonrobust                                         \n",
      "=================================================================================================================\n",
      "                                                    coef    std err          z      P>|z|      [0.025      0.975]\n",
      "-----------------------------------------------------------------------------------------------------------------\n",
      "const                                            -4.9399      1.003     -4.927      0.000      -6.905      -2.975\n",
      "Lead Number                                    8.281e-06   1.54e-06      5.377      0.000    5.26e-06    1.13e-05\n",
      "Do Not Email                                     -1.4918      0.191     -7.813      0.000      -1.866      -1.118\n",
      "TotalVisits                                       0.2469      0.054      4.607      0.000       0.142       0.352\n",
      "Total Time Spent on Website                       1.0893      0.040     27.017      0.000       1.010       1.168\n",
      "Page Views Per Visit                             -0.2171      0.060     -3.646      0.000      -0.334      -0.100\n",
      "Lead Source_Direct Traffic                       -0.2435      0.084     -2.891      0.004      -0.409      -0.078\n",
      "Lead Source_Olark Chat                            0.8765      0.135      6.480      0.000       0.611       1.142\n",
      "Lead Source_Reference                             2.3938      0.965      2.481      0.013       0.503       4.285\n",
      "Lead Source_Welingak Website                      4.3775      1.385      3.162      0.002       1.664       7.091\n",
      "Lead Origin_Lead Add Form                         1.8761      0.944      1.988      0.047       0.026       3.726\n",
      "Last Notable Activity_Email Link Clicked         -1.7413      0.385     -4.519      0.000      -2.497      -0.986\n",
      "Last Notable Activity_Email Opened               -1.1660      0.283     -4.114      0.000      -1.721      -0.611\n",
      "Last Notable Activity_Modified                   -1.8648      0.281     -6.628      0.000      -2.416      -1.313\n",
      "Last Notable Activity_Olark Chat Conversation    -3.1807      0.468     -6.791      0.000      -4.099      -2.263\n",
      "Last Notable Activity_Page Visited on Website    -1.7458      0.348     -5.011      0.000      -2.429      -1.063\n",
      "Last Notable Activity_SMS Sent                    0.3100      0.282      1.100      0.271      -0.243       0.863\n",
      "=================================================================================================================\n"
     ]
    }
   ],
   "source": [
    "# Model 5\n",
    "col4 = col3.drop('Lead Source_Organic Search',1)\n",
    "X5, logm5 = build_model(X_train[col4],y_train)"
   ]
  },
  {
   "cell_type": "code",
   "execution_count": 182,
   "id": "6fe9956d",
   "metadata": {},
   "outputs": [
    {
     "name": "stdout",
     "output_type": "stream",
     "text": [
      "                 Generalized Linear Model Regression Results                  \n",
      "==============================================================================\n",
      "Dep. Variable:              Converted   No. Observations:                 5911\n",
      "Model:                            GLM   Df Residuals:                     5895\n",
      "Model Family:                Binomial   Df Model:                           15\n",
      "Link Function:                  Logit   Scale:                          1.0000\n",
      "Method:                          IRLS   Log-Likelihood:                -2644.4\n",
      "Date:                Tue, 24 Jan 2023   Deviance:                       5288.8\n",
      "Time:                        22:10:44   Pearson chi2:                 6.14e+03\n",
      "No. Iterations:                     7   Pseudo R-squ. (CS):             0.3485\n",
      "Covariance Type:            nonrobust                                         \n",
      "=================================================================================================================\n",
      "                                                    coef    std err          z      P>|z|      [0.025      0.975]\n",
      "-----------------------------------------------------------------------------------------------------------------\n",
      "const                                            -4.5738      0.945     -4.838      0.000      -6.427      -2.721\n",
      "Lead Number                                    8.166e-06   1.54e-06      5.316      0.000    5.16e-06    1.12e-05\n",
      "Do Not Email                                     -1.5835      0.174     -9.080      0.000      -1.925      -1.242\n",
      "TotalVisits                                       0.2441      0.054      4.559      0.000       0.139       0.349\n",
      "Total Time Spent on Website                       1.0895      0.040     27.013      0.000       1.010       1.169\n",
      "Page Views Per Visit                             -0.2142      0.059     -3.602      0.000      -0.331      -0.098\n",
      "Lead Source_Direct Traffic                       -0.2406      0.084     -2.859      0.004      -0.406      -0.076\n",
      "Lead Source_Olark Chat                            0.8777      0.135      6.491      0.000       0.613       1.143\n",
      "Lead Source_Reference                             2.3938      0.964      2.483      0.013       0.504       4.283\n",
      "Lead Source_Welingak Website                      4.3909      1.384      3.172      0.002       1.677       7.104\n",
      "Lead Origin_Lead Add Form                         1.8806      0.943      1.994      0.046       0.032       3.729\n",
      "Last Notable Activity_Email Link Clicked         -2.0360      0.277     -7.348      0.000      -2.579      -1.493\n",
      "Last Notable Activity_Email Opened               -1.4614      0.091    -16.083      0.000      -1.639      -1.283\n",
      "Last Notable Activity_Modified                   -2.1565      0.094    -22.914      0.000      -2.341      -1.972\n",
      "Last Notable Activity_Olark Chat Conversation    -3.4737      0.386     -9.010      0.000      -4.229      -2.718\n",
      "Last Notable Activity_Page Visited on Website    -2.0355      0.229     -8.903      0.000      -2.484      -1.587\n",
      "=================================================================================================================\n"
     ]
    }
   ],
   "source": [
    "# Model 6\n",
    "col5 = col4.drop('Last Notable Activity_SMS Sent',1)\n",
    "X6, logm6 = build_model(X_train[col5],y_train)"
   ]
  },
  {
   "cell_type": "code",
   "execution_count": 183,
   "id": "fd34a1b2",
   "metadata": {},
   "outputs": [
    {
     "data": {
      "text/html": [
       "<div>\n",
       "<style scoped>\n",
       "    .dataframe tbody tr th:only-of-type {\n",
       "        vertical-align: middle;\n",
       "    }\n",
       "\n",
       "    .dataframe tbody tr th {\n",
       "        vertical-align: top;\n",
       "    }\n",
       "\n",
       "    .dataframe thead th {\n",
       "        text-align: right;\n",
       "    }\n",
       "</style>\n",
       "<table border=\"1\" class=\"dataframe\">\n",
       "  <thead>\n",
       "    <tr style=\"text-align: right;\">\n",
       "      <th></th>\n",
       "      <th>Features</th>\n",
       "      <th>VIF</th>\n",
       "    </tr>\n",
       "  </thead>\n",
       "  <tbody>\n",
       "    <tr>\n",
       "      <th>9</th>\n",
       "      <td>Lead Origin_Lead Add Form</td>\n",
       "      <td>68.23</td>\n",
       "    </tr>\n",
       "    <tr>\n",
       "      <th>7</th>\n",
       "      <td>Lead Source_Reference</td>\n",
       "      <td>54.75</td>\n",
       "    </tr>\n",
       "    <tr>\n",
       "      <th>8</th>\n",
       "      <td>Lead Source_Welingak Website</td>\n",
       "      <td>14.02</td>\n",
       "    </tr>\n",
       "    <tr>\n",
       "      <th>0</th>\n",
       "      <td>Lead Number</td>\n",
       "      <td>6.64</td>\n",
       "    </tr>\n",
       "    <tr>\n",
       "      <th>4</th>\n",
       "      <td>Page Views Per Visit</td>\n",
       "      <td>3.20</td>\n",
       "    </tr>\n",
       "    <tr>\n",
       "      <th>6</th>\n",
       "      <td>Lead Source_Olark Chat</td>\n",
       "      <td>3.16</td>\n",
       "    </tr>\n",
       "    <tr>\n",
       "      <th>2</th>\n",
       "      <td>TotalVisits</td>\n",
       "      <td>2.78</td>\n",
       "    </tr>\n",
       "    <tr>\n",
       "      <th>12</th>\n",
       "      <td>Last Notable Activity_Modified</td>\n",
       "      <td>2.71</td>\n",
       "    </tr>\n",
       "    <tr>\n",
       "      <th>11</th>\n",
       "      <td>Last Notable Activity_Email Opened</td>\n",
       "      <td>2.33</td>\n",
       "    </tr>\n",
       "    <tr>\n",
       "      <th>5</th>\n",
       "      <td>Lead Source_Direct Traffic</td>\n",
       "      <td>1.66</td>\n",
       "    </tr>\n",
       "    <tr>\n",
       "      <th>3</th>\n",
       "      <td>Total Time Spent on Website</td>\n",
       "      <td>1.33</td>\n",
       "    </tr>\n",
       "    <tr>\n",
       "      <th>14</th>\n",
       "      <td>Last Notable Activity_Page Visited on Website</td>\n",
       "      <td>1.16</td>\n",
       "    </tr>\n",
       "    <tr>\n",
       "      <th>1</th>\n",
       "      <td>Do Not Email</td>\n",
       "      <td>1.15</td>\n",
       "    </tr>\n",
       "    <tr>\n",
       "      <th>13</th>\n",
       "      <td>Last Notable Activity_Olark Chat Conversation</td>\n",
       "      <td>1.14</td>\n",
       "    </tr>\n",
       "    <tr>\n",
       "      <th>10</th>\n",
       "      <td>Last Notable Activity_Email Link Clicked</td>\n",
       "      <td>1.09</td>\n",
       "    </tr>\n",
       "  </tbody>\n",
       "</table>\n",
       "</div>"
      ],
      "text/plain": [
       "                                         Features    VIF\n",
       "9                       Lead Origin_Lead Add Form  68.23\n",
       "7                           Lead Source_Reference  54.75\n",
       "8                    Lead Source_Welingak Website  14.02\n",
       "0                                     Lead Number   6.64\n",
       "4                            Page Views Per Visit   3.20\n",
       "6                          Lead Source_Olark Chat   3.16\n",
       "2                                     TotalVisits   2.78\n",
       "12                 Last Notable Activity_Modified   2.71\n",
       "11             Last Notable Activity_Email Opened   2.33\n",
       "5                      Lead Source_Direct Traffic   1.66\n",
       "3                     Total Time Spent on Website   1.33\n",
       "14  Last Notable Activity_Page Visited on Website   1.16\n",
       "1                                    Do Not Email   1.15\n",
       "13  Last Notable Activity_Olark Chat Conversation   1.14\n",
       "10       Last Notable Activity_Email Link Clicked   1.09"
      ]
     },
     "execution_count": 183,
     "metadata": {},
     "output_type": "execute_result"
    }
   ],
   "source": [
    "check_VIF(X6)"
   ]
  },
  {
   "cell_type": "code",
   "execution_count": 184,
   "id": "e22e292f",
   "metadata": {},
   "outputs": [
    {
     "name": "stdout",
     "output_type": "stream",
     "text": [
      "                 Generalized Linear Model Regression Results                  \n",
      "==============================================================================\n",
      "Dep. Variable:              Converted   No. Observations:                 5911\n",
      "Model:                            GLM   Df Residuals:                     5896\n",
      "Model Family:                Binomial   Df Model:                           14\n",
      "Link Function:                  Logit   Scale:                          1.0000\n",
      "Method:                          IRLS   Log-Likelihood:                -2646.6\n",
      "Date:                Tue, 24 Jan 2023   Deviance:                       5293.2\n",
      "Time:                        22:12:48   Pearson chi2:                 6.14e+03\n",
      "No. Iterations:                     7   Pseudo R-squ. (CS):             0.3480\n",
      "Covariance Type:            nonrobust                                         \n",
      "=================================================================================================================\n",
      "                                                    coef    std err          z      P>|z|      [0.025      0.975]\n",
      "-----------------------------------------------------------------------------------------------------------------\n",
      "const                                            -4.6104      0.945     -4.880      0.000      -6.462      -2.759\n",
      "Lead Number                                    8.245e-06   1.54e-06      5.371      0.000    5.24e-06    1.13e-05\n",
      "Do Not Email                                     -1.5861      0.174     -9.099      0.000      -1.928      -1.244\n",
      "TotalVisits                                       0.2398      0.053      4.484      0.000       0.135       0.345\n",
      "Total Time Spent on Website                       1.0874      0.040     26.984      0.000       1.008       1.166\n",
      "Page Views Per Visit                             -0.2191      0.059     -3.688      0.000      -0.336      -0.103\n",
      "Lead Source_Direct Traffic                       -0.2466      0.084     -2.933      0.003      -0.411      -0.082\n",
      "Lead Source_Olark Chat                            0.8589      0.135      6.376      0.000       0.595       1.123\n",
      "Lead Source_Reference                             4.2526      0.244     17.410      0.000       3.774       4.731\n",
      "Lead Source_Welingak Website                      6.2496      1.023      6.107      0.000       4.244       8.255\n",
      "Last Notable Activity_Email Link Clicked         -2.0404      0.277     -7.366      0.000      -2.583      -1.498\n",
      "Last Notable Activity_Email Opened               -1.4631      0.091    -16.108      0.000      -1.641      -1.285\n",
      "Last Notable Activity_Modified                   -2.1616      0.094    -22.972      0.000      -2.346      -1.977\n",
      "Last Notable Activity_Olark Chat Conversation    -3.4752      0.385     -9.024      0.000      -4.230      -2.720\n",
      "Last Notable Activity_Page Visited on Website    -2.0177      0.228     -8.865      0.000      -2.464      -1.572\n",
      "=================================================================================================================\n"
     ]
    }
   ],
   "source": [
    "# Model 7\n",
    "col6 = col5.drop('Lead Origin_Lead Add Form',1)\n",
    "X7, logm7 = build_model(X_train[col6],y_train)"
   ]
  },
  {
   "cell_type": "code",
   "execution_count": 185,
   "id": "f4ac44e6",
   "metadata": {},
   "outputs": [
    {
     "data": {
      "text/html": [
       "<div>\n",
       "<style scoped>\n",
       "    .dataframe tbody tr th:only-of-type {\n",
       "        vertical-align: middle;\n",
       "    }\n",
       "\n",
       "    .dataframe tbody tr th {\n",
       "        vertical-align: top;\n",
       "    }\n",
       "\n",
       "    .dataframe thead th {\n",
       "        text-align: right;\n",
       "    }\n",
       "</style>\n",
       "<table border=\"1\" class=\"dataframe\">\n",
       "  <thead>\n",
       "    <tr style=\"text-align: right;\">\n",
       "      <th></th>\n",
       "      <th>Features</th>\n",
       "      <th>VIF</th>\n",
       "    </tr>\n",
       "  </thead>\n",
       "  <tbody>\n",
       "    <tr>\n",
       "      <th>0</th>\n",
       "      <td>Lead Number</td>\n",
       "      <td>6.62</td>\n",
       "    </tr>\n",
       "    <tr>\n",
       "      <th>4</th>\n",
       "      <td>Page Views Per Visit</td>\n",
       "      <td>3.20</td>\n",
       "    </tr>\n",
       "    <tr>\n",
       "      <th>6</th>\n",
       "      <td>Lead Source_Olark Chat</td>\n",
       "      <td>3.15</td>\n",
       "    </tr>\n",
       "    <tr>\n",
       "      <th>2</th>\n",
       "      <td>TotalVisits</td>\n",
       "      <td>2.77</td>\n",
       "    </tr>\n",
       "    <tr>\n",
       "      <th>11</th>\n",
       "      <td>Last Notable Activity_Modified</td>\n",
       "      <td>2.71</td>\n",
       "    </tr>\n",
       "    <tr>\n",
       "      <th>10</th>\n",
       "      <td>Last Notable Activity_Email Opened</td>\n",
       "      <td>2.33</td>\n",
       "    </tr>\n",
       "    <tr>\n",
       "      <th>5</th>\n",
       "      <td>Lead Source_Direct Traffic</td>\n",
       "      <td>1.66</td>\n",
       "    </tr>\n",
       "    <tr>\n",
       "      <th>7</th>\n",
       "      <td>Lead Source_Reference</td>\n",
       "      <td>1.59</td>\n",
       "    </tr>\n",
       "    <tr>\n",
       "      <th>3</th>\n",
       "      <td>Total Time Spent on Website</td>\n",
       "      <td>1.33</td>\n",
       "    </tr>\n",
       "    <tr>\n",
       "      <th>13</th>\n",
       "      <td>Last Notable Activity_Page Visited on Website</td>\n",
       "      <td>1.16</td>\n",
       "    </tr>\n",
       "    <tr>\n",
       "      <th>1</th>\n",
       "      <td>Do Not Email</td>\n",
       "      <td>1.15</td>\n",
       "    </tr>\n",
       "    <tr>\n",
       "      <th>8</th>\n",
       "      <td>Lead Source_Welingak Website</td>\n",
       "      <td>1.15</td>\n",
       "    </tr>\n",
       "    <tr>\n",
       "      <th>12</th>\n",
       "      <td>Last Notable Activity_Olark Chat Conversation</td>\n",
       "      <td>1.14</td>\n",
       "    </tr>\n",
       "    <tr>\n",
       "      <th>9</th>\n",
       "      <td>Last Notable Activity_Email Link Clicked</td>\n",
       "      <td>1.09</td>\n",
       "    </tr>\n",
       "  </tbody>\n",
       "</table>\n",
       "</div>"
      ],
      "text/plain": [
       "                                         Features   VIF\n",
       "0                                     Lead Number  6.62\n",
       "4                            Page Views Per Visit  3.20\n",
       "6                          Lead Source_Olark Chat  3.15\n",
       "2                                     TotalVisits  2.77\n",
       "11                 Last Notable Activity_Modified  2.71\n",
       "10             Last Notable Activity_Email Opened  2.33\n",
       "5                      Lead Source_Direct Traffic  1.66\n",
       "7                           Lead Source_Reference  1.59\n",
       "3                     Total Time Spent on Website  1.33\n",
       "13  Last Notable Activity_Page Visited on Website  1.16\n",
       "1                                    Do Not Email  1.15\n",
       "8                    Lead Source_Welingak Website  1.15\n",
       "12  Last Notable Activity_Olark Chat Conversation  1.14\n",
       "9        Last Notable Activity_Email Link Clicked  1.09"
      ]
     },
     "execution_count": 185,
     "metadata": {},
     "output_type": "execute_result"
    }
   ],
   "source": [
    "check_VIF(X7)"
   ]
  },
  {
   "cell_type": "code",
   "execution_count": 186,
   "id": "969c110f",
   "metadata": {},
   "outputs": [
    {
     "name": "stdout",
     "output_type": "stream",
     "text": [
      "                 Generalized Linear Model Regression Results                  \n",
      "==============================================================================\n",
      "Dep. Variable:              Converted   No. Observations:                 5911\n",
      "Model:                            GLM   Df Residuals:                     5897\n",
      "Model Family:                Binomial   Df Model:                           13\n",
      "Link Function:                  Logit   Scale:                          1.0000\n",
      "Method:                          IRLS   Log-Likelihood:                -2661.1\n",
      "Date:                Tue, 24 Jan 2023   Deviance:                       5322.3\n",
      "Time:                        22:13:46   Pearson chi2:                 6.20e+03\n",
      "No. Iterations:                     7   Pseudo R-squ. (CS):             0.3448\n",
      "Covariance Type:            nonrobust                                         \n",
      "=================================================================================================================\n",
      "                                                    coef    std err          z      P>|z|      [0.025      0.975]\n",
      "-----------------------------------------------------------------------------------------------------------------\n",
      "const                                             0.4454      0.083      5.335      0.000       0.282       0.609\n",
      "Do Not Email                                     -1.5941      0.173     -9.227      0.000      -1.933      -1.255\n",
      "TotalVisits                                       0.2352      0.053      4.407      0.000       0.131       0.340\n",
      "Total Time Spent on Website                       1.0865      0.040     27.024      0.000       1.008       1.165\n",
      "Page Views Per Visit                             -0.2050      0.059     -3.461      0.001      -0.321      -0.089\n",
      "Lead Source_Direct Traffic                       -0.3124      0.083     -3.769      0.000      -0.475      -0.150\n",
      "Lead Source_Olark Chat                            0.8086      0.134      6.027      0.000       0.546       1.072\n",
      "Lead Source_Reference                             4.2311      0.244     17.370      0.000       3.754       4.709\n",
      "Lead Source_Welingak Website                      6.2647      1.025      6.113      0.000       4.256       8.273\n",
      "Last Notable Activity_Email Link Clicked         -1.9305      0.274     -7.038      0.000      -2.468      -1.393\n",
      "Last Notable Activity_Email Opened               -1.3768      0.089    -15.503      0.000      -1.551      -1.203\n",
      "Last Notable Activity_Modified                   -2.0628      0.091    -22.565      0.000      -2.242      -1.884\n",
      "Last Notable Activity_Olark Chat Conversation    -3.4336      0.385     -8.921      0.000      -4.188      -2.679\n",
      "Last Notable Activity_Page Visited on Website    -1.9372      0.226     -8.577      0.000      -2.380      -1.495\n",
      "=================================================================================================================\n"
     ]
    }
   ],
   "source": [
    "# Model 8\n",
    "col7 = col6.drop('Lead Number',1)\n",
    "X8, logm8 = build_model(X_train[col7],y_train)"
   ]
  },
  {
   "cell_type": "code",
   "execution_count": 187,
   "id": "720b7136",
   "metadata": {},
   "outputs": [
    {
     "data": {
      "text/html": [
       "<div>\n",
       "<style scoped>\n",
       "    .dataframe tbody tr th:only-of-type {\n",
       "        vertical-align: middle;\n",
       "    }\n",
       "\n",
       "    .dataframe tbody tr th {\n",
       "        vertical-align: top;\n",
       "    }\n",
       "\n",
       "    .dataframe thead th {\n",
       "        text-align: right;\n",
       "    }\n",
       "</style>\n",
       "<table border=\"1\" class=\"dataframe\">\n",
       "  <thead>\n",
       "    <tr style=\"text-align: right;\">\n",
       "      <th></th>\n",
       "      <th>Features</th>\n",
       "      <th>VIF</th>\n",
       "    </tr>\n",
       "  </thead>\n",
       "  <tbody>\n",
       "    <tr>\n",
       "      <th>3</th>\n",
       "      <td>Page Views Per Visit</td>\n",
       "      <td>3.01</td>\n",
       "    </tr>\n",
       "    <tr>\n",
       "      <th>1</th>\n",
       "      <td>TotalVisits</td>\n",
       "      <td>2.75</td>\n",
       "    </tr>\n",
       "    <tr>\n",
       "      <th>5</th>\n",
       "      <td>Lead Source_Olark Chat</td>\n",
       "      <td>2.40</td>\n",
       "    </tr>\n",
       "    <tr>\n",
       "      <th>10</th>\n",
       "      <td>Last Notable Activity_Modified</td>\n",
       "      <td>1.49</td>\n",
       "    </tr>\n",
       "    <tr>\n",
       "      <th>9</th>\n",
       "      <td>Last Notable Activity_Email Opened</td>\n",
       "      <td>1.42</td>\n",
       "    </tr>\n",
       "    <tr>\n",
       "      <th>4</th>\n",
       "      <td>Lead Source_Direct Traffic</td>\n",
       "      <td>1.41</td>\n",
       "    </tr>\n",
       "    <tr>\n",
       "      <th>2</th>\n",
       "      <td>Total Time Spent on Website</td>\n",
       "      <td>1.28</td>\n",
       "    </tr>\n",
       "    <tr>\n",
       "      <th>6</th>\n",
       "      <td>Lead Source_Reference</td>\n",
       "      <td>1.27</td>\n",
       "    </tr>\n",
       "    <tr>\n",
       "      <th>0</th>\n",
       "      <td>Do Not Email</td>\n",
       "      <td>1.12</td>\n",
       "    </tr>\n",
       "    <tr>\n",
       "      <th>12</th>\n",
       "      <td>Last Notable Activity_Page Visited on Website</td>\n",
       "      <td>1.09</td>\n",
       "    </tr>\n",
       "    <tr>\n",
       "      <th>11</th>\n",
       "      <td>Last Notable Activity_Olark Chat Conversation</td>\n",
       "      <td>1.08</td>\n",
       "    </tr>\n",
       "    <tr>\n",
       "      <th>7</th>\n",
       "      <td>Lead Source_Welingak Website</td>\n",
       "      <td>1.07</td>\n",
       "    </tr>\n",
       "    <tr>\n",
       "      <th>8</th>\n",
       "      <td>Last Notable Activity_Email Link Clicked</td>\n",
       "      <td>1.04</td>\n",
       "    </tr>\n",
       "  </tbody>\n",
       "</table>\n",
       "</div>"
      ],
      "text/plain": [
       "                                         Features   VIF\n",
       "3                            Page Views Per Visit  3.01\n",
       "1                                     TotalVisits  2.75\n",
       "5                          Lead Source_Olark Chat  2.40\n",
       "10                 Last Notable Activity_Modified  1.49\n",
       "9              Last Notable Activity_Email Opened  1.42\n",
       "4                      Lead Source_Direct Traffic  1.41\n",
       "2                     Total Time Spent on Website  1.28\n",
       "6                           Lead Source_Reference  1.27\n",
       "0                                    Do Not Email  1.12\n",
       "12  Last Notable Activity_Page Visited on Website  1.09\n",
       "11  Last Notable Activity_Olark Chat Conversation  1.08\n",
       "7                    Lead Source_Welingak Website  1.07\n",
       "8        Last Notable Activity_Email Link Clicked  1.04"
      ]
     },
     "execution_count": 187,
     "metadata": {},
     "output_type": "execute_result"
    }
   ],
   "source": [
    "check_VIF(X8)"
   ]
  },
  {
   "cell_type": "code",
   "execution_count": 188,
   "id": "973e3906",
   "metadata": {},
   "outputs": [
    {
     "data": {
      "text/plain": [
       "<AxesSubplot:>"
      ]
     },
     "execution_count": 188,
     "metadata": {},
     "output_type": "execute_result"
    },
    {
     "data": {
      "image/png": "[encoded data removed]",
      "text/plain": [
       "<Figure size 1440x720 with 2 Axes>"
      ]
     },
     "metadata": {
      "needs_background": "light"
     },
     "output_type": "display_data"
    }
   ],
   "source": [
    "# To plot correlations\n",
    "plt.figure(figsize = (20,10))  \n",
    "sns.heatmap(X8.corr(),annot = True)"
   ]
  },
  {
   "cell_type": "code",
   "execution_count": 189,
   "id": "3530208f",
   "metadata": {},
   "outputs": [],
   "source": [
    "## From VIF values and heat maps, we can see that there is not much multicollinearity present. All variables have a good value of VIF. These features seem important from the business aspect as well. So we need not drop any more variables and we can proceed with making predictions using this model only."
   ]
  },
  {
   "cell_type": "code",
   "execution_count": 190,
   "id": "7c611a34",
   "metadata": {},
   "outputs": [
    {
     "data": {
      "text/html": [
       "<div>\n",
       "<style scoped>\n",
       "    .dataframe tbody tr th:only-of-type {\n",
       "        vertical-align: middle;\n",
       "    }\n",
       "\n",
       "    .dataframe tbody tr th {\n",
       "        vertical-align: top;\n",
       "    }\n",
       "\n",
       "    .dataframe thead th {\n",
       "        text-align: right;\n",
       "    }\n",
       "</style>\n",
       "<table border=\"1\" class=\"dataframe\">\n",
       "  <thead>\n",
       "    <tr style=\"text-align: right;\">\n",
       "      <th></th>\n",
       "      <th>Converted</th>\n",
       "      <th>Converted_prob</th>\n",
       "      <th>Lead ID</th>\n",
       "      <th>predicted</th>\n",
       "    </tr>\n",
       "  </thead>\n",
       "  <tbody>\n",
       "    <tr>\n",
       "      <th>0</th>\n",
       "      <td>0</td>\n",
       "      <td>0.015696</td>\n",
       "      <td>5279</td>\n",
       "      <td>0</td>\n",
       "    </tr>\n",
       "    <tr>\n",
       "      <th>1</th>\n",
       "      <td>0</td>\n",
       "      <td>0.388064</td>\n",
       "      <td>3099</td>\n",
       "      <td>0</td>\n",
       "    </tr>\n",
       "    <tr>\n",
       "      <th>2</th>\n",
       "      <td>1</td>\n",
       "      <td>0.840964</td>\n",
       "      <td>91</td>\n",
       "      <td>1</td>\n",
       "    </tr>\n",
       "    <tr>\n",
       "      <th>3</th>\n",
       "      <td>1</td>\n",
       "      <td>0.912137</td>\n",
       "      <td>1577</td>\n",
       "      <td>1</td>\n",
       "    </tr>\n",
       "    <tr>\n",
       "      <th>4</th>\n",
       "      <td>0</td>\n",
       "      <td>0.158584</td>\n",
       "      <td>487</td>\n",
       "      <td>0</td>\n",
       "    </tr>\n",
       "  </tbody>\n",
       "</table>\n",
       "</div>"
      ],
      "text/plain": [
       "   Converted  Converted_prob  Lead ID  predicted\n",
       "0          0        0.015696     5279          0\n",
       "1          0        0.388064     3099          0\n",
       "2          1        0.840964       91          1\n",
       "3          1        0.912137     1577          1\n",
       "4          0        0.158584      487          0"
      ]
     },
     "execution_count": 190,
     "metadata": {},
     "output_type": "execute_result"
    }
   ],
   "source": [
    "# To get predicted values on train set\n",
    "y_train_pred_final = get_pred(X8,logm8)\n",
    "y_train_pred_final.head()"
   ]
  },
  {
   "cell_type": "code",
   "execution_count": 191,
   "id": "db95f681",
   "metadata": {},
   "outputs": [
    {
     "name": "stdout",
     "output_type": "stream",
     "text": [
      "Confusion Matrix:\n",
      "[[3249  445]\n",
      " [ 756 1461]]\n",
      "Training Accuracy:  0.7968194890881407\n"
     ]
    }
   ],
   "source": [
    "# Confusion Matrix and accuracy\n",
    "confusion = conf_mat(y_train_pred_final.Converted,y_train_pred_final.predicted)"
   ]
  },
  {
   "cell_type": "code",
   "execution_count": 193,
   "id": "24abb6a5",
   "metadata": {},
   "outputs": [],
   "source": [
    "#This is our final model:\n",
    "\n",
    "#All p-values are very close to zero.\n",
    "#VIFs for all features are very low. There is hardly any multicollinearity present.\n",
    "#Training accuracy around 80% at a probability is  good."
   ]
  },
  {
   "cell_type": "code",
   "execution_count": 194,
   "id": "dfeab0f7",
   "metadata": {},
   "outputs": [
    {
     "name": "stdout",
     "output_type": "stream",
     "text": [
      "Sensitivity:  0.6589986468200271\n",
      "Specificity:  0.8795343800757985\n",
      "False postive rate - predicting the lead conversion when the lead does not convert:  0.1204656199242014\n",
      "Positive predictive value:  0.7665267576075551\n",
      "Negative predictive value:  0.8112359550561797\n"
     ]
    }
   ],
   "source": [
    "other_metrics(confusion)"
   ]
  },
  {
   "cell_type": "markdown",
   "id": "27f33f6b",
   "metadata": {},
   "source": [
    "## Plotting the ROC Curve\n"
   ]
  },
  {
   "cell_type": "code",
   "execution_count": 197,
   "id": "792003b0",
   "metadata": {},
   "outputs": [],
   "source": [
    "#n ROC curve demonstrates several things:\n",
    "\n",
    "#It shows the tradeoff between sensitivity and specificity (any increase in sensitivity will be accompanied by a decrease in specificity).\n",
    "#The closer the curve follows the left-hand border and then the top border of the ROC space, the more accurate the test.\n",
    "#The closer the curve comes to the 45-degree diagonal of the ROC space, the less accurate the test."
   ]
  },
  {
   "cell_type": "code",
   "execution_count": 198,
   "id": "5910610d",
   "metadata": {},
   "outputs": [],
   "source": [
    "# Function to plot ROC\n",
    "def plot_roc(actual,probs):\n",
    "    fpr, tpr, thresholds = metrics.roc_curve(actual, probs, drop_intermediate = False)\n",
    "    auc_score = metrics.roc_auc_score(actual, probs)\n",
    "    plt.figure(figsize=(5, 5))\n",
    "    plt.plot(fpr, tpr, label='ROC curve (area = %0.2f)' % auc_score)\n",
    "    plt.plot([0, 1], [0, 1], 'k--')\n",
    "    plt.xlim([0.0, 1.0])\n",
    "    plt.ylim([0.0, 1.05])\n",
    "    plt.xlabel('False Positive Rate or [1 - True Negative Rate]')\n",
    "    plt.ylabel('True Positive Rate')\n",
    "    plt.title('Receiver operating characteristic example')\n",
    "    plt.legend(loc=\"lower right\")\n",
    "    plt.show()"
   ]
  },
  {
   "cell_type": "code",
   "execution_count": 199,
   "id": "c9eeeda6",
   "metadata": {},
   "outputs": [],
   "source": [
    "fpr, tpr, thresholds = metrics.roc_curve(y_train_pred_final.Converted, y_train_pred_final.Converted_prob, drop_intermediate = False)"
   ]
  },
  {
   "cell_type": "code",
   "execution_count": 200,
   "id": "d62636ac",
   "metadata": {},
   "outputs": [
    {
     "data": {
      "image/png": "[encoded data removed]",
      "text/plain": [
       "<Figure size 360x360 with 1 Axes>"
      ]
     },
     "metadata": {
      "needs_background": "light"
     },
     "output_type": "display_data"
    }
   ],
   "source": [
    "# To plot ROC\n",
    "plot_roc(y_train_pred_final.Converted, y_train_pred_final.Converted_prob)"
   ]
  },
  {
   "cell_type": "code",
   "execution_count": 201,
   "id": "384d3a53",
   "metadata": {},
   "outputs": [
    {
     "name": "stdout",
     "output_type": "stream",
     "text": [
      "Area under curve:  0.8597517851303568\n"
     ]
    }
   ],
   "source": [
    "print(\"Area under curve: \", metrics.roc_auc_score(y_train_pred_final.Converted, y_train_pred_final.Converted_prob))"
   ]
  },
  {
   "cell_type": "code",
   "execution_count": 202,
   "id": "75185af7",
   "metadata": {},
   "outputs": [],
   "source": [
    "#Area under curve (auc) is approximately 0.86 which is close to ideal auc of 1."
   ]
  },
  {
   "cell_type": "code",
   "execution_count": 203,
   "id": "52299de4",
   "metadata": {},
   "outputs": [
    {
     "data": {
      "text/html": [
       "<div>\n",
       "<style scoped>\n",
       "    .dataframe tbody tr th:only-of-type {\n",
       "        vertical-align: middle;\n",
       "    }\n",
       "\n",
       "    .dataframe tbody tr th {\n",
       "        vertical-align: top;\n",
       "    }\n",
       "\n",
       "    .dataframe thead th {\n",
       "        text-align: right;\n",
       "    }\n",
       "</style>\n",
       "<table border=\"1\" class=\"dataframe\">\n",
       "  <thead>\n",
       "    <tr style=\"text-align: right;\">\n",
       "      <th></th>\n",
       "      <th>Converted</th>\n",
       "      <th>Converted_prob</th>\n",
       "      <th>Lead ID</th>\n",
       "      <th>predicted</th>\n",
       "      <th>0.0</th>\n",
       "      <th>0.1</th>\n",
       "      <th>0.2</th>\n",
       "      <th>0.3</th>\n",
       "      <th>0.4</th>\n",
       "      <th>0.5</th>\n",
       "      <th>0.6</th>\n",
       "      <th>0.7</th>\n",
       "      <th>0.8</th>\n",
       "      <th>0.9</th>\n",
       "    </tr>\n",
       "  </thead>\n",
       "  <tbody>\n",
       "    <tr>\n",
       "      <th>0</th>\n",
       "      <td>0</td>\n",
       "      <td>0.015696</td>\n",
       "      <td>5279</td>\n",
       "      <td>0</td>\n",
       "      <td>1</td>\n",
       "      <td>0</td>\n",
       "      <td>0</td>\n",
       "      <td>0</td>\n",
       "      <td>0</td>\n",
       "      <td>0</td>\n",
       "      <td>0</td>\n",
       "      <td>0</td>\n",
       "      <td>0</td>\n",
       "      <td>0</td>\n",
       "    </tr>\n",
       "    <tr>\n",
       "      <th>1</th>\n",
       "      <td>0</td>\n",
       "      <td>0.388064</td>\n",
       "      <td>3099</td>\n",
       "      <td>0</td>\n",
       "      <td>1</td>\n",
       "      <td>1</td>\n",
       "      <td>1</td>\n",
       "      <td>1</td>\n",
       "      <td>0</td>\n",
       "      <td>0</td>\n",
       "      <td>0</td>\n",
       "      <td>0</td>\n",
       "      <td>0</td>\n",
       "      <td>0</td>\n",
       "    </tr>\n",
       "    <tr>\n",
       "      <th>2</th>\n",
       "      <td>1</td>\n",
       "      <td>0.840964</td>\n",
       "      <td>91</td>\n",
       "      <td>1</td>\n",
       "      <td>1</td>\n",
       "      <td>1</td>\n",
       "      <td>1</td>\n",
       "      <td>1</td>\n",
       "      <td>1</td>\n",
       "      <td>1</td>\n",
       "      <td>1</td>\n",
       "      <td>1</td>\n",
       "      <td>1</td>\n",
       "      <td>0</td>\n",
       "    </tr>\n",
       "    <tr>\n",
       "      <th>3</th>\n",
       "      <td>1</td>\n",
       "      <td>0.912137</td>\n",
       "      <td>1577</td>\n",
       "      <td>1</td>\n",
       "      <td>1</td>\n",
       "      <td>1</td>\n",
       "      <td>1</td>\n",
       "      <td>1</td>\n",
       "      <td>1</td>\n",
       "      <td>1</td>\n",
       "      <td>1</td>\n",
       "      <td>1</td>\n",
       "      <td>1</td>\n",
       "      <td>1</td>\n",
       "    </tr>\n",
       "    <tr>\n",
       "      <th>4</th>\n",
       "      <td>0</td>\n",
       "      <td>0.158584</td>\n",
       "      <td>487</td>\n",
       "      <td>0</td>\n",
       "      <td>1</td>\n",
       "      <td>1</td>\n",
       "      <td>0</td>\n",
       "      <td>0</td>\n",
       "      <td>0</td>\n",
       "      <td>0</td>\n",
       "      <td>0</td>\n",
       "      <td>0</td>\n",
       "      <td>0</td>\n",
       "      <td>0</td>\n",
       "    </tr>\n",
       "  </tbody>\n",
       "</table>\n",
       "</div>"
      ],
      "text/plain": [
       "   Converted  Converted_prob  Lead ID  predicted  0.0  0.1  0.2  0.3  0.4  \\\n",
       "0          0        0.015696     5279          0    1    0    0    0    0   \n",
       "1          0        0.388064     3099          0    1    1    1    1    0   \n",
       "2          1        0.840964       91          1    1    1    1    1    1   \n",
       "3          1        0.912137     1577          1    1    1    1    1    1   \n",
       "4          0        0.158584      487          0    1    1    0    0    0   \n",
       "\n",
       "   0.5  0.6  0.7  0.8  0.9  \n",
       "0    0    0    0    0    0  \n",
       "1    0    0    0    0    0  \n",
       "2    1    1    1    1    0  \n",
       "3    1    1    1    1    1  \n",
       "4    0    0    0    0    0  "
      ]
     },
     "execution_count": 203,
     "metadata": {},
     "output_type": "execute_result"
    }
   ],
   "source": [
    "# Finding Optimal Cutoff Point\n",
    "# To create columns with different probability cutoffs \n",
    "numbers = [float(x)/10 for x in range(10)]\n",
    "for i in numbers:\n",
    "    y_train_pred_final[i]= y_train_pred_final.Converted_prob.map(lambda x: 1 if x > i else 0)\n",
    "y_train_pred_final.head()"
   ]
  },
  {
   "cell_type": "code",
   "execution_count": 204,
   "id": "27787b34",
   "metadata": {},
   "outputs": [
    {
     "name": "stdout",
     "output_type": "stream",
     "text": [
      "     prob  accuracy     sensi     speci\n",
      "0.0   0.0  0.375063  1.000000  0.000000\n",
      "0.1   0.1  0.516664  0.972485  0.243097\n",
      "0.2   0.2  0.734055  0.896707  0.636437\n",
      "0.3   0.3  0.790222  0.817321  0.773958\n",
      "0.4   0.4  0.794959  0.743347  0.825934\n",
      "0.5   0.5  0.796819  0.658999  0.879534\n",
      "0.6   0.6  0.776011  0.529995  0.923660\n",
      "0.7   0.7  0.761969  0.451962  0.948024\n",
      "0.8   0.8  0.737269  0.352729  0.968056\n",
      "0.9   0.9  0.690408  0.196211  0.987006\n"
     ]
    }
   ],
   "source": [
    "# To calculate accuracy, sensitivity and specificity for various probability cutoffs\n",
    "cutoff_df = pd.DataFrame(columns = ['prob','accuracy','sensi','speci'])\n",
    "\n",
    "# TP = confusion[1,1]    # True positive \n",
    "# TN = confusion[0,0]    # True negatives\n",
    "# FP = confusion[0,1]    # False positives\n",
    "# FN = confusion[1,0]    # False negatives\n",
    "\n",
    "num = [0.0,0.1,0.2,0.3,0.4,0.5,0.6,0.7,0.8,0.9]\n",
    "for i in num:\n",
    "    cm1 = metrics.confusion_matrix(y_train_pred_final.Converted, y_train_pred_final[i] )\n",
    "    total1=sum(sum(cm1))\n",
    "    accuracy = (cm1[0,0]+cm1[1,1])/total1\n",
    "    \n",
    "    speci = cm1[0,0]/(cm1[0,0]+cm1[0,1])\n",
    "    sensi = cm1[1,1]/(cm1[1,0]+cm1[1,1])\n",
    "    cutoff_df.loc[i] =[ i ,accuracy,sensi,speci]\n",
    "print(cutoff_df)"
   ]
  },
  {
   "cell_type": "code",
   "execution_count": 205,
   "id": "ff08e829",
   "metadata": {},
   "outputs": [
    {
     "data": {
      "image/png": "[encoded data removed]",
      "text/plain": [
       "<Figure size 432x288 with 1 Axes>"
      ]
     },
     "metadata": {},
     "output_type": "display_data"
    }
   ],
   "source": [
    "# To plot accuracy, sensitivity and specificity for various probabilities\n",
    "sns.set_style('white')\n",
    "cutoff_df.plot.line(x='prob', y=['accuracy','sensi','speci'])\n",
    "plt.show()"
   ]
  },
  {
   "cell_type": "code",
   "execution_count": 206,
   "id": "97ba42f2",
   "metadata": {},
   "outputs": [],
   "source": [
    "# From the curve above, 0.3 is the optimum point to take as a cutoff probability."
   ]
  },
  {
   "cell_type": "code",
   "execution_count": 207,
   "id": "18885049",
   "metadata": {},
   "outputs": [
    {
     "data": {
      "text/html": [
       "<div>\n",
       "<style scoped>\n",
       "    .dataframe tbody tr th:only-of-type {\n",
       "        vertical-align: middle;\n",
       "    }\n",
       "\n",
       "    .dataframe tbody tr th {\n",
       "        vertical-align: top;\n",
       "    }\n",
       "\n",
       "    .dataframe thead th {\n",
       "        text-align: right;\n",
       "    }\n",
       "</style>\n",
       "<table border=\"1\" class=\"dataframe\">\n",
       "  <thead>\n",
       "    <tr style=\"text-align: right;\">\n",
       "      <th></th>\n",
       "      <th>Converted</th>\n",
       "      <th>Converted_prob</th>\n",
       "      <th>Lead ID</th>\n",
       "      <th>predicted</th>\n",
       "      <th>0.0</th>\n",
       "      <th>0.1</th>\n",
       "      <th>0.2</th>\n",
       "      <th>0.3</th>\n",
       "      <th>0.4</th>\n",
       "      <th>0.5</th>\n",
       "      <th>0.6</th>\n",
       "      <th>0.7</th>\n",
       "      <th>0.8</th>\n",
       "      <th>0.9</th>\n",
       "      <th>final_predicted</th>\n",
       "    </tr>\n",
       "  </thead>\n",
       "  <tbody>\n",
       "    <tr>\n",
       "      <th>0</th>\n",
       "      <td>0</td>\n",
       "      <td>0.015696</td>\n",
       "      <td>5279</td>\n",
       "      <td>0</td>\n",
       "      <td>1</td>\n",
       "      <td>0</td>\n",
       "      <td>0</td>\n",
       "      <td>0</td>\n",
       "      <td>0</td>\n",
       "      <td>0</td>\n",
       "      <td>0</td>\n",
       "      <td>0</td>\n",
       "      <td>0</td>\n",
       "      <td>0</td>\n",
       "      <td>0</td>\n",
       "    </tr>\n",
       "    <tr>\n",
       "      <th>1</th>\n",
       "      <td>0</td>\n",
       "      <td>0.388064</td>\n",
       "      <td>3099</td>\n",
       "      <td>0</td>\n",
       "      <td>1</td>\n",
       "      <td>1</td>\n",
       "      <td>1</td>\n",
       "      <td>1</td>\n",
       "      <td>0</td>\n",
       "      <td>0</td>\n",
       "      <td>0</td>\n",
       "      <td>0</td>\n",
       "      <td>0</td>\n",
       "      <td>0</td>\n",
       "      <td>0</td>\n",
       "    </tr>\n",
       "    <tr>\n",
       "      <th>2</th>\n",
       "      <td>1</td>\n",
       "      <td>0.840964</td>\n",
       "      <td>91</td>\n",
       "      <td>1</td>\n",
       "      <td>1</td>\n",
       "      <td>1</td>\n",
       "      <td>1</td>\n",
       "      <td>1</td>\n",
       "      <td>1</td>\n",
       "      <td>1</td>\n",
       "      <td>1</td>\n",
       "      <td>1</td>\n",
       "      <td>1</td>\n",
       "      <td>0</td>\n",
       "      <td>1</td>\n",
       "    </tr>\n",
       "    <tr>\n",
       "      <th>3</th>\n",
       "      <td>1</td>\n",
       "      <td>0.912137</td>\n",
       "      <td>1577</td>\n",
       "      <td>1</td>\n",
       "      <td>1</td>\n",
       "      <td>1</td>\n",
       "      <td>1</td>\n",
       "      <td>1</td>\n",
       "      <td>1</td>\n",
       "      <td>1</td>\n",
       "      <td>1</td>\n",
       "      <td>1</td>\n",
       "      <td>1</td>\n",
       "      <td>1</td>\n",
       "      <td>1</td>\n",
       "    </tr>\n",
       "    <tr>\n",
       "      <th>4</th>\n",
       "      <td>0</td>\n",
       "      <td>0.158584</td>\n",
       "      <td>487</td>\n",
       "      <td>0</td>\n",
       "      <td>1</td>\n",
       "      <td>1</td>\n",
       "      <td>0</td>\n",
       "      <td>0</td>\n",
       "      <td>0</td>\n",
       "      <td>0</td>\n",
       "      <td>0</td>\n",
       "      <td>0</td>\n",
       "      <td>0</td>\n",
       "      <td>0</td>\n",
       "      <td>0</td>\n",
       "    </tr>\n",
       "  </tbody>\n",
       "</table>\n",
       "</div>"
      ],
      "text/plain": [
       "   Converted  Converted_prob  Lead ID  predicted  0.0  0.1  0.2  0.3  0.4  \\\n",
       "0          0        0.015696     5279          0    1    0    0    0    0   \n",
       "1          0        0.388064     3099          0    1    1    1    1    0   \n",
       "2          1        0.840964       91          1    1    1    1    1    1   \n",
       "3          1        0.912137     1577          1    1    1    1    1    1   \n",
       "4          0        0.158584      487          0    1    1    0    0    0   \n",
       "\n",
       "   0.5  0.6  0.7  0.8  0.9  final_predicted  \n",
       "0    0    0    0    0    0                0  \n",
       "1    0    0    0    0    0                0  \n",
       "2    1    1    1    1    0                1  \n",
       "3    1    1    1    1    1                1  \n",
       "4    0    0    0    0    0                0  "
      ]
     },
     "execution_count": 207,
     "metadata": {},
     "output_type": "execute_result"
    }
   ],
   "source": [
    "# Using 0.3 threshold for predictions\n",
    "y_train_pred_final['final_predicted'] = y_train_pred_final.Converted_prob.map(lambda x: 1 if x > 0.4 else 0)\n",
    "\n",
    "y_train_pred_final.head()"
   ]
  },
  {
   "cell_type": "code",
   "execution_count": 208,
   "id": "40955d4c",
   "metadata": {},
   "outputs": [
    {
     "name": "stdout",
     "output_type": "stream",
     "text": [
      "Confusion Matrix:\n",
      "[[3051  643]\n",
      " [ 569 1648]]\n",
      "Training Accuracy:  0.7949585518524784\n"
     ]
    }
   ],
   "source": [
    "# Confusion matrix and Overall Accuracy\n",
    "confusion2 = conf_mat(y_train_pred_final.Converted,y_train_pred_final.final_predicted)"
   ]
  },
  {
   "cell_type": "code",
   "execution_count": 209,
   "id": "698e1ca5",
   "metadata": {},
   "outputs": [
    {
     "name": "stdout",
     "output_type": "stream",
     "text": [
      "Sensitivity:  0.7433468651330627\n",
      "Specificity:  0.8259339469409854\n",
      "False postive rate - predicting the lead conversion when the lead does not convert:  0.17406605305901462\n",
      "Positive predictive value:  0.7193365342645133\n",
      "Negative predictive value:  0.842817679558011\n"
     ]
    }
   ],
   "source": [
    "# Other metrics\n",
    "other_metrics(confusion2)"
   ]
  },
  {
   "cell_type": "code",
   "execution_count": 210,
   "id": "2d1f8b4e",
   "metadata": {},
   "outputs": [
    {
     "name": "stdout",
     "output_type": "stream",
     "text": [
      "              precision    recall  f1-score   support\n",
      "\n",
      "           0       0.84      0.83      0.83      3694\n",
      "           1       0.72      0.74      0.73      2217\n",
      "\n",
      "    accuracy                           0.79      5911\n",
      "   macro avg       0.78      0.78      0.78      5911\n",
      "weighted avg       0.80      0.79      0.80      5911\n",
      "\n"
     ]
    }
   ],
   "source": [
    "from sklearn.metrics import classification_report\n",
    "\n",
    "print(classification_report(y_train_pred_final.Converted, y_train_pred_final.final_predicted))"
   ]
  },
  {
   "cell_type": "code",
   "execution_count": 212,
   "id": "151715af",
   "metadata": {},
   "outputs": [
    {
     "data": {
      "text/plain": [
       "0.7665267576075551"
      ]
     },
     "execution_count": 212,
     "metadata": {},
     "output_type": "execute_result"
    }
   ],
   "source": [
    "#Precision = TP / TP + FP\n",
    "confusion[1,1]/(confusion[0,1]+confusion[1,1])"
   ]
  },
  {
   "cell_type": "code",
   "execution_count": 213,
   "id": "937f1030",
   "metadata": {},
   "outputs": [
    {
     "data": {
      "text/plain": [
       "0.6589986468200271"
      ]
     },
     "execution_count": 213,
     "metadata": {},
     "output_type": "execute_result"
    }
   ],
   "source": [
    "#Recall = TP / TP + FN\n",
    "confusion[1,1]/(confusion[1,0]+confusion[1,1])"
   ]
  },
  {
   "cell_type": "code",
   "execution_count": 214,
   "id": "2b316670",
   "metadata": {},
   "outputs": [],
   "source": [
    "from sklearn.metrics import precision_score, recall_score"
   ]
  },
  {
   "cell_type": "code",
   "execution_count": 215,
   "id": "143974ad",
   "metadata": {},
   "outputs": [
    {
     "data": {
      "text/plain": [
       "0.7665267576075551"
      ]
     },
     "execution_count": 215,
     "metadata": {},
     "output_type": "execute_result"
    }
   ],
   "source": [
    "precision_score(y_train_pred_final.Converted, y_train_pred_final.predicted)"
   ]
  },
  {
   "cell_type": "code",
   "execution_count": 216,
   "id": "acb331de",
   "metadata": {},
   "outputs": [
    {
     "data": {
      "text/plain": [
       "0.6589986468200271"
      ]
     },
     "execution_count": 216,
     "metadata": {},
     "output_type": "execute_result"
    }
   ],
   "source": [
    "recall_score(y_train_pred_final.Converted, y_train_pred_final.predicted)"
   ]
  },
  {
   "cell_type": "code",
   "execution_count": 217,
   "id": "e4277c62",
   "metadata": {},
   "outputs": [],
   "source": [
    "from sklearn.metrics import precision_recall_curve"
   ]
  },
  {
   "cell_type": "code",
   "execution_count": 218,
   "id": "a99df97b",
   "metadata": {},
   "outputs": [],
   "source": [
    "p, r, thresholds = precision_recall_curve(y_train_pred_final.Converted, y_train_pred_final.Converted_prob)"
   ]
  },
  {
   "cell_type": "code",
   "execution_count": 219,
   "id": "0eb66d0f",
   "metadata": {},
   "outputs": [
    {
     "data": {
      "image/png": "[encoded data removed]",
      "text/plain": [
       "<Figure size 432x288 with 1 Axes>"
      ]
     },
     "metadata": {},
     "output_type": "display_data"
    }
   ],
   "source": [
    "# To plot precision vs recall for different thresholds\n",
    "plt.plot(thresholds, p[:-1], \"g-\")\n",
    "plt.plot(thresholds, r[:-1], \"r-\")\n",
    "plt.show()"
   ]
  },
  {
   "cell_type": "code",
   "execution_count": 220,
   "id": "7c1d8208",
   "metadata": {},
   "outputs": [],
   "source": [
    "# From the curve above, 0.4 is the optimum point to take as a cutoff probability using Precision-Recall. We can check our accuracy using this cutoff too."
   ]
  },
  {
   "cell_type": "code",
   "execution_count": 221,
   "id": "73eb422b",
   "metadata": {},
   "outputs": [
    {
     "data": {
      "text/html": [
       "<div>\n",
       "<style scoped>\n",
       "    .dataframe tbody tr th:only-of-type {\n",
       "        vertical-align: middle;\n",
       "    }\n",
       "\n",
       "    .dataframe tbody tr th {\n",
       "        vertical-align: top;\n",
       "    }\n",
       "\n",
       "    .dataframe thead th {\n",
       "        text-align: right;\n",
       "    }\n",
       "</style>\n",
       "<table border=\"1\" class=\"dataframe\">\n",
       "  <thead>\n",
       "    <tr style=\"text-align: right;\">\n",
       "      <th></th>\n",
       "      <th>Converted</th>\n",
       "      <th>Converted_prob</th>\n",
       "      <th>Lead ID</th>\n",
       "      <th>predicted</th>\n",
       "      <th>0.0</th>\n",
       "      <th>0.1</th>\n",
       "      <th>0.2</th>\n",
       "      <th>0.3</th>\n",
       "      <th>0.4</th>\n",
       "      <th>0.5</th>\n",
       "      <th>0.6</th>\n",
       "      <th>0.7</th>\n",
       "      <th>0.8</th>\n",
       "      <th>0.9</th>\n",
       "      <th>final_predicted</th>\n",
       "      <th>final_predicted_pr</th>\n",
       "    </tr>\n",
       "  </thead>\n",
       "  <tbody>\n",
       "    <tr>\n",
       "      <th>0</th>\n",
       "      <td>0</td>\n",
       "      <td>0.015696</td>\n",
       "      <td>5279</td>\n",
       "      <td>0</td>\n",
       "      <td>1</td>\n",
       "      <td>0</td>\n",
       "      <td>0</td>\n",
       "      <td>0</td>\n",
       "      <td>0</td>\n",
       "      <td>0</td>\n",
       "      <td>0</td>\n",
       "      <td>0</td>\n",
       "      <td>0</td>\n",
       "      <td>0</td>\n",
       "      <td>0</td>\n",
       "      <td>0</td>\n",
       "    </tr>\n",
       "    <tr>\n",
       "      <th>1</th>\n",
       "      <td>0</td>\n",
       "      <td>0.388064</td>\n",
       "      <td>3099</td>\n",
       "      <td>0</td>\n",
       "      <td>1</td>\n",
       "      <td>1</td>\n",
       "      <td>1</td>\n",
       "      <td>1</td>\n",
       "      <td>0</td>\n",
       "      <td>0</td>\n",
       "      <td>0</td>\n",
       "      <td>0</td>\n",
       "      <td>0</td>\n",
       "      <td>0</td>\n",
       "      <td>0</td>\n",
       "      <td>0</td>\n",
       "    </tr>\n",
       "    <tr>\n",
       "      <th>2</th>\n",
       "      <td>1</td>\n",
       "      <td>0.840964</td>\n",
       "      <td>91</td>\n",
       "      <td>1</td>\n",
       "      <td>1</td>\n",
       "      <td>1</td>\n",
       "      <td>1</td>\n",
       "      <td>1</td>\n",
       "      <td>1</td>\n",
       "      <td>1</td>\n",
       "      <td>1</td>\n",
       "      <td>1</td>\n",
       "      <td>1</td>\n",
       "      <td>0</td>\n",
       "      <td>1</td>\n",
       "      <td>1</td>\n",
       "    </tr>\n",
       "    <tr>\n",
       "      <th>3</th>\n",
       "      <td>1</td>\n",
       "      <td>0.912137</td>\n",
       "      <td>1577</td>\n",
       "      <td>1</td>\n",
       "      <td>1</td>\n",
       "      <td>1</td>\n",
       "      <td>1</td>\n",
       "      <td>1</td>\n",
       "      <td>1</td>\n",
       "      <td>1</td>\n",
       "      <td>1</td>\n",
       "      <td>1</td>\n",
       "      <td>1</td>\n",
       "      <td>1</td>\n",
       "      <td>1</td>\n",
       "      <td>1</td>\n",
       "    </tr>\n",
       "    <tr>\n",
       "      <th>4</th>\n",
       "      <td>0</td>\n",
       "      <td>0.158584</td>\n",
       "      <td>487</td>\n",
       "      <td>0</td>\n",
       "      <td>1</td>\n",
       "      <td>1</td>\n",
       "      <td>0</td>\n",
       "      <td>0</td>\n",
       "      <td>0</td>\n",
       "      <td>0</td>\n",
       "      <td>0</td>\n",
       "      <td>0</td>\n",
       "      <td>0</td>\n",
       "      <td>0</td>\n",
       "      <td>0</td>\n",
       "      <td>0</td>\n",
       "    </tr>\n",
       "  </tbody>\n",
       "</table>\n",
       "</div>"
      ],
      "text/plain": [
       "   Converted  Converted_prob  Lead ID  predicted  0.0  0.1  0.2  0.3  0.4  \\\n",
       "0          0        0.015696     5279          0    1    0    0    0    0   \n",
       "1          0        0.388064     3099          0    1    1    1    1    0   \n",
       "2          1        0.840964       91          1    1    1    1    1    1   \n",
       "3          1        0.912137     1577          1    1    1    1    1    1   \n",
       "4          0        0.158584      487          0    1    1    0    0    0   \n",
       "\n",
       "   0.5  0.6  0.7  0.8  0.9  final_predicted  final_predicted_pr  \n",
       "0    0    0    0    0    0                0                   0  \n",
       "1    0    0    0    0    0                0                   0  \n",
       "2    1    1    1    1    0                1                   1  \n",
       "3    1    1    1    1    1                1                   1  \n",
       "4    0    0    0    0    0                0                   0  "
      ]
     },
     "execution_count": 221,
     "metadata": {},
     "output_type": "execute_result"
    }
   ],
   "source": [
    "# Using 0.25 threshold for predictions\n",
    "y_train_pred_final['final_predicted_pr'] = y_train_pred_final.Converted_prob.map(lambda x: 1 if x > 0.4 else 0)\n",
    "\n",
    "y_train_pred_final.head()"
   ]
  },
  {
   "cell_type": "code",
   "execution_count": 222,
   "id": "4a830537",
   "metadata": {},
   "outputs": [
    {
     "name": "stdout",
     "output_type": "stream",
     "text": [
      "Confusion Matrix:\n",
      "[[3051  643]\n",
      " [ 569 1648]]\n",
      "Training Accuracy:  0.7949585518524784\n"
     ]
    }
   ],
   "source": [
    "# Confusion matrix and overall accuracy\n",
    "confusion3 = conf_mat(y_train_pred_final.Converted,y_train_pred_final.final_predicted_pr)"
   ]
  },
  {
   "cell_type": "code",
   "execution_count": 223,
   "id": "bcc90fd8",
   "metadata": {},
   "outputs": [
    {
     "name": "stdout",
     "output_type": "stream",
     "text": [
      "Sensitivity:  0.7433468651330627\n",
      "Specificity:  0.8259339469409854\n",
      "False postive rate - predicting the lead conversion when the lead does not convert:  0.17406605305901462\n",
      "Positive predictive value:  0.7193365342645133\n",
      "Negative predictive value:  0.842817679558011\n"
     ]
    }
   ],
   "source": [
    "# Other metrics\n",
    "other_metrics(confusion3)"
   ]
  },
  {
   "cell_type": "markdown",
   "id": "b88b7bda",
   "metadata": {},
   "source": [
    "### Predictions on the Test Set"
   ]
  },
  {
   "cell_type": "code",
   "execution_count": 226,
   "id": "019aa79b",
   "metadata": {},
   "outputs": [
    {
     "data": {
      "text/html": [
       "<div>\n",
       "<style scoped>\n",
       "    .dataframe tbody tr th:only-of-type {\n",
       "        vertical-align: middle;\n",
       "    }\n",
       "\n",
       "    .dataframe tbody tr th {\n",
       "        vertical-align: top;\n",
       "    }\n",
       "\n",
       "    .dataframe thead th {\n",
       "        text-align: right;\n",
       "    }\n",
       "</style>\n",
       "<table border=\"1\" class=\"dataframe\">\n",
       "  <thead>\n",
       "    <tr style=\"text-align: right;\">\n",
       "      <th></th>\n",
       "      <th>Lead Number</th>\n",
       "      <th>Do Not Email</th>\n",
       "      <th>Do Not Call</th>\n",
       "      <th>TotalVisits</th>\n",
       "      <th>Total Time Spent on Website</th>\n",
       "      <th>Page Views Per Visit</th>\n",
       "      <th>Search</th>\n",
       "      <th>Newspaper Article</th>\n",
       "      <th>X Education Forums</th>\n",
       "      <th>Newspaper</th>\n",
       "      <th>...</th>\n",
       "      <th>Last Notable Activity_Form Submitted on Website</th>\n",
       "      <th>Last Notable Activity_Had a Phone Conversation</th>\n",
       "      <th>Last Notable Activity_Modified</th>\n",
       "      <th>Last Notable Activity_Olark Chat Conversation</th>\n",
       "      <th>Last Notable Activity_Page Visited on Website</th>\n",
       "      <th>Last Notable Activity_Resubscribed to emails</th>\n",
       "      <th>Last Notable Activity_SMS Sent</th>\n",
       "      <th>Last Notable Activity_Unreachable</th>\n",
       "      <th>Last Notable Activity_Unsubscribed</th>\n",
       "      <th>Last Notable Activity_View in browser link Clicked</th>\n",
       "    </tr>\n",
       "  </thead>\n",
       "  <tbody>\n",
       "    <tr>\n",
       "      <th>1926</th>\n",
       "      <td>641025</td>\n",
       "      <td>0</td>\n",
       "      <td>0</td>\n",
       "      <td>-1.208529</td>\n",
       "      <td>-0.863745</td>\n",
       "      <td>-1.272379</td>\n",
       "      <td>0</td>\n",
       "      <td>0</td>\n",
       "      <td>0</td>\n",
       "      <td>0</td>\n",
       "      <td>...</td>\n",
       "      <td>0</td>\n",
       "      <td>0</td>\n",
       "      <td>0</td>\n",
       "      <td>0</td>\n",
       "      <td>0</td>\n",
       "      <td>0</td>\n",
       "      <td>0</td>\n",
       "      <td>0</td>\n",
       "      <td>0</td>\n",
       "      <td>0</td>\n",
       "    </tr>\n",
       "    <tr>\n",
       "      <th>5654</th>\n",
       "      <td>606606</td>\n",
       "      <td>0</td>\n",
       "      <td>0</td>\n",
       "      <td>-1.208529</td>\n",
       "      <td>-0.863745</td>\n",
       "      <td>-1.272379</td>\n",
       "      <td>0</td>\n",
       "      <td>0</td>\n",
       "      <td>0</td>\n",
       "      <td>0</td>\n",
       "      <td>...</td>\n",
       "      <td>0</td>\n",
       "      <td>0</td>\n",
       "      <td>1</td>\n",
       "      <td>0</td>\n",
       "      <td>0</td>\n",
       "      <td>0</td>\n",
       "      <td>0</td>\n",
       "      <td>0</td>\n",
       "      <td>0</td>\n",
       "      <td>0</td>\n",
       "    </tr>\n",
       "    <tr>\n",
       "      <th>1209</th>\n",
       "      <td>647084</td>\n",
       "      <td>0</td>\n",
       "      <td>0</td>\n",
       "      <td>-0.344173</td>\n",
       "      <td>-0.484469</td>\n",
       "      <td>-0.059080</td>\n",
       "      <td>0</td>\n",
       "      <td>0</td>\n",
       "      <td>0</td>\n",
       "      <td>0</td>\n",
       "      <td>...</td>\n",
       "      <td>0</td>\n",
       "      <td>0</td>\n",
       "      <td>0</td>\n",
       "      <td>0</td>\n",
       "      <td>0</td>\n",
       "      <td>0</td>\n",
       "      <td>0</td>\n",
       "      <td>0</td>\n",
       "      <td>0</td>\n",
       "      <td>0</td>\n",
       "    </tr>\n",
       "    <tr>\n",
       "      <th>5234</th>\n",
       "      <td>609618</td>\n",
       "      <td>0</td>\n",
       "      <td>0</td>\n",
       "      <td>-0.344173</td>\n",
       "      <td>-0.090536</td>\n",
       "      <td>-0.059080</td>\n",
       "      <td>0</td>\n",
       "      <td>0</td>\n",
       "      <td>0</td>\n",
       "      <td>0</td>\n",
       "      <td>...</td>\n",
       "      <td>0</td>\n",
       "      <td>0</td>\n",
       "      <td>0</td>\n",
       "      <td>0</td>\n",
       "      <td>0</td>\n",
       "      <td>0</td>\n",
       "      <td>0</td>\n",
       "      <td>0</td>\n",
       "      <td>0</td>\n",
       "      <td>0</td>\n",
       "    </tr>\n",
       "    <tr>\n",
       "      <th>8497</th>\n",
       "      <td>584840</td>\n",
       "      <td>0</td>\n",
       "      <td>0</td>\n",
       "      <td>-0.344173</td>\n",
       "      <td>-0.478973</td>\n",
       "      <td>-0.059080</td>\n",
       "      <td>0</td>\n",
       "      <td>0</td>\n",
       "      <td>0</td>\n",
       "      <td>0</td>\n",
       "      <td>...</td>\n",
       "      <td>0</td>\n",
       "      <td>0</td>\n",
       "      <td>1</td>\n",
       "      <td>0</td>\n",
       "      <td>0</td>\n",
       "      <td>0</td>\n",
       "      <td>0</td>\n",
       "      <td>0</td>\n",
       "      <td>0</td>\n",
       "      <td>0</td>\n",
       "    </tr>\n",
       "  </tbody>\n",
       "</table>\n",
       "<p>5 rows × 87 columns</p>\n",
       "</div>"
      ],
      "text/plain": [
       "      Lead Number  Do Not Email  Do Not Call  TotalVisits  \\\n",
       "1926       641025             0            0    -1.208529   \n",
       "5654       606606             0            0    -1.208529   \n",
       "1209       647084             0            0    -0.344173   \n",
       "5234       609618             0            0    -0.344173   \n",
       "8497       584840             0            0    -0.344173   \n",
       "\n",
       "      Total Time Spent on Website  Page Views Per Visit  Search  \\\n",
       "1926                    -0.863745             -1.272379       0   \n",
       "5654                    -0.863745             -1.272379       0   \n",
       "1209                    -0.484469             -0.059080       0   \n",
       "5234                    -0.090536             -0.059080       0   \n",
       "8497                    -0.478973             -0.059080       0   \n",
       "\n",
       "      Newspaper Article  X Education Forums  Newspaper  ...  \\\n",
       "1926                  0                   0          0  ...   \n",
       "5654                  0                   0          0  ...   \n",
       "1209                  0                   0          0  ...   \n",
       "5234                  0                   0          0  ...   \n",
       "8497                  0                   0          0  ...   \n",
       "\n",
       "      Last Notable Activity_Form Submitted on Website  \\\n",
       "1926                                                0   \n",
       "5654                                                0   \n",
       "1209                                                0   \n",
       "5234                                                0   \n",
       "8497                                                0   \n",
       "\n",
       "      Last Notable Activity_Had a Phone Conversation  \\\n",
       "1926                                               0   \n",
       "5654                                               0   \n",
       "1209                                               0   \n",
       "5234                                               0   \n",
       "8497                                               0   \n",
       "\n",
       "      Last Notable Activity_Modified  \\\n",
       "1926                               0   \n",
       "5654                               1   \n",
       "1209                               0   \n",
       "5234                               0   \n",
       "8497                               1   \n",
       "\n",
       "      Last Notable Activity_Olark Chat Conversation  \\\n",
       "1926                                              0   \n",
       "5654                                              0   \n",
       "1209                                              0   \n",
       "5234                                              0   \n",
       "8497                                              0   \n",
       "\n",
       "      Last Notable Activity_Page Visited on Website  \\\n",
       "1926                                              0   \n",
       "5654                                              0   \n",
       "1209                                              0   \n",
       "5234                                              0   \n",
       "8497                                              0   \n",
       "\n",
       "      Last Notable Activity_Resubscribed to emails  \\\n",
       "1926                                             0   \n",
       "5654                                             0   \n",
       "1209                                             0   \n",
       "5234                                             0   \n",
       "8497                                             0   \n",
       "\n",
       "      Last Notable Activity_SMS Sent  Last Notable Activity_Unreachable  \\\n",
       "1926                               0                                  0   \n",
       "5654                               0                                  0   \n",
       "1209                               0                                  0   \n",
       "5234                               0                                  0   \n",
       "8497                               0                                  0   \n",
       "\n",
       "      Last Notable Activity_Unsubscribed  \\\n",
       "1926                                   0   \n",
       "5654                                   0   \n",
       "1209                                   0   \n",
       "5234                                   0   \n",
       "8497                                   0   \n",
       "\n",
       "      Last Notable Activity_View in browser link Clicked  \n",
       "1926                                                  0   \n",
       "5654                                                  0   \n",
       "1209                                                  0   \n",
       "5234                                                  0   \n",
       "8497                                                  0   \n",
       "\n",
       "[5 rows x 87 columns]"
      ]
     },
     "execution_count": 226,
     "metadata": {},
     "output_type": "execute_result"
    }
   ],
   "source": [
    "# Feature transform on Test set\n",
    "X_test[numeric_variables] = scaler.fit_transform(X_test[numeric_variables])\n",
    "X_test.head()"
   ]
  },
  {
   "cell_type": "code",
   "execution_count": 228,
   "id": "518c5efb",
   "metadata": {},
   "outputs": [],
   "source": [
    "# To get final features\n",
    "X_test_sm = X_test[col7]"
   ]
  },
  {
   "cell_type": "code",
   "execution_count": 229,
   "id": "d583907c",
   "metadata": {},
   "outputs": [],
   "source": [
    "# To add a constant\n",
    "X_test_sm = sm.add_constant(X_test_sm)"
   ]
  },
  {
   "cell_type": "code",
   "execution_count": 230,
   "id": "c1c1089a",
   "metadata": {},
   "outputs": [
    {
     "data": {
      "text/plain": [
       "1926    0.252613\n",
       "5654    0.145452\n",
       "1209    0.137161\n",
       "5234    0.196068\n",
       "8497    0.074530\n",
       "1918    0.130219\n",
       "7405    0.352613\n",
       "6561    0.033414\n",
       "5492    0.840923\n",
       "7851    0.529094\n",
       "dtype: float64"
      ]
     },
     "execution_count": 230,
     "metadata": {},
     "output_type": "execute_result"
    }
   ],
   "source": [
    "# Making predictions\n",
    "y_test_pred = logm8.predict(X_test_sm)\n",
    "\n",
    "y_test_pred[:10]"
   ]
  },
  {
   "cell_type": "code",
   "execution_count": 231,
   "id": "06f03359",
   "metadata": {},
   "outputs": [
    {
     "data": {
      "text/html": [
       "<div>\n",
       "<style scoped>\n",
       "    .dataframe tbody tr th:only-of-type {\n",
       "        vertical-align: middle;\n",
       "    }\n",
       "\n",
       "    .dataframe tbody tr th {\n",
       "        vertical-align: top;\n",
       "    }\n",
       "\n",
       "    .dataframe thead th {\n",
       "        text-align: right;\n",
       "    }\n",
       "</style>\n",
       "<table border=\"1\" class=\"dataframe\">\n",
       "  <thead>\n",
       "    <tr style=\"text-align: right;\">\n",
       "      <th></th>\n",
       "      <th>0</th>\n",
       "    </tr>\n",
       "  </thead>\n",
       "  <tbody>\n",
       "    <tr>\n",
       "      <th>1926</th>\n",
       "      <td>0.252613</td>\n",
       "    </tr>\n",
       "    <tr>\n",
       "      <th>5654</th>\n",
       "      <td>0.145452</td>\n",
       "    </tr>\n",
       "    <tr>\n",
       "      <th>1209</th>\n",
       "      <td>0.137161</td>\n",
       "    </tr>\n",
       "    <tr>\n",
       "      <th>5234</th>\n",
       "      <td>0.196068</td>\n",
       "    </tr>\n",
       "    <tr>\n",
       "      <th>8497</th>\n",
       "      <td>0.074530</td>\n",
       "    </tr>\n",
       "  </tbody>\n",
       "</table>\n",
       "</div>"
      ],
      "text/plain": [
       "             0\n",
       "1926  0.252613\n",
       "5654  0.145452\n",
       "1209  0.137161\n",
       "5234  0.196068\n",
       "8497  0.074530"
      ]
     },
     "execution_count": 231,
     "metadata": {},
     "output_type": "execute_result"
    }
   ],
   "source": [
    "# To convert y_pred to a dataframe which is an array\n",
    "y_pred_1 = pd.DataFrame(y_test_pred)\n",
    "\n",
    "y_pred_1.head()"
   ]
  },
  {
   "cell_type": "code",
   "execution_count": 232,
   "id": "f04d83e3",
   "metadata": {},
   "outputs": [],
   "source": [
    "# To convert y_test to dataframe\n",
    "y_test_df = pd.DataFrame(y_test)"
   ]
  },
  {
   "cell_type": "code",
   "execution_count": 233,
   "id": "4f853a7e",
   "metadata": {},
   "outputs": [],
   "source": [
    "# Putting Lead ID to index\n",
    "y_test_df['Lead ID'] = y_test_df.index"
   ]
  },
  {
   "cell_type": "code",
   "execution_count": 234,
   "id": "845c1be7",
   "metadata": {},
   "outputs": [],
   "source": [
    "# To remove index for both dataframes to append them side by side \n",
    "y_pred_1.reset_index(drop=True, inplace=True)\n",
    "y_test_df.reset_index(drop=True, inplace=True)"
   ]
  },
  {
   "cell_type": "code",
   "execution_count": 235,
   "id": "56bc2114",
   "metadata": {},
   "outputs": [
    {
     "data": {
      "text/html": [
       "<div>\n",
       "<style scoped>\n",
       "    .dataframe tbody tr th:only-of-type {\n",
       "        vertical-align: middle;\n",
       "    }\n",
       "\n",
       "    .dataframe tbody tr th {\n",
       "        vertical-align: top;\n",
       "    }\n",
       "\n",
       "    .dataframe thead th {\n",
       "        text-align: right;\n",
       "    }\n",
       "</style>\n",
       "<table border=\"1\" class=\"dataframe\">\n",
       "  <thead>\n",
       "    <tr style=\"text-align: right;\">\n",
       "      <th></th>\n",
       "      <th>Converted</th>\n",
       "      <th>Lead ID</th>\n",
       "      <th>0</th>\n",
       "    </tr>\n",
       "  </thead>\n",
       "  <tbody>\n",
       "    <tr>\n",
       "      <th>0</th>\n",
       "      <td>1</td>\n",
       "      <td>1926</td>\n",
       "      <td>0.252613</td>\n",
       "    </tr>\n",
       "    <tr>\n",
       "      <th>1</th>\n",
       "      <td>0</td>\n",
       "      <td>5654</td>\n",
       "      <td>0.145452</td>\n",
       "    </tr>\n",
       "    <tr>\n",
       "      <th>2</th>\n",
       "      <td>0</td>\n",
       "      <td>1209</td>\n",
       "      <td>0.137161</td>\n",
       "    </tr>\n",
       "    <tr>\n",
       "      <th>3</th>\n",
       "      <td>0</td>\n",
       "      <td>5234</td>\n",
       "      <td>0.196068</td>\n",
       "    </tr>\n",
       "    <tr>\n",
       "      <th>4</th>\n",
       "      <td>0</td>\n",
       "      <td>8497</td>\n",
       "      <td>0.074530</td>\n",
       "    </tr>\n",
       "  </tbody>\n",
       "</table>\n",
       "</div>"
      ],
      "text/plain": [
       "   Converted  Lead ID         0\n",
       "0          1     1926  0.252613\n",
       "1          0     5654  0.145452\n",
       "2          0     1209  0.137161\n",
       "3          0     5234  0.196068\n",
       "4          0     8497  0.074530"
      ]
     },
     "execution_count": 235,
     "metadata": {},
     "output_type": "execute_result"
    }
   ],
   "source": [
    "# To append y_test_df and y_pred_1\n",
    "y_pred_final = pd.concat([y_test_df, y_pred_1],axis=1)\n",
    "\n",
    "y_pred_final.head()"
   ]
  },
  {
   "cell_type": "code",
   "execution_count": 236,
   "id": "abc3fd8f",
   "metadata": {},
   "outputs": [
    {
     "data": {
      "text/html": [
       "<div>\n",
       "<style scoped>\n",
       "    .dataframe tbody tr th:only-of-type {\n",
       "        vertical-align: middle;\n",
       "    }\n",
       "\n",
       "    .dataframe tbody tr th {\n",
       "        vertical-align: top;\n",
       "    }\n",
       "\n",
       "    .dataframe thead th {\n",
       "        text-align: right;\n",
       "    }\n",
       "</style>\n",
       "<table border=\"1\" class=\"dataframe\">\n",
       "  <thead>\n",
       "    <tr style=\"text-align: right;\">\n",
       "      <th></th>\n",
       "      <th>Converted</th>\n",
       "      <th>Lead ID</th>\n",
       "      <th>Converted_prob</th>\n",
       "    </tr>\n",
       "  </thead>\n",
       "  <tbody>\n",
       "    <tr>\n",
       "      <th>0</th>\n",
       "      <td>1</td>\n",
       "      <td>1926</td>\n",
       "      <td>0.252613</td>\n",
       "    </tr>\n",
       "    <tr>\n",
       "      <th>1</th>\n",
       "      <td>0</td>\n",
       "      <td>5654</td>\n",
       "      <td>0.145452</td>\n",
       "    </tr>\n",
       "    <tr>\n",
       "      <th>2</th>\n",
       "      <td>0</td>\n",
       "      <td>1209</td>\n",
       "      <td>0.137161</td>\n",
       "    </tr>\n",
       "    <tr>\n",
       "      <th>3</th>\n",
       "      <td>0</td>\n",
       "      <td>5234</td>\n",
       "      <td>0.196068</td>\n",
       "    </tr>\n",
       "    <tr>\n",
       "      <th>4</th>\n",
       "      <td>0</td>\n",
       "      <td>8497</td>\n",
       "      <td>0.074530</td>\n",
       "    </tr>\n",
       "  </tbody>\n",
       "</table>\n",
       "</div>"
      ],
      "text/plain": [
       "   Converted  Lead ID  Converted_prob\n",
       "0          1     1926        0.252613\n",
       "1          0     5654        0.145452\n",
       "2          0     1209        0.137161\n",
       "3          0     5234        0.196068\n",
       "4          0     8497        0.074530"
      ]
     },
     "execution_count": 236,
     "metadata": {},
     "output_type": "execute_result"
    }
   ],
   "source": [
    "# To Rename the column \n",
    "y_pred_final= y_pred_final.rename(columns={ 0 : 'Converted_prob'})\n",
    "\n",
    "y_pred_final.head()"
   ]
  },
  {
   "cell_type": "code",
   "execution_count": 237,
   "id": "10b16641",
   "metadata": {},
   "outputs": [
    {
     "data": {
      "text/html": [
       "<div>\n",
       "<style scoped>\n",
       "    .dataframe tbody tr th:only-of-type {\n",
       "        vertical-align: middle;\n",
       "    }\n",
       "\n",
       "    .dataframe tbody tr th {\n",
       "        vertical-align: top;\n",
       "    }\n",
       "\n",
       "    .dataframe thead th {\n",
       "        text-align: right;\n",
       "    }\n",
       "</style>\n",
       "<table border=\"1\" class=\"dataframe\">\n",
       "  <thead>\n",
       "    <tr style=\"text-align: right;\">\n",
       "      <th></th>\n",
       "      <th>Converted</th>\n",
       "      <th>Lead ID</th>\n",
       "      <th>Converted_prob</th>\n",
       "      <th>final_predicted</th>\n",
       "    </tr>\n",
       "  </thead>\n",
       "  <tbody>\n",
       "    <tr>\n",
       "      <th>0</th>\n",
       "      <td>1</td>\n",
       "      <td>1926</td>\n",
       "      <td>0.252613</td>\n",
       "      <td>0</td>\n",
       "    </tr>\n",
       "    <tr>\n",
       "      <th>1</th>\n",
       "      <td>0</td>\n",
       "      <td>5654</td>\n",
       "      <td>0.145452</td>\n",
       "      <td>0</td>\n",
       "    </tr>\n",
       "    <tr>\n",
       "      <th>2</th>\n",
       "      <td>0</td>\n",
       "      <td>1209</td>\n",
       "      <td>0.137161</td>\n",
       "      <td>0</td>\n",
       "    </tr>\n",
       "    <tr>\n",
       "      <th>3</th>\n",
       "      <td>0</td>\n",
       "      <td>5234</td>\n",
       "      <td>0.196068</td>\n",
       "      <td>0</td>\n",
       "    </tr>\n",
       "    <tr>\n",
       "      <th>4</th>\n",
       "      <td>0</td>\n",
       "      <td>8497</td>\n",
       "      <td>0.074530</td>\n",
       "      <td>0</td>\n",
       "    </tr>\n",
       "  </tbody>\n",
       "</table>\n",
       "</div>"
      ],
      "text/plain": [
       "   Converted  Lead ID  Converted_prob  final_predicted\n",
       "0          1     1926        0.252613                0\n",
       "1          0     5654        0.145452                0\n",
       "2          0     1209        0.137161                0\n",
       "3          0     5234        0.196068                0\n",
       "4          0     8497        0.074530                0"
      ]
     },
     "execution_count": 237,
     "metadata": {},
     "output_type": "execute_result"
    }
   ],
   "source": [
    "# To put the threshold of 0.3 as derived\n",
    "y_pred_final['final_predicted'] = y_pred_final.Converted_prob.map(lambda x: 1 if x > 0.3 else 0)\n",
    "\n",
    "y_pred_final.head()"
   ]
  },
  {
   "cell_type": "code",
   "execution_count": 238,
   "id": "9b71d508",
   "metadata": {},
   "outputs": [
    {
     "name": "stdout",
     "output_type": "stream",
     "text": [
      "Area under curve:  0.8688823886219612\n"
     ]
    }
   ],
   "source": [
    "print(\"Area under curve: \", metrics.roc_auc_score(y_pred_final.Converted, y_pred_final.Converted_prob))"
   ]
  },
  {
   "cell_type": "code",
   "execution_count": 239,
   "id": "1300d91e",
   "metadata": {},
   "outputs": [
    {
     "name": "stdout",
     "output_type": "stream",
     "text": [
      "Confusion Matrix:\n",
      "[[1230  356]\n",
      " [ 161  787]]\n",
      "Training Accuracy:  0.7959747434885557\n"
     ]
    }
   ],
   "source": [
    "\n",
    "# Confusion matrix and overall accuracy\n",
    "confusion_test = conf_mat(y_pred_final.Converted,y_pred_final.final_predicted)"
   ]
  },
  {
   "cell_type": "code",
   "execution_count": 240,
   "id": "64ca0198",
   "metadata": {},
   "outputs": [
    {
     "name": "stdout",
     "output_type": "stream",
     "text": [
      "Sensitivity:  0.830168776371308\n",
      "Specificity:  0.7755359394703657\n",
      "False postive rate - predicting the lead conversion when the lead does not convert:  0.2244640605296343\n",
      "Positive predictive value:  0.6885389326334208\n",
      "Negative predictive value:  0.884255930984903\n"
     ]
    }
   ],
   "source": [
    "# Other metrics\n",
    "other_metrics(confusion_test)"
   ]
  },
  {
   "cell_type": "code",
   "execution_count": 241,
   "id": "187c52f1",
   "metadata": {},
   "outputs": [
    {
     "name": "stdout",
     "output_type": "stream",
     "text": [
      "              precision    recall  f1-score   support\n",
      "\n",
      "           0       0.88      0.78      0.83      1586\n",
      "           1       0.69      0.83      0.75       948\n",
      "\n",
      "    accuracy                           0.80      2534\n",
      "   macro avg       0.79      0.80      0.79      2534\n",
      "weighted avg       0.81      0.80      0.80      2534\n",
      "\n"
     ]
    }
   ],
   "source": [
    "print(classification_report(y_pred_final.Converted, y_pred_final.final_predicted))"
   ]
  },
  {
   "cell_type": "code",
   "execution_count": 244,
   "id": "28a08965",
   "metadata": {},
   "outputs": [
    {
     "data": {
      "text/plain": [
       "Lead Number                                      0.00\n",
       "Do Not Email                                    -1.48\n",
       "TotalVisits                                      0.25\n",
       "Total Time Spent on Website                      1.09\n",
       "Page Views Per Visit                            -0.21\n",
       "Lead Source_Direct Traffic                      -0.27\n",
       "Lead Source_Olark Chat                           0.86\n",
       "Lead Source_Organic Search                      -0.11\n",
       "Lead Source_Reference                            2.39\n",
       "Lead Source_Welingak Website                     4.37\n",
       "Lead Origin_Lead Add Form                        1.87\n",
       "Last Notable Activity_Email Link Clicked        -1.73\n",
       "Last Notable Activity_Email Opened              -1.16\n",
       "Last Notable Activity_Modified                  -1.86\n",
       "Last Notable Activity_Olark Chat Conversation   -3.18\n",
       "Last Notable Activity_Page Visited on Website   -1.74\n",
       "Last Notable Activity_SMS Sent                   0.32\n",
       "dtype: float64"
      ]
     },
     "execution_count": 244,
     "metadata": {},
     "output_type": "execute_result"
    }
   ],
   "source": [
    "# To display features with corrsponding coefficients in final model\n",
    "pd.options.display.float_format = '{:.2f}'.format\n",
    "new_params = logm4.params[1:]\n",
    "new_params"
   ]
  },
  {
   "cell_type": "code",
   "execution_count": 245,
   "id": "a226e309",
   "metadata": {},
   "outputs": [
    {
     "data": {
      "text/plain": [
       "Lead Number                                       0.00\n",
       "Do Not Email                                    -33.94\n",
       "TotalVisits                                       5.74\n",
       "Total Time Spent on Website                      24.91\n",
       "Page Views Per Visit                             -4.88\n",
       "Lead Source_Direct Traffic                       -6.13\n",
       "Lead Source_Olark Chat                           19.74\n",
       "Lead Source_Organic Search                       -2.51\n",
       "Lead Source_Reference                            54.64\n",
       "Lead Source_Welingak Website                    100.00\n",
       "Lead Origin_Lead Add Form                        42.72\n",
       "Last Notable Activity_Email Link Clicked        -39.56\n",
       "Last Notable Activity_Email Opened              -26.51\n",
       "Last Notable Activity_Modified                  -42.44\n",
       "Last Notable Activity_Olark Chat Conversation   -72.72\n",
       "Last Notable Activity_Page Visited on Website   -39.88\n",
       "Last Notable Activity_SMS Sent                    7.31\n",
       "dtype: float64"
      ]
     },
     "execution_count": 245,
     "metadata": {},
     "output_type": "execute_result"
    }
   ],
   "source": [
    "# Relative feature importance\n",
    "feature_importance = new_params\n",
    "feature_importance = 100.0 * (feature_importance / feature_importance.max())\n",
    "feature_importance"
   ]
  },
  {
   "cell_type": "code",
   "execution_count": 246,
   "id": "13168bcf",
   "metadata": {},
   "outputs": [
    {
     "data": {
      "text/plain": [
       "Lead Number                                      14\n",
       "Do Not Email                                     13\n",
       "TotalVisits                                      15\n",
       "Total Time Spent on Website                      11\n",
       "Page Views Per Visit                              1\n",
       "Lead Source_Direct Traffic                       12\n",
       "Lead Source_Olark Chat                            5\n",
       "Lead Source_Organic Search                        4\n",
       "Lead Source_Reference                             7\n",
       "Lead Source_Welingak Website                      0\n",
       "Lead Origin_Lead Add Form                         2\n",
       "Last Notable Activity_Email Link Clicked         16\n",
       "Last Notable Activity_Email Opened                6\n",
       "Last Notable Activity_Modified                    3\n",
       "Last Notable Activity_Olark Chat Conversation    10\n",
       "Last Notable Activity_Page Visited on Website     8\n",
       "Last Notable Activity_SMS Sent                    9\n",
       "dtype: int64"
      ]
     },
     "execution_count": 246,
     "metadata": {},
     "output_type": "execute_result"
    }
   ],
   "source": [
    "# To sort features based on importance\n",
    "sorted_idx = np.argsort(feature_importance,kind='quicksort',order='list of str')\n",
    "sorted_idx"
   ]
  },
  {
   "cell_type": "code",
   "execution_count": 248,
   "id": "222a1199",
   "metadata": {},
   "outputs": [
    {
     "data": {
      "image/png": "[encoded data removed]",
      "text/plain": [
       "<Figure size 576x432 with 1 Axes>"
      ]
     },
     "metadata": {},
     "output_type": "display_data"
    }
   ],
   "source": [
    "# To plot features with their relative importance\n",
    "fig = plt.figure(figsize=(8,6))\n",
    "ax = fig.add_subplot(1, 1, 1)\n",
    "pos = np.arange(sorted_idx.shape[0])\n",
    "ax.barh(pos, feature_importance[sorted_idx])\n",
    "ax.set_yticks(pos)\n",
    "ax.set_yticklabels(np.array(X_train[col3].columns)[sorted_idx], fontsize=12)\n",
    "ax.set_xlabel('Relative Feature Importance', fontsize=12) \n",
    "plt.show()"
   ]
  },
  {
   "cell_type": "markdown",
   "id": "7a03820b",
   "metadata": {},
   "source": [
    "### Conclusion"
   ]
  },
  {
   "cell_type": "code",
   "execution_count": null,
   "id": "58e25d53",
   "metadata": {},
   "outputs": [],
   "source": [
    "#All p-values are very close to zero.\n",
    "#VIFs for all features are very low. There is hardly any multicollinearity present.\n",
    "#The overall testing accuracy is around 80%.\n",
    "# The optimal threshold for the model is 0.3 which is calculated based on tradeoff between sensitivity, specificity and accuracy. According to business needs, this threshold can be changed to increase or decrease a specific metric."
   ]
  }
 ],
 "metadata": {
  "kernelspec": {
   "display_name": "Python 3 (ipykernel)",
   "language": "python",
   "name": "python3"
  },
  "language_info": {
   "codemirror_mode": {
    "name": "ipython",
    "version": 3
   },
   "file_extension": ".py",
   "mimetype": "text/x-python",
   "name": "python",
   "nbconvert_exporter": "python",
   "pygments_lexer": "ipython3",
   "version": "3.9.12"
  }
 },
 "nbformat": 4,
 "nbformat_minor": 5
}
